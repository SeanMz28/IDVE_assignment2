{
 "cells": [
  {
   "cell_type": "markdown",
   "metadata": {},
   "source": [
    "# IDVE Assignment 2\n",
    "## NBA 2022-23 Season Statistics Analysis\n",
    "\n",
    "**Student Name:** [Your Name]\n",
    "**Student ID:** [Your ID]\n",
    "**Date:** [Date]\n"
   ]
  },
  {
   "cell_type": "markdown",
   "metadata": {},
   "source": [
    "## Setup and Imports\n",
    "\n",
    "Import all necessary libraries for data analysis and visualization."
   ]
  },
  {
   "cell_type": "code",
   "execution_count": 1,
   "metadata": {
    "execution": {
     "iopub.execute_input": "2025-10-27T21:09:12.667728Z",
     "iopub.status.busy": "2025-10-27T21:09:12.666408Z",
     "iopub.status.idle": "2025-10-27T21:09:22.348012Z",
     "shell.execute_reply": "2025-10-27T21:09:22.347052Z"
    }
   },
   "outputs": [
    {
     "name": "stdout",
     "output_type": "stream",
     "text": [
      "All libraries imported successfully!\n"
     ]
    }
   ],
   "source": [
    "# Data manipulation and analysis\n",
    "import time\n",
    "import pandas as pd\n",
    "import numpy as np\n",
    "\n",
    "# Data visualization\n",
    "import matplotlib.pyplot as plt\n",
    "import seaborn as sns\n",
    "\n",
    "# Statistical analysis\n",
    "from scipy import stats\n",
    "from minisom import MiniSom\n",
    "from sklearn.manifold import TSNE\n",
    "from sklearn.cluster import KMeans\n",
    "from sklearn.preprocessing import StandardScaler\n",
    "from sklearn.decomposition import PCA\n",
    "from sklearn.model_selection import train_test_split\n",
    "import joblib\n",
    "\n",
    "import torch\n",
    "import torch.nn as nn\n",
    "from torch.utils.data import TensorDataset, DataLoader\n",
    "\n",
    "# Display settings\n",
    "pd.set_option('display.max_columns', None)\n",
    "pd.set_option('display.max_rows', 100)\n",
    "plt.style.use('seaborn-v0_8-darkgrid')\n",
    "sns.set_palette(\"husl\")\n",
    "\n",
    "# Ignore warnings\n",
    "import warnings\n",
    "warnings.filterwarnings('ignore')\n",
    "\n",
    "print(\"All libraries imported successfully!\")"
   ]
  },
  {
   "cell_type": "markdown",
   "metadata": {},
   "source": [
    "## 1. Data Loading and Initial Exploration\n",
    "\n",
    "Load the NBA 2022-23 statistics dataset and perform initial exploration."
   ]
  },
  {
   "cell_type": "code",
   "execution_count": 2,
   "metadata": {
    "execution": {
     "iopub.execute_input": "2025-10-27T21:09:22.391745Z",
     "iopub.status.busy": "2025-10-27T21:09:22.391348Z",
     "iopub.status.idle": "2025-10-27T21:09:22.404144Z",
     "shell.execute_reply": "2025-10-27T21:09:22.403428Z"
    }
   },
   "outputs": [
    {
     "name": "stdout",
     "output_type": "stream",
     "text": [
      "Dataset shape: (467, 52)\n",
      "Number of players: 467\n",
      "Number of features: 52\n"
     ]
    }
   ],
   "source": [
    "# Load the dataset\n",
    "df = pd.read_csv('nba_2022-23_stats.csv')\n",
    "\n",
    "print(f\"Dataset shape: {df.shape}\")\n",
    "print(f\"Number of players: {df.shape[0]}\")\n",
    "print(f\"Number of features: {df.shape[1]}\")"
   ]
  },
  {
   "cell_type": "code",
   "execution_count": 3,
   "metadata": {
    "execution": {
     "iopub.execute_input": "2025-10-27T21:09:22.406682Z",
     "iopub.status.busy": "2025-10-27T21:09:22.406417Z",
     "iopub.status.idle": "2025-10-27T21:09:22.465424Z",
     "shell.execute_reply": "2025-10-27T21:09:22.464633Z"
    }
   },
   "outputs": [
    {
     "data": {
      "text/html": [
       "<div>\n",
       "<style scoped>\n",
       "    .dataframe tbody tr th:only-of-type {\n",
       "        vertical-align: middle;\n",
       "    }\n",
       "\n",
       "    .dataframe tbody tr th {\n",
       "        vertical-align: top;\n",
       "    }\n",
       "\n",
       "    .dataframe thead th {\n",
       "        text-align: right;\n",
       "    }\n",
       "</style>\n",
       "<table border=\"1\" class=\"dataframe\">\n",
       "  <thead>\n",
       "    <tr style=\"text-align: right;\">\n",
       "      <th></th>\n",
       "      <th>Unnamed: 0</th>\n",
       "      <th>Player Name</th>\n",
       "      <th>Salary</th>\n",
       "      <th>Position</th>\n",
       "      <th>Age</th>\n",
       "      <th>Team</th>\n",
       "      <th>GP</th>\n",
       "      <th>GS</th>\n",
       "      <th>MP</th>\n",
       "      <th>FG</th>\n",
       "      <th>FGA</th>\n",
       "      <th>FG%</th>\n",
       "      <th>3P</th>\n",
       "      <th>3PA</th>\n",
       "      <th>3P%</th>\n",
       "      <th>2P</th>\n",
       "      <th>2PA</th>\n",
       "      <th>2P%</th>\n",
       "      <th>eFG%</th>\n",
       "      <th>FT</th>\n",
       "      <th>FTA</th>\n",
       "      <th>FT%</th>\n",
       "      <th>ORB</th>\n",
       "      <th>DRB</th>\n",
       "      <th>TRB</th>\n",
       "      <th>AST</th>\n",
       "      <th>STL</th>\n",
       "      <th>BLK</th>\n",
       "      <th>TOV</th>\n",
       "      <th>PF</th>\n",
       "      <th>PTS</th>\n",
       "      <th>Total Minutes</th>\n",
       "      <th>PER</th>\n",
       "      <th>TS%</th>\n",
       "      <th>3PAr</th>\n",
       "      <th>FTr</th>\n",
       "      <th>ORB%</th>\n",
       "      <th>DRB%</th>\n",
       "      <th>TRB%</th>\n",
       "      <th>AST%</th>\n",
       "      <th>STL%</th>\n",
       "      <th>BLK%</th>\n",
       "      <th>TOV%</th>\n",
       "      <th>USG%</th>\n",
       "      <th>OWS</th>\n",
       "      <th>DWS</th>\n",
       "      <th>WS</th>\n",
       "      <th>WS/48</th>\n",
       "      <th>OBPM</th>\n",
       "      <th>DBPM</th>\n",
       "      <th>BPM</th>\n",
       "      <th>VORP</th>\n",
       "    </tr>\n",
       "  </thead>\n",
       "  <tbody>\n",
       "    <tr>\n",
       "      <th>0</th>\n",
       "      <td>0</td>\n",
       "      <td>Stephen Curry</td>\n",
       "      <td>48070014</td>\n",
       "      <td>PG</td>\n",
       "      <td>34</td>\n",
       "      <td>GSW</td>\n",
       "      <td>56</td>\n",
       "      <td>56</td>\n",
       "      <td>34.7</td>\n",
       "      <td>10.0</td>\n",
       "      <td>20.2</td>\n",
       "      <td>0.493</td>\n",
       "      <td>4.9</td>\n",
       "      <td>11.4</td>\n",
       "      <td>0.427</td>\n",
       "      <td>5.1</td>\n",
       "      <td>8.8</td>\n",
       "      <td>0.579</td>\n",
       "      <td>0.614</td>\n",
       "      <td>4.6</td>\n",
       "      <td>5.0</td>\n",
       "      <td>0.915</td>\n",
       "      <td>0.7</td>\n",
       "      <td>5.4</td>\n",
       "      <td>6.1</td>\n",
       "      <td>6.3</td>\n",
       "      <td>0.9</td>\n",
       "      <td>0.4</td>\n",
       "      <td>3.2</td>\n",
       "      <td>2.1</td>\n",
       "      <td>29.4</td>\n",
       "      <td>1941</td>\n",
       "      <td>24.1</td>\n",
       "      <td>0.656</td>\n",
       "      <td>0.564</td>\n",
       "      <td>0.248</td>\n",
       "      <td>2.3</td>\n",
       "      <td>16.8</td>\n",
       "      <td>9.7</td>\n",
       "      <td>30.0</td>\n",
       "      <td>1.3</td>\n",
       "      <td>0.9</td>\n",
       "      <td>12.5</td>\n",
       "      <td>31.0</td>\n",
       "      <td>5.8</td>\n",
       "      <td>2.0</td>\n",
       "      <td>7.8</td>\n",
       "      <td>0.192</td>\n",
       "      <td>7.5</td>\n",
       "      <td>0.1</td>\n",
       "      <td>7.5</td>\n",
       "      <td>4.7</td>\n",
       "    </tr>\n",
       "    <tr>\n",
       "      <th>1</th>\n",
       "      <td>1</td>\n",
       "      <td>John Wall</td>\n",
       "      <td>47345760</td>\n",
       "      <td>PG</td>\n",
       "      <td>32</td>\n",
       "      <td>LAC</td>\n",
       "      <td>34</td>\n",
       "      <td>3</td>\n",
       "      <td>22.2</td>\n",
       "      <td>4.1</td>\n",
       "      <td>9.9</td>\n",
       "      <td>0.408</td>\n",
       "      <td>1.0</td>\n",
       "      <td>3.2</td>\n",
       "      <td>0.303</td>\n",
       "      <td>3.1</td>\n",
       "      <td>6.7</td>\n",
       "      <td>0.459</td>\n",
       "      <td>0.457</td>\n",
       "      <td>2.3</td>\n",
       "      <td>3.3</td>\n",
       "      <td>0.681</td>\n",
       "      <td>0.4</td>\n",
       "      <td>2.3</td>\n",
       "      <td>2.7</td>\n",
       "      <td>5.2</td>\n",
       "      <td>0.8</td>\n",
       "      <td>0.4</td>\n",
       "      <td>2.4</td>\n",
       "      <td>1.7</td>\n",
       "      <td>11.4</td>\n",
       "      <td>755</td>\n",
       "      <td>13.6</td>\n",
       "      <td>0.498</td>\n",
       "      <td>0.322</td>\n",
       "      <td>0.334</td>\n",
       "      <td>2.1</td>\n",
       "      <td>11.4</td>\n",
       "      <td>6.8</td>\n",
       "      <td>35.3</td>\n",
       "      <td>1.8</td>\n",
       "      <td>1.4</td>\n",
       "      <td>17.1</td>\n",
       "      <td>27.0</td>\n",
       "      <td>-0.4</td>\n",
       "      <td>0.7</td>\n",
       "      <td>0.3</td>\n",
       "      <td>0.020</td>\n",
       "      <td>-0.8</td>\n",
       "      <td>-0.4</td>\n",
       "      <td>-1.2</td>\n",
       "      <td>0.1</td>\n",
       "    </tr>\n",
       "    <tr>\n",
       "      <th>2</th>\n",
       "      <td>2</td>\n",
       "      <td>Russell Westbrook</td>\n",
       "      <td>47080179</td>\n",
       "      <td>PG</td>\n",
       "      <td>34</td>\n",
       "      <td>LAL/LAC</td>\n",
       "      <td>73</td>\n",
       "      <td>24</td>\n",
       "      <td>29.1</td>\n",
       "      <td>5.9</td>\n",
       "      <td>13.6</td>\n",
       "      <td>0.436</td>\n",
       "      <td>1.2</td>\n",
       "      <td>3.9</td>\n",
       "      <td>0.311</td>\n",
       "      <td>4.7</td>\n",
       "      <td>9.7</td>\n",
       "      <td>0.487</td>\n",
       "      <td>0.481</td>\n",
       "      <td>2.8</td>\n",
       "      <td>4.3</td>\n",
       "      <td>0.656</td>\n",
       "      <td>1.2</td>\n",
       "      <td>4.6</td>\n",
       "      <td>5.8</td>\n",
       "      <td>7.5</td>\n",
       "      <td>1.0</td>\n",
       "      <td>0.5</td>\n",
       "      <td>3.5</td>\n",
       "      <td>2.2</td>\n",
       "      <td>15.9</td>\n",
       "      <td>2126</td>\n",
       "      <td>16.1</td>\n",
       "      <td>0.513</td>\n",
       "      <td>0.289</td>\n",
       "      <td>0.317</td>\n",
       "      <td>4.7</td>\n",
       "      <td>16.5</td>\n",
       "      <td>10.8</td>\n",
       "      <td>38.6</td>\n",
       "      <td>1.7</td>\n",
       "      <td>1.3</td>\n",
       "      <td>18.4</td>\n",
       "      <td>27.7</td>\n",
       "      <td>-0.6</td>\n",
       "      <td>2.6</td>\n",
       "      <td>1.9</td>\n",
       "      <td>0.044</td>\n",
       "      <td>0.3</td>\n",
       "      <td>-0.1</td>\n",
       "      <td>0.2</td>\n",
       "      <td>1.2</td>\n",
       "    </tr>\n",
       "    <tr>\n",
       "      <th>3</th>\n",
       "      <td>3</td>\n",
       "      <td>LeBron James</td>\n",
       "      <td>44474988</td>\n",
       "      <td>PF</td>\n",
       "      <td>38</td>\n",
       "      <td>LAL</td>\n",
       "      <td>55</td>\n",
       "      <td>54</td>\n",
       "      <td>35.5</td>\n",
       "      <td>11.1</td>\n",
       "      <td>22.2</td>\n",
       "      <td>0.500</td>\n",
       "      <td>2.2</td>\n",
       "      <td>6.9</td>\n",
       "      <td>0.321</td>\n",
       "      <td>8.9</td>\n",
       "      <td>15.3</td>\n",
       "      <td>0.580</td>\n",
       "      <td>0.549</td>\n",
       "      <td>4.6</td>\n",
       "      <td>5.9</td>\n",
       "      <td>0.768</td>\n",
       "      <td>1.2</td>\n",
       "      <td>7.1</td>\n",
       "      <td>8.3</td>\n",
       "      <td>6.8</td>\n",
       "      <td>0.9</td>\n",
       "      <td>0.6</td>\n",
       "      <td>3.2</td>\n",
       "      <td>1.6</td>\n",
       "      <td>28.9</td>\n",
       "      <td>1954</td>\n",
       "      <td>23.9</td>\n",
       "      <td>0.583</td>\n",
       "      <td>0.309</td>\n",
       "      <td>0.268</td>\n",
       "      <td>3.7</td>\n",
       "      <td>20.8</td>\n",
       "      <td>12.5</td>\n",
       "      <td>33.5</td>\n",
       "      <td>1.2</td>\n",
       "      <td>1.4</td>\n",
       "      <td>11.6</td>\n",
       "      <td>33.3</td>\n",
       "      <td>3.2</td>\n",
       "      <td>2.4</td>\n",
       "      <td>5.6</td>\n",
       "      <td>0.138</td>\n",
       "      <td>5.5</td>\n",
       "      <td>0.6</td>\n",
       "      <td>6.1</td>\n",
       "      <td>4.0</td>\n",
       "    </tr>\n",
       "    <tr>\n",
       "      <th>4</th>\n",
       "      <td>4</td>\n",
       "      <td>Kevin Durant</td>\n",
       "      <td>44119845</td>\n",
       "      <td>PF</td>\n",
       "      <td>34</td>\n",
       "      <td>BRK/PHO</td>\n",
       "      <td>47</td>\n",
       "      <td>47</td>\n",
       "      <td>35.6</td>\n",
       "      <td>10.3</td>\n",
       "      <td>18.3</td>\n",
       "      <td>0.560</td>\n",
       "      <td>2.0</td>\n",
       "      <td>4.9</td>\n",
       "      <td>0.404</td>\n",
       "      <td>8.3</td>\n",
       "      <td>13.4</td>\n",
       "      <td>0.617</td>\n",
       "      <td>0.614</td>\n",
       "      <td>6.5</td>\n",
       "      <td>7.1</td>\n",
       "      <td>0.919</td>\n",
       "      <td>0.4</td>\n",
       "      <td>6.3</td>\n",
       "      <td>6.7</td>\n",
       "      <td>5.0</td>\n",
       "      <td>0.7</td>\n",
       "      <td>1.4</td>\n",
       "      <td>3.3</td>\n",
       "      <td>2.1</td>\n",
       "      <td>29.1</td>\n",
       "      <td>1672</td>\n",
       "      <td>25.9</td>\n",
       "      <td>0.677</td>\n",
       "      <td>0.267</td>\n",
       "      <td>0.387</td>\n",
       "      <td>1.2</td>\n",
       "      <td>19.5</td>\n",
       "      <td>10.5</td>\n",
       "      <td>24.5</td>\n",
       "      <td>1.0</td>\n",
       "      <td>3.4</td>\n",
       "      <td>13.4</td>\n",
       "      <td>30.7</td>\n",
       "      <td>4.7</td>\n",
       "      <td>2.1</td>\n",
       "      <td>6.8</td>\n",
       "      <td>0.194</td>\n",
       "      <td>6.0</td>\n",
       "      <td>1.2</td>\n",
       "      <td>7.1</td>\n",
       "      <td>3.9</td>\n",
       "    </tr>\n",
       "    <tr>\n",
       "      <th>5</th>\n",
       "      <td>5</td>\n",
       "      <td>Bradley Beal</td>\n",
       "      <td>43279250</td>\n",
       "      <td>SG</td>\n",
       "      <td>29</td>\n",
       "      <td>WAS</td>\n",
       "      <td>50</td>\n",
       "      <td>50</td>\n",
       "      <td>33.5</td>\n",
       "      <td>8.9</td>\n",
       "      <td>17.6</td>\n",
       "      <td>0.506</td>\n",
       "      <td>1.s6</td>\n",
       "      <td>4.4</td>\n",
       "      <td>0.365</td>\n",
       "      <td>7.3</td>\n",
       "      <td>13.2</td>\n",
       "      <td>0.552</td>\n",
       "      <td>0.551</td>\n",
       "      <td>3.8</td>\n",
       "      <td>4.6</td>\n",
       "      <td>0.842</td>\n",
       "      <td>0.8</td>\n",
       "      <td>3.1</td>\n",
       "      <td>3.9</td>\n",
       "      <td>5.4</td>\n",
       "      <td>0.9</td>\n",
       "      <td>0.7</td>\n",
       "      <td>2.9</td>\n",
       "      <td>2.1</td>\n",
       "      <td>23.2</td>\n",
       "      <td>1673</td>\n",
       "      <td>19.7</td>\n",
       "      <td>0.593</td>\n",
       "      <td>0.249</td>\n",
       "      <td>0.260</td>\n",
       "      <td>2.8</td>\n",
       "      <td>9.9</td>\n",
       "      <td>6.5</td>\n",
       "      <td>26.6</td>\n",
       "      <td>1.3</td>\n",
       "      <td>1.7</td>\n",
       "      <td>12.9</td>\n",
       "      <td>29.2</td>\n",
       "      <td>2.2</td>\n",
       "      <td>1.2</td>\n",
       "      <td>3.4</td>\n",
       "      <td>0.099</td>\n",
       "      <td>2.9</td>\n",
       "      <td>-1.2</td>\n",
       "      <td>1.8</td>\n",
       "      <td>1.6</td>\n",
       "    </tr>\n",
       "    <tr>\n",
       "      <th>6</th>\n",
       "      <td>6</td>\n",
       "      <td>Kawhi Leonard</td>\n",
       "      <td>42492492</td>\n",
       "      <td>SF</td>\n",
       "      <td>31</td>\n",
       "      <td>LAC</td>\n",
       "      <td>52</td>\n",
       "      <td>50</td>\n",
       "      <td>33.6</td>\n",
       "      <td>8.6</td>\n",
       "      <td>16.8</td>\n",
       "      <td>0.512</td>\n",
       "      <td>2.0</td>\n",
       "      <td>4.8</td>\n",
       "      <td>0.416</td>\n",
       "      <td>6.6</td>\n",
       "      <td>11.9</td>\n",
       "      <td>0.551</td>\n",
       "      <td>0.572</td>\n",
       "      <td>4.7</td>\n",
       "      <td>5.4</td>\n",
       "      <td>0.871</td>\n",
       "      <td>1.1</td>\n",
       "      <td>5.4</td>\n",
       "      <td>6.5</td>\n",
       "      <td>3.9</td>\n",
       "      <td>1.4</td>\n",
       "      <td>0.5</td>\n",
       "      <td>1.7</td>\n",
       "      <td>1.6</td>\n",
       "      <td>23.8</td>\n",
       "      <td>1748</td>\n",
       "      <td>23.9</td>\n",
       "      <td>0.623</td>\n",
       "      <td>0.287</td>\n",
       "      <td>0.320</td>\n",
       "      <td>3.7</td>\n",
       "      <td>17.8</td>\n",
       "      <td>10.8</td>\n",
       "      <td>19.6</td>\n",
       "      <td>2.0</td>\n",
       "      <td>1.4</td>\n",
       "      <td>8.1</td>\n",
       "      <td>27.0</td>\n",
       "      <td>4.9</td>\n",
       "      <td>2.2</td>\n",
       "      <td>7.1</td>\n",
       "      <td>0.194</td>\n",
       "      <td>5.1</td>\n",
       "      <td>0.9</td>\n",
       "      <td>6.1</td>\n",
       "      <td>3.5</td>\n",
       "    </tr>\n",
       "    <tr>\n",
       "      <th>7</th>\n",
       "      <td>7</td>\n",
       "      <td>Paul George</td>\n",
       "      <td>42492492</td>\n",
       "      <td>SF</td>\n",
       "      <td>32</td>\n",
       "      <td>LAC</td>\n",
       "      <td>56</td>\n",
       "      <td>56</td>\n",
       "      <td>34.6</td>\n",
       "      <td>8.2</td>\n",
       "      <td>17.9</td>\n",
       "      <td>0.457</td>\n",
       "      <td>2.8</td>\n",
       "      <td>7.6</td>\n",
       "      <td>0.371</td>\n",
       "      <td>5.4</td>\n",
       "      <td>10.3</td>\n",
       "      <td>0.521</td>\n",
       "      <td>0.536</td>\n",
       "      <td>4.6</td>\n",
       "      <td>5.3</td>\n",
       "      <td>0.871</td>\n",
       "      <td>0.8</td>\n",
       "      <td>5.3</td>\n",
       "      <td>6.1</td>\n",
       "      <td>5.1</td>\n",
       "      <td>1.5</td>\n",
       "      <td>0.4</td>\n",
       "      <td>3.1</td>\n",
       "      <td>2.8</td>\n",
       "      <td>23.8</td>\n",
       "      <td>1939</td>\n",
       "      <td>19.6</td>\n",
       "      <td>0.588</td>\n",
       "      <td>0.424</td>\n",
       "      <td>0.293</td>\n",
       "      <td>2.6</td>\n",
       "      <td>17.0</td>\n",
       "      <td>9.9</td>\n",
       "      <td>24.2</td>\n",
       "      <td>2.1</td>\n",
       "      <td>0.9</td>\n",
       "      <td>13.4</td>\n",
       "      <td>29.5</td>\n",
       "      <td>2.3</td>\n",
       "      <td>2.3</td>\n",
       "      <td>4.6</td>\n",
       "      <td>0.114</td>\n",
       "      <td>2.4</td>\n",
       "      <td>0.3</td>\n",
       "      <td>2.8</td>\n",
       "      <td>2.3</td>\n",
       "    </tr>\n",
       "    <tr>\n",
       "      <th>8</th>\n",
       "      <td>8</td>\n",
       "      <td>Giannis Antetokounmpo</td>\n",
       "      <td>42492492</td>\n",
       "      <td>PF</td>\n",
       "      <td>28</td>\n",
       "      <td>MIL</td>\n",
       "      <td>63</td>\n",
       "      <td>63</td>\n",
       "      <td>32.1</td>\n",
       "      <td>11.2</td>\n",
       "      <td>20.3</td>\n",
       "      <td>0.553</td>\n",
       "      <td>0.7</td>\n",
       "      <td>2.7</td>\n",
       "      <td>0.275</td>\n",
       "      <td>10.5</td>\n",
       "      <td>17.6</td>\n",
       "      <td>0.596</td>\n",
       "      <td>0.572</td>\n",
       "      <td>7.9</td>\n",
       "      <td>12.3</td>\n",
       "      <td>0.645</td>\n",
       "      <td>2.2</td>\n",
       "      <td>9.6</td>\n",
       "      <td>11.8</td>\n",
       "      <td>5.7</td>\n",
       "      <td>0.8</td>\n",
       "      <td>0.8</td>\n",
       "      <td>3.9</td>\n",
       "      <td>3.1</td>\n",
       "      <td>31.1</td>\n",
       "      <td>2024</td>\n",
       "      <td>29.0</td>\n",
       "      <td>0.605</td>\n",
       "      <td>0.134</td>\n",
       "      <td>0.604</td>\n",
       "      <td>7.3</td>\n",
       "      <td>30.0</td>\n",
       "      <td>19.1</td>\n",
       "      <td>33.2</td>\n",
       "      <td>1.2</td>\n",
       "      <td>2.1</td>\n",
       "      <td>13.2</td>\n",
       "      <td>38.8</td>\n",
       "      <td>4.9</td>\n",
       "      <td>3.7</td>\n",
       "      <td>8.6</td>\n",
       "      <td>0.204</td>\n",
       "      <td>5.8</td>\n",
       "      <td>2.7</td>\n",
       "      <td>8.5</td>\n",
       "      <td>5.4</td>\n",
       "    </tr>\n",
       "    <tr>\n",
       "      <th>9</th>\n",
       "      <td>9</td>\n",
       "      <td>Damian Lillard</td>\n",
       "      <td>42492492</td>\n",
       "      <td>PG</td>\n",
       "      <td>32</td>\n",
       "      <td>POR</td>\n",
       "      <td>58</td>\n",
       "      <td>58</td>\n",
       "      <td>36.3</td>\n",
       "      <td>9.6</td>\n",
       "      <td>20.7</td>\n",
       "      <td>0.463</td>\n",
       "      <td>4.2</td>\n",
       "      <td>11.3</td>\n",
       "      <td>0.371</td>\n",
       "      <td>5.4</td>\n",
       "      <td>9.4</td>\n",
       "      <td>0.574</td>\n",
       "      <td>0.564</td>\n",
       "      <td>8.8</td>\n",
       "      <td>9.6</td>\n",
       "      <td>0.914</td>\n",
       "      <td>0.8</td>\n",
       "      <td>4.0</td>\n",
       "      <td>4.8</td>\n",
       "      <td>7.3</td>\n",
       "      <td>0.9</td>\n",
       "      <td>0.3</td>\n",
       "      <td>3.3</td>\n",
       "      <td>1.9</td>\n",
       "      <td>32.2</td>\n",
       "      <td>2107</td>\n",
       "      <td>26.7</td>\n",
       "      <td>0.645</td>\n",
       "      <td>0.547</td>\n",
       "      <td>0.464</td>\n",
       "      <td>2.4</td>\n",
       "      <td>12.8</td>\n",
       "      <td>7.6</td>\n",
       "      <td>35.0</td>\n",
       "      <td>1.2</td>\n",
       "      <td>0.8</td>\n",
       "      <td>11.7</td>\n",
       "      <td>33.8</td>\n",
       "      <td>8.2</td>\n",
       "      <td>0.8</td>\n",
       "      <td>9.0</td>\n",
       "      <td>0.205</td>\n",
       "      <td>8.3</td>\n",
       "      <td>-1.2</td>\n",
       "      <td>7.1</td>\n",
       "      <td>4.9</td>\n",
       "    </tr>\n",
       "  </tbody>\n",
       "</table>\n",
       "</div>"
      ],
      "text/plain": [
       "   Unnamed: 0            Player Name    Salary Position  Age     Team  GP  GS  \\\n",
       "0           0          Stephen Curry  48070014       PG   34      GSW  56  56   \n",
       "1           1              John Wall  47345760       PG   32      LAC  34   3   \n",
       "2           2      Russell Westbrook  47080179       PG   34  LAL/LAC  73  24   \n",
       "3           3           LeBron James  44474988       PF   38      LAL  55  54   \n",
       "4           4           Kevin Durant  44119845       PF   34  BRK/PHO  47  47   \n",
       "5           5           Bradley Beal  43279250       SG   29      WAS  50  50   \n",
       "6           6          Kawhi Leonard  42492492       SF   31      LAC  52  50   \n",
       "7           7            Paul George  42492492       SF   32      LAC  56  56   \n",
       "8           8  Giannis Antetokounmpo  42492492       PF   28      MIL  63  63   \n",
       "9           9         Damian Lillard  42492492       PG   32      POR  58  58   \n",
       "\n",
       "     MP    FG   FGA    FG%    3P   3PA    3P%    2P   2PA    2P%   eFG%   FT  \\\n",
       "0  34.7  10.0  20.2  0.493   4.9  11.4  0.427   5.1   8.8  0.579  0.614  4.6   \n",
       "1  22.2   4.1   9.9  0.408   1.0   3.2  0.303   3.1   6.7  0.459  0.457  2.3   \n",
       "2  29.1   5.9  13.6  0.436   1.2   3.9  0.311   4.7   9.7  0.487  0.481  2.8   \n",
       "3  35.5  11.1  22.2  0.500   2.2   6.9  0.321   8.9  15.3  0.580  0.549  4.6   \n",
       "4  35.6  10.3  18.3  0.560   2.0   4.9  0.404   8.3  13.4  0.617  0.614  6.5   \n",
       "5  33.5   8.9  17.6  0.506  1.s6   4.4  0.365   7.3  13.2  0.552  0.551  3.8   \n",
       "6  33.6   8.6  16.8  0.512   2.0   4.8  0.416   6.6  11.9  0.551  0.572  4.7   \n",
       "7  34.6   8.2  17.9  0.457   2.8   7.6  0.371   5.4  10.3  0.521  0.536  4.6   \n",
       "8  32.1  11.2  20.3  0.553   0.7   2.7  0.275  10.5  17.6  0.596  0.572  7.9   \n",
       "9  36.3   9.6  20.7  0.463   4.2  11.3  0.371   5.4   9.4  0.574  0.564  8.8   \n",
       "\n",
       "    FTA    FT%  ORB  DRB   TRB  AST  STL  BLK  TOV   PF   PTS  Total Minutes  \\\n",
       "0   5.0  0.915  0.7  5.4   6.1  6.3  0.9  0.4  3.2  2.1  29.4           1941   \n",
       "1   3.3  0.681  0.4  2.3   2.7  5.2  0.8  0.4  2.4  1.7  11.4            755   \n",
       "2   4.3  0.656  1.2  4.6   5.8  7.5  1.0  0.5  3.5  2.2  15.9           2126   \n",
       "3   5.9  0.768  1.2  7.1   8.3  6.8  0.9  0.6  3.2  1.6  28.9           1954   \n",
       "4   7.1  0.919  0.4  6.3   6.7  5.0  0.7  1.4  3.3  2.1  29.1           1672   \n",
       "5   4.6  0.842  0.8  3.1   3.9  5.4  0.9  0.7  2.9  2.1  23.2           1673   \n",
       "6   5.4  0.871  1.1  5.4   6.5  3.9  1.4  0.5  1.7  1.6  23.8           1748   \n",
       "7   5.3  0.871  0.8  5.3   6.1  5.1  1.5  0.4  3.1  2.8  23.8           1939   \n",
       "8  12.3  0.645  2.2  9.6  11.8  5.7  0.8  0.8  3.9  3.1  31.1           2024   \n",
       "9   9.6  0.914  0.8  4.0   4.8  7.3  0.9  0.3  3.3  1.9  32.2           2107   \n",
       "\n",
       "    PER    TS%   3PAr    FTr  ORB%  DRB%  TRB%  AST%  STL%  BLK%  TOV%  USG%  \\\n",
       "0  24.1  0.656  0.564  0.248   2.3  16.8   9.7  30.0   1.3   0.9  12.5  31.0   \n",
       "1  13.6  0.498  0.322  0.334   2.1  11.4   6.8  35.3   1.8   1.4  17.1  27.0   \n",
       "2  16.1  0.513  0.289  0.317   4.7  16.5  10.8  38.6   1.7   1.3  18.4  27.7   \n",
       "3  23.9  0.583  0.309  0.268   3.7  20.8  12.5  33.5   1.2   1.4  11.6  33.3   \n",
       "4  25.9  0.677  0.267  0.387   1.2  19.5  10.5  24.5   1.0   3.4  13.4  30.7   \n",
       "5  19.7  0.593  0.249  0.260   2.8   9.9   6.5  26.6   1.3   1.7  12.9  29.2   \n",
       "6  23.9  0.623  0.287  0.320   3.7  17.8  10.8  19.6   2.0   1.4   8.1  27.0   \n",
       "7  19.6  0.588  0.424  0.293   2.6  17.0   9.9  24.2   2.1   0.9  13.4  29.5   \n",
       "8  29.0  0.605  0.134  0.604   7.3  30.0  19.1  33.2   1.2   2.1  13.2  38.8   \n",
       "9  26.7  0.645  0.547  0.464   2.4  12.8   7.6  35.0   1.2   0.8  11.7  33.8   \n",
       "\n",
       "   OWS  DWS   WS  WS/48  OBPM  DBPM  BPM  VORP  \n",
       "0  5.8  2.0  7.8  0.192   7.5   0.1  7.5   4.7  \n",
       "1 -0.4  0.7  0.3  0.020  -0.8  -0.4 -1.2   0.1  \n",
       "2 -0.6  2.6  1.9  0.044   0.3  -0.1  0.2   1.2  \n",
       "3  3.2  2.4  5.6  0.138   5.5   0.6  6.1   4.0  \n",
       "4  4.7  2.1  6.8  0.194   6.0   1.2  7.1   3.9  \n",
       "5  2.2  1.2  3.4  0.099   2.9  -1.2  1.8   1.6  \n",
       "6  4.9  2.2  7.1  0.194   5.1   0.9  6.1   3.5  \n",
       "7  2.3  2.3  4.6  0.114   2.4   0.3  2.8   2.3  \n",
       "8  4.9  3.7  8.6  0.204   5.8   2.7  8.5   5.4  \n",
       "9  8.2  0.8  9.0  0.205   8.3  -1.2  7.1   4.9  "
      ]
     },
     "execution_count": 3,
     "metadata": {},
     "output_type": "execute_result"
    }
   ],
   "source": [
    "# Display first few rows\n",
    "df.head(10)"
   ]
  },
  {
   "cell_type": "code",
   "execution_count": 4,
   "metadata": {
    "execution": {
     "iopub.execute_input": "2025-10-27T21:09:22.467931Z",
     "iopub.status.busy": "2025-10-27T21:09:22.467623Z",
     "iopub.status.idle": "2025-10-27T21:09:22.479297Z",
     "shell.execute_reply": "2025-10-27T21:09:22.478550Z"
    }
   },
   "outputs": [
    {
     "name": "stdout",
     "output_type": "stream",
     "text": [
      "<class 'pandas.core.frame.DataFrame'>\n",
      "RangeIndex: 467 entries, 0 to 466\n",
      "Data columns (total 52 columns):\n",
      " #   Column         Non-Null Count  Dtype  \n",
      "---  ------         --------------  -----  \n",
      " 0   Unnamed: 0     467 non-null    int64  \n",
      " 1   Player Name    467 non-null    object \n",
      " 2   Salary         467 non-null    int64  \n",
      " 3   Position       467 non-null    object \n",
      " 4   Age            467 non-null    int64  \n",
      " 5   Team           467 non-null    object \n",
      " 6   GP             467 non-null    int64  \n",
      " 7   GS             467 non-null    int64  \n",
      " 8   MP             467 non-null    float64\n",
      " 9   FG             467 non-null    float64\n",
      " 10  FGA            467 non-null    float64\n",
      " 11  FG%            466 non-null    float64\n",
      " 12  3P             467 non-null    object \n",
      " 13  3PA            467 non-null    float64\n",
      " 14  3P%            454 non-null    float64\n",
      " 15  2P             467 non-null    float64\n",
      " 16  2PA            467 non-null    float64\n",
      " 17  2P%            463 non-null    float64\n",
      " 18  eFG%           466 non-null    float64\n",
      " 19  FT             467 non-null    float64\n",
      " 20  FTA            467 non-null    float64\n",
      " 21  FT%            444 non-null    float64\n",
      " 22  ORB            467 non-null    float64\n",
      " 23  DRB            467 non-null    float64\n",
      " 24  TRB            467 non-null    float64\n",
      " 25  AST            467 non-null    float64\n",
      " 26  STL            467 non-null    float64\n",
      " 27  BLK            467 non-null    float64\n",
      " 28  TOV            467 non-null    float64\n",
      " 29  PF             467 non-null    float64\n",
      " 30  PTS            467 non-null    float64\n",
      " 31  Total Minutes  467 non-null    int64  \n",
      " 32  PER            467 non-null    float64\n",
      " 33  TS%            466 non-null    float64\n",
      " 34  3PAr           466 non-null    float64\n",
      " 35  FTr            466 non-null    float64\n",
      " 36  ORB%           467 non-null    float64\n",
      " 37  DRB%           467 non-null    float64\n",
      " 38  TRB%           467 non-null    float64\n",
      " 39  AST%           467 non-null    float64\n",
      " 40  STL%           467 non-null    float64\n",
      " 41  BLK%           467 non-null    float64\n",
      " 42  TOV%           467 non-null    float64\n",
      " 43  USG%           467 non-null    float64\n",
      " 44  OWS            467 non-null    float64\n",
      " 45  DWS            467 non-null    float64\n",
      " 46  WS             467 non-null    float64\n",
      " 47  WS/48          467 non-null    float64\n",
      " 48  OBPM           467 non-null    float64\n",
      " 49  DBPM           467 non-null    float64\n",
      " 50  BPM            467 non-null    float64\n",
      " 51  VORP           467 non-null    float64\n",
      "dtypes: float64(42), int64(6), object(4)\n",
      "memory usage: 189.8+ KB\n"
     ]
    }
   ],
   "source": [
    "# Display dataset information\n",
    "df.info()"
   ]
  },
  {
   "cell_type": "code",
   "execution_count": 5,
   "metadata": {
    "execution": {
     "iopub.execute_input": "2025-10-27T21:09:22.481405Z",
     "iopub.status.busy": "2025-10-27T21:09:22.481189Z",
     "iopub.status.idle": "2025-10-27T21:09:22.583377Z",
     "shell.execute_reply": "2025-10-27T21:09:22.582757Z"
    }
   },
   "outputs": [
    {
     "data": {
      "text/html": [
       "<div>\n",
       "<style scoped>\n",
       "    .dataframe tbody tr th:only-of-type {\n",
       "        vertical-align: middle;\n",
       "    }\n",
       "\n",
       "    .dataframe tbody tr th {\n",
       "        vertical-align: top;\n",
       "    }\n",
       "\n",
       "    .dataframe thead th {\n",
       "        text-align: right;\n",
       "    }\n",
       "</style>\n",
       "<table border=\"1\" class=\"dataframe\">\n",
       "  <thead>\n",
       "    <tr style=\"text-align: right;\">\n",
       "      <th></th>\n",
       "      <th>Unnamed: 0</th>\n",
       "      <th>Salary</th>\n",
       "      <th>Age</th>\n",
       "      <th>GP</th>\n",
       "      <th>GS</th>\n",
       "      <th>MP</th>\n",
       "      <th>FG</th>\n",
       "      <th>FGA</th>\n",
       "      <th>FG%</th>\n",
       "      <th>3PA</th>\n",
       "      <th>3P%</th>\n",
       "      <th>2P</th>\n",
       "      <th>2PA</th>\n",
       "      <th>2P%</th>\n",
       "      <th>eFG%</th>\n",
       "      <th>FT</th>\n",
       "      <th>FTA</th>\n",
       "      <th>FT%</th>\n",
       "      <th>ORB</th>\n",
       "      <th>DRB</th>\n",
       "      <th>TRB</th>\n",
       "      <th>AST</th>\n",
       "      <th>STL</th>\n",
       "      <th>BLK</th>\n",
       "      <th>TOV</th>\n",
       "      <th>PF</th>\n",
       "      <th>PTS</th>\n",
       "      <th>Total Minutes</th>\n",
       "      <th>PER</th>\n",
       "      <th>TS%</th>\n",
       "      <th>3PAr</th>\n",
       "      <th>FTr</th>\n",
       "      <th>ORB%</th>\n",
       "      <th>DRB%</th>\n",
       "      <th>TRB%</th>\n",
       "      <th>AST%</th>\n",
       "      <th>STL%</th>\n",
       "      <th>BLK%</th>\n",
       "      <th>TOV%</th>\n",
       "      <th>USG%</th>\n",
       "      <th>OWS</th>\n",
       "      <th>DWS</th>\n",
       "      <th>WS</th>\n",
       "      <th>WS/48</th>\n",
       "      <th>OBPM</th>\n",
       "      <th>DBPM</th>\n",
       "      <th>BPM</th>\n",
       "      <th>VORP</th>\n",
       "    </tr>\n",
       "  </thead>\n",
       "  <tbody>\n",
       "    <tr>\n",
       "      <th>count</th>\n",
       "      <td>467.000000</td>\n",
       "      <td>4.670000e+02</td>\n",
       "      <td>467.000000</td>\n",
       "      <td>467.000000</td>\n",
       "      <td>467.000000</td>\n",
       "      <td>467.000000</td>\n",
       "      <td>467.000000</td>\n",
       "      <td>467.000000</td>\n",
       "      <td>466.000000</td>\n",
       "      <td>467.000000</td>\n",
       "      <td>454.000000</td>\n",
       "      <td>467.000000</td>\n",
       "      <td>467.000000</td>\n",
       "      <td>463.000000</td>\n",
       "      <td>466.000000</td>\n",
       "      <td>467.000000</td>\n",
       "      <td>467.000000</td>\n",
       "      <td>444.000000</td>\n",
       "      <td>467.000000</td>\n",
       "      <td>467.000000</td>\n",
       "      <td>467.000000</td>\n",
       "      <td>467.000000</td>\n",
       "      <td>467.000000</td>\n",
       "      <td>467.000000</td>\n",
       "      <td>467.000000</td>\n",
       "      <td>467.000000</td>\n",
       "      <td>467.000000</td>\n",
       "      <td>467.000000</td>\n",
       "      <td>467.000000</td>\n",
       "      <td>466.000000</td>\n",
       "      <td>466.000000</td>\n",
       "      <td>466.000000</td>\n",
       "      <td>467.000000</td>\n",
       "      <td>467.000000</td>\n",
       "      <td>467.000000</td>\n",
       "      <td>467.000000</td>\n",
       "      <td>467.000000</td>\n",
       "      <td>467.000000</td>\n",
       "      <td>467.000000</td>\n",
       "      <td>467.000000</td>\n",
       "      <td>467.000000</td>\n",
       "      <td>467.000000</td>\n",
       "      <td>467.000000</td>\n",
       "      <td>467.000000</td>\n",
       "      <td>467.000000</td>\n",
       "      <td>467.000000</td>\n",
       "      <td>467.000000</td>\n",
       "      <td>467.000000</td>\n",
       "    </tr>\n",
       "    <tr>\n",
       "      <th>mean</th>\n",
       "      <td>233.000000</td>\n",
       "      <td>8.416599e+06</td>\n",
       "      <td>25.820128</td>\n",
       "      <td>48.233405</td>\n",
       "      <td>22.650964</td>\n",
       "      <td>19.871306</td>\n",
       "      <td>3.351392</td>\n",
       "      <td>7.117773</td>\n",
       "      <td>0.465009</td>\n",
       "      <td>2.792719</td>\n",
       "      <td>0.325090</td>\n",
       "      <td>2.356531</td>\n",
       "      <td>4.325268</td>\n",
       "      <td>0.533464</td>\n",
       "      <td>0.534266</td>\n",
       "      <td>1.435546</td>\n",
       "      <td>1.848394</td>\n",
       "      <td>0.753489</td>\n",
       "      <td>0.866809</td>\n",
       "      <td>2.662099</td>\n",
       "      <td>3.528051</td>\n",
       "      <td>2.107709</td>\n",
       "      <td>0.610493</td>\n",
       "      <td>0.379015</td>\n",
       "      <td>1.114133</td>\n",
       "      <td>1.702784</td>\n",
       "      <td>9.129979</td>\n",
       "      <td>1109.676660</td>\n",
       "      <td>13.279657</td>\n",
       "      <td>0.563024</td>\n",
       "      <td>0.403655</td>\n",
       "      <td>0.249749</td>\n",
       "      <td>5.243469</td>\n",
       "      <td>14.884582</td>\n",
       "      <td>10.061456</td>\n",
       "      <td>13.563812</td>\n",
       "      <td>1.523555</td>\n",
       "      <td>1.832120</td>\n",
       "      <td>12.735974</td>\n",
       "      <td>18.425910</td>\n",
       "      <td>1.208351</td>\n",
       "      <td>1.120557</td>\n",
       "      <td>2.328908</td>\n",
       "      <td>0.081771</td>\n",
       "      <td>-1.344968</td>\n",
       "      <td>-0.087152</td>\n",
       "      <td>-1.432548</td>\n",
       "      <td>0.539829</td>\n",
       "    </tr>\n",
       "    <tr>\n",
       "      <th>std</th>\n",
       "      <td>134.955548</td>\n",
       "      <td>1.070812e+07</td>\n",
       "      <td>4.275113</td>\n",
       "      <td>24.807740</td>\n",
       "      <td>27.094577</td>\n",
       "      <td>9.548684</td>\n",
       "      <td>2.457836</td>\n",
       "      <td>5.020700</td>\n",
       "      <td>0.109547</td>\n",
       "      <td>2.260794</td>\n",
       "      <td>0.131624</td>\n",
       "      <td>1.989397</td>\n",
       "      <td>3.571280</td>\n",
       "      <td>0.136046</td>\n",
       "      <td>0.104584</td>\n",
       "      <td>1.568500</td>\n",
       "      <td>1.896352</td>\n",
       "      <td>0.148659</td>\n",
       "      <td>0.746976</td>\n",
       "      <td>1.707984</td>\n",
       "      <td>2.277160</td>\n",
       "      <td>1.957517</td>\n",
       "      <td>0.399083</td>\n",
       "      <td>0.364387</td>\n",
       "      <td>0.830051</td>\n",
       "      <td>0.776957</td>\n",
       "      <td>6.906006</td>\n",
       "      <td>827.367432</td>\n",
       "      <td>6.230049</td>\n",
       "      <td>0.100741</td>\n",
       "      <td>0.219066</td>\n",
       "      <td>0.186855</td>\n",
       "      <td>4.332254</td>\n",
       "      <td>6.478093</td>\n",
       "      <td>4.671516</td>\n",
       "      <td>8.630677</td>\n",
       "      <td>1.368860</td>\n",
       "      <td>2.524336</td>\n",
       "      <td>7.198533</td>\n",
       "      <td>5.909528</td>\n",
       "      <td>1.765160</td>\n",
       "      <td>0.980478</td>\n",
       "      <td>2.533094</td>\n",
       "      <td>0.088089</td>\n",
       "      <td>3.578193</td>\n",
       "      <td>2.243437</td>\n",
       "      <td>4.925175</td>\n",
       "      <td>1.172960</td>\n",
       "    </tr>\n",
       "    <tr>\n",
       "      <th>min</th>\n",
       "      <td>0.000000</td>\n",
       "      <td>5.849000e+03</td>\n",
       "      <td>19.000000</td>\n",
       "      <td>1.000000</td>\n",
       "      <td>0.000000</td>\n",
       "      <td>1.800000</td>\n",
       "      <td>0.000000</td>\n",
       "      <td>0.000000</td>\n",
       "      <td>0.000000</td>\n",
       "      <td>0.000000</td>\n",
       "      <td>0.000000</td>\n",
       "      <td>0.000000</td>\n",
       "      <td>0.000000</td>\n",
       "      <td>0.000000</td>\n",
       "      <td>0.000000</td>\n",
       "      <td>0.000000</td>\n",
       "      <td>0.000000</td>\n",
       "      <td>0.000000</td>\n",
       "      <td>0.000000</td>\n",
       "      <td>0.000000</td>\n",
       "      <td>0.000000</td>\n",
       "      <td>0.000000</td>\n",
       "      <td>0.000000</td>\n",
       "      <td>0.000000</td>\n",
       "      <td>0.000000</td>\n",
       "      <td>0.000000</td>\n",
       "      <td>0.000000</td>\n",
       "      <td>2.000000</td>\n",
       "      <td>-20.900000</td>\n",
       "      <td>0.000000</td>\n",
       "      <td>0.000000</td>\n",
       "      <td>0.000000</td>\n",
       "      <td>0.000000</td>\n",
       "      <td>0.000000</td>\n",
       "      <td>0.000000</td>\n",
       "      <td>0.000000</td>\n",
       "      <td>0.000000</td>\n",
       "      <td>0.000000</td>\n",
       "      <td>0.000000</td>\n",
       "      <td>5.100000</td>\n",
       "      <td>-1.900000</td>\n",
       "      <td>0.000000</td>\n",
       "      <td>-1.600000</td>\n",
       "      <td>-0.517000</td>\n",
       "      <td>-22.500000</td>\n",
       "      <td>-10.400000</td>\n",
       "      <td>-26.500000</td>\n",
       "      <td>-1.300000</td>\n",
       "    </tr>\n",
       "    <tr>\n",
       "      <th>25%</th>\n",
       "      <td>116.500000</td>\n",
       "      <td>1.782621e+06</td>\n",
       "      <td>23.000000</td>\n",
       "      <td>31.000000</td>\n",
       "      <td>1.000000</td>\n",
       "      <td>12.500000</td>\n",
       "      <td>1.600000</td>\n",
       "      <td>3.300000</td>\n",
       "      <td>0.417000</td>\n",
       "      <td>1.000000</td>\n",
       "      <td>0.288000</td>\n",
       "      <td>0.900000</td>\n",
       "      <td>1.800000</td>\n",
       "      <td>0.487000</td>\n",
       "      <td>0.493750</td>\n",
       "      <td>0.500000</td>\n",
       "      <td>0.600000</td>\n",
       "      <td>0.691000</td>\n",
       "      <td>0.400000</td>\n",
       "      <td>1.400000</td>\n",
       "      <td>1.900000</td>\n",
       "      <td>0.800000</td>\n",
       "      <td>0.300000</td>\n",
       "      <td>0.100000</td>\n",
       "      <td>0.500000</td>\n",
       "      <td>1.200000</td>\n",
       "      <td>4.100000</td>\n",
       "      <td>341.000000</td>\n",
       "      <td>10.100000</td>\n",
       "      <td>0.524000</td>\n",
       "      <td>0.268250</td>\n",
       "      <td>0.143250</td>\n",
       "      <td>2.100000</td>\n",
       "      <td>10.700000</td>\n",
       "      <td>6.750000</td>\n",
       "      <td>7.450000</td>\n",
       "      <td>1.000000</td>\n",
       "      <td>0.700000</td>\n",
       "      <td>9.500000</td>\n",
       "      <td>14.300000</td>\n",
       "      <td>0.000000</td>\n",
       "      <td>0.300000</td>\n",
       "      <td>0.300000</td>\n",
       "      <td>0.047000</td>\n",
       "      <td>-2.900000</td>\n",
       "      <td>-0.900000</td>\n",
       "      <td>-3.300000</td>\n",
       "      <td>-0.100000</td>\n",
       "    </tr>\n",
       "    <tr>\n",
       "      <th>50%</th>\n",
       "      <td>233.000000</td>\n",
       "      <td>3.722040e+06</td>\n",
       "      <td>25.000000</td>\n",
       "      <td>55.000000</td>\n",
       "      <td>8.000000</td>\n",
       "      <td>19.200000</td>\n",
       "      <td>2.700000</td>\n",
       "      <td>5.800000</td>\n",
       "      <td>0.455000</td>\n",
       "      <td>2.400000</td>\n",
       "      <td>0.344500</td>\n",
       "      <td>1.700000</td>\n",
       "      <td>3.200000</td>\n",
       "      <td>0.537000</td>\n",
       "      <td>0.537500</td>\n",
       "      <td>0.900000</td>\n",
       "      <td>1.200000</td>\n",
       "      <td>0.769000</td>\n",
       "      <td>0.700000</td>\n",
       "      <td>2.300000</td>\n",
       "      <td>3.000000</td>\n",
       "      <td>1.400000</td>\n",
       "      <td>0.600000</td>\n",
       "      <td>0.300000</td>\n",
       "      <td>0.900000</td>\n",
       "      <td>1.700000</td>\n",
       "      <td>7.100000</td>\n",
       "      <td>990.000000</td>\n",
       "      <td>13.000000</td>\n",
       "      <td>0.567000</td>\n",
       "      <td>0.409000</td>\n",
       "      <td>0.226000</td>\n",
       "      <td>3.800000</td>\n",
       "      <td>13.500000</td>\n",
       "      <td>9.000000</td>\n",
       "      <td>11.200000</td>\n",
       "      <td>1.400000</td>\n",
       "      <td>1.200000</td>\n",
       "      <td>11.900000</td>\n",
       "      <td>17.600000</td>\n",
       "      <td>0.600000</td>\n",
       "      <td>0.900000</td>\n",
       "      <td>1.500000</td>\n",
       "      <td>0.087000</td>\n",
       "      <td>-1.300000</td>\n",
       "      <td>-0.100000</td>\n",
       "      <td>-1.300000</td>\n",
       "      <td>0.100000</td>\n",
       "    </tr>\n",
       "    <tr>\n",
       "      <th>75%</th>\n",
       "      <td>349.500000</td>\n",
       "      <td>1.063354e+07</td>\n",
       "      <td>29.000000</td>\n",
       "      <td>68.500000</td>\n",
       "      <td>45.500000</td>\n",
       "      <td>28.300000</td>\n",
       "      <td>4.300000</td>\n",
       "      <td>9.400000</td>\n",
       "      <td>0.507500</td>\n",
       "      <td>4.150000</td>\n",
       "      <td>0.387000</td>\n",
       "      <td>3.300000</td>\n",
       "      <td>5.850000</td>\n",
       "      <td>0.594500</td>\n",
       "      <td>0.578000</td>\n",
       "      <td>1.850000</td>\n",
       "      <td>2.350000</td>\n",
       "      <td>0.844000</td>\n",
       "      <td>1.100000</td>\n",
       "      <td>3.500000</td>\n",
       "      <td>4.500000</td>\n",
       "      <td>2.900000</td>\n",
       "      <td>0.800000</td>\n",
       "      <td>0.500000</td>\n",
       "      <td>1.500000</td>\n",
       "      <td>2.200000</td>\n",
       "      <td>11.700000</td>\n",
       "      <td>1842.000000</td>\n",
       "      <td>16.350000</td>\n",
       "      <td>0.610000</td>\n",
       "      <td>0.545750</td>\n",
       "      <td>0.323750</td>\n",
       "      <td>7.100000</td>\n",
       "      <td>18.350000</td>\n",
       "      <td>12.500000</td>\n",
       "      <td>18.000000</td>\n",
       "      <td>1.700000</td>\n",
       "      <td>2.350000</td>\n",
       "      <td>15.000000</td>\n",
       "      <td>21.150000</td>\n",
       "      <td>1.800000</td>\n",
       "      <td>1.800000</td>\n",
       "      <td>3.550000</td>\n",
       "      <td>0.129500</td>\n",
       "      <td>0.450000</td>\n",
       "      <td>0.800000</td>\n",
       "      <td>0.600000</td>\n",
       "      <td>0.800000</td>\n",
       "    </tr>\n",
       "    <tr>\n",
       "      <th>max</th>\n",
       "      <td>466.000000</td>\n",
       "      <td>4.807001e+07</td>\n",
       "      <td>42.000000</td>\n",
       "      <td>83.000000</td>\n",
       "      <td>83.000000</td>\n",
       "      <td>41.000000</td>\n",
       "      <td>11.200000</td>\n",
       "      <td>22.200000</td>\n",
       "      <td>1.000000</td>\n",
       "      <td>11.400000</td>\n",
       "      <td>1.000000</td>\n",
       "      <td>10.500000</td>\n",
       "      <td>17.800000</td>\n",
       "      <td>1.000000</td>\n",
       "      <td>1.000000</td>\n",
       "      <td>10.000000</td>\n",
       "      <td>12.300000</td>\n",
       "      <td>1.000000</td>\n",
       "      <td>5.100000</td>\n",
       "      <td>9.600000</td>\n",
       "      <td>12.500000</td>\n",
       "      <td>10.700000</td>\n",
       "      <td>3.000000</td>\n",
       "      <td>2.500000</td>\n",
       "      <td>4.100000</td>\n",
       "      <td>5.000000</td>\n",
       "      <td>33.100000</td>\n",
       "      <td>2963.000000</td>\n",
       "      <td>65.600000</td>\n",
       "      <td>1.064000</td>\n",
       "      <td>1.000000</td>\n",
       "      <td>2.000000</td>\n",
       "      <td>28.800000</td>\n",
       "      <td>55.400000</td>\n",
       "      <td>29.600000</td>\n",
       "      <td>47.600000</td>\n",
       "      <td>24.200000</td>\n",
       "      <td>44.100000</td>\n",
       "      <td>100.000000</td>\n",
       "      <td>52.500000</td>\n",
       "      <td>9.600000</td>\n",
       "      <td>4.800000</td>\n",
       "      <td>12.600000</td>\n",
       "      <td>0.626000</td>\n",
       "      <td>17.000000</td>\n",
       "      <td>32.700000</td>\n",
       "      <td>48.600000</td>\n",
       "      <td>6.400000</td>\n",
       "    </tr>\n",
       "  </tbody>\n",
       "</table>\n",
       "</div>"
      ],
      "text/plain": [
       "       Unnamed: 0        Salary         Age          GP          GS  \\\n",
       "count  467.000000  4.670000e+02  467.000000  467.000000  467.000000   \n",
       "mean   233.000000  8.416599e+06   25.820128   48.233405   22.650964   \n",
       "std    134.955548  1.070812e+07    4.275113   24.807740   27.094577   \n",
       "min      0.000000  5.849000e+03   19.000000    1.000000    0.000000   \n",
       "25%    116.500000  1.782621e+06   23.000000   31.000000    1.000000   \n",
       "50%    233.000000  3.722040e+06   25.000000   55.000000    8.000000   \n",
       "75%    349.500000  1.063354e+07   29.000000   68.500000   45.500000   \n",
       "max    466.000000  4.807001e+07   42.000000   83.000000   83.000000   \n",
       "\n",
       "               MP          FG         FGA         FG%         3PA         3P%  \\\n",
       "count  467.000000  467.000000  467.000000  466.000000  467.000000  454.000000   \n",
       "mean    19.871306    3.351392    7.117773    0.465009    2.792719    0.325090   \n",
       "std      9.548684    2.457836    5.020700    0.109547    2.260794    0.131624   \n",
       "min      1.800000    0.000000    0.000000    0.000000    0.000000    0.000000   \n",
       "25%     12.500000    1.600000    3.300000    0.417000    1.000000    0.288000   \n",
       "50%     19.200000    2.700000    5.800000    0.455000    2.400000    0.344500   \n",
       "75%     28.300000    4.300000    9.400000    0.507500    4.150000    0.387000   \n",
       "max     41.000000   11.200000   22.200000    1.000000   11.400000    1.000000   \n",
       "\n",
       "               2P         2PA         2P%        eFG%          FT         FTA  \\\n",
       "count  467.000000  467.000000  463.000000  466.000000  467.000000  467.000000   \n",
       "mean     2.356531    4.325268    0.533464    0.534266    1.435546    1.848394   \n",
       "std      1.989397    3.571280    0.136046    0.104584    1.568500    1.896352   \n",
       "min      0.000000    0.000000    0.000000    0.000000    0.000000    0.000000   \n",
       "25%      0.900000    1.800000    0.487000    0.493750    0.500000    0.600000   \n",
       "50%      1.700000    3.200000    0.537000    0.537500    0.900000    1.200000   \n",
       "75%      3.300000    5.850000    0.594500    0.578000    1.850000    2.350000   \n",
       "max     10.500000   17.800000    1.000000    1.000000   10.000000   12.300000   \n",
       "\n",
       "              FT%         ORB         DRB         TRB         AST         STL  \\\n",
       "count  444.000000  467.000000  467.000000  467.000000  467.000000  467.000000   \n",
       "mean     0.753489    0.866809    2.662099    3.528051    2.107709    0.610493   \n",
       "std      0.148659    0.746976    1.707984    2.277160    1.957517    0.399083   \n",
       "min      0.000000    0.000000    0.000000    0.000000    0.000000    0.000000   \n",
       "25%      0.691000    0.400000    1.400000    1.900000    0.800000    0.300000   \n",
       "50%      0.769000    0.700000    2.300000    3.000000    1.400000    0.600000   \n",
       "75%      0.844000    1.100000    3.500000    4.500000    2.900000    0.800000   \n",
       "max      1.000000    5.100000    9.600000   12.500000   10.700000    3.000000   \n",
       "\n",
       "              BLK         TOV          PF         PTS  Total Minutes  \\\n",
       "count  467.000000  467.000000  467.000000  467.000000     467.000000   \n",
       "mean     0.379015    1.114133    1.702784    9.129979    1109.676660   \n",
       "std      0.364387    0.830051    0.776957    6.906006     827.367432   \n",
       "min      0.000000    0.000000    0.000000    0.000000       2.000000   \n",
       "25%      0.100000    0.500000    1.200000    4.100000     341.000000   \n",
       "50%      0.300000    0.900000    1.700000    7.100000     990.000000   \n",
       "75%      0.500000    1.500000    2.200000   11.700000    1842.000000   \n",
       "max      2.500000    4.100000    5.000000   33.100000    2963.000000   \n",
       "\n",
       "              PER         TS%        3PAr         FTr        ORB%        DRB%  \\\n",
       "count  467.000000  466.000000  466.000000  466.000000  467.000000  467.000000   \n",
       "mean    13.279657    0.563024    0.403655    0.249749    5.243469   14.884582   \n",
       "std      6.230049    0.100741    0.219066    0.186855    4.332254    6.478093   \n",
       "min    -20.900000    0.000000    0.000000    0.000000    0.000000    0.000000   \n",
       "25%     10.100000    0.524000    0.268250    0.143250    2.100000   10.700000   \n",
       "50%     13.000000    0.567000    0.409000    0.226000    3.800000   13.500000   \n",
       "75%     16.350000    0.610000    0.545750    0.323750    7.100000   18.350000   \n",
       "max     65.600000    1.064000    1.000000    2.000000   28.800000   55.400000   \n",
       "\n",
       "             TRB%        AST%        STL%        BLK%        TOV%        USG%  \\\n",
       "count  467.000000  467.000000  467.000000  467.000000  467.000000  467.000000   \n",
       "mean    10.061456   13.563812    1.523555    1.832120   12.735974   18.425910   \n",
       "std      4.671516    8.630677    1.368860    2.524336    7.198533    5.909528   \n",
       "min      0.000000    0.000000    0.000000    0.000000    0.000000    5.100000   \n",
       "25%      6.750000    7.450000    1.000000    0.700000    9.500000   14.300000   \n",
       "50%      9.000000   11.200000    1.400000    1.200000   11.900000   17.600000   \n",
       "75%     12.500000   18.000000    1.700000    2.350000   15.000000   21.150000   \n",
       "max     29.600000   47.600000   24.200000   44.100000  100.000000   52.500000   \n",
       "\n",
       "              OWS         DWS          WS       WS/48        OBPM        DBPM  \\\n",
       "count  467.000000  467.000000  467.000000  467.000000  467.000000  467.000000   \n",
       "mean     1.208351    1.120557    2.328908    0.081771   -1.344968   -0.087152   \n",
       "std      1.765160    0.980478    2.533094    0.088089    3.578193    2.243437   \n",
       "min     -1.900000    0.000000   -1.600000   -0.517000  -22.500000  -10.400000   \n",
       "25%      0.000000    0.300000    0.300000    0.047000   -2.900000   -0.900000   \n",
       "50%      0.600000    0.900000    1.500000    0.087000   -1.300000   -0.100000   \n",
       "75%      1.800000    1.800000    3.550000    0.129500    0.450000    0.800000   \n",
       "max      9.600000    4.800000   12.600000    0.626000   17.000000   32.700000   \n",
       "\n",
       "              BPM        VORP  \n",
       "count  467.000000  467.000000  \n",
       "mean    -1.432548    0.539829  \n",
       "std      4.925175    1.172960  \n",
       "min    -26.500000   -1.300000  \n",
       "25%     -3.300000   -0.100000  \n",
       "50%     -1.300000    0.100000  \n",
       "75%      0.600000    0.800000  \n",
       "max     48.600000    6.400000  "
      ]
     },
     "execution_count": 5,
     "metadata": {},
     "output_type": "execute_result"
    }
   ],
   "source": [
    "# Display statistical summary\n",
    "df.describe()"
   ]
  },
  {
   "cell_type": "code",
   "execution_count": 6,
   "metadata": {
    "execution": {
     "iopub.execute_input": "2025-10-27T21:09:22.585975Z",
     "iopub.status.busy": "2025-10-27T21:09:22.585733Z",
     "iopub.status.idle": "2025-10-27T21:09:22.590968Z",
     "shell.execute_reply": "2025-10-27T21:09:22.590063Z"
    }
   },
   "outputs": [
    {
     "name": "stdout",
     "output_type": "stream",
     "text": [
      "Missing values per column:\n",
      "FG%      1\n",
      "3P%     13\n",
      "2P%      4\n",
      "eFG%     1\n",
      "FT%     23\n",
      "TS%      1\n",
      "3PAr     1\n",
      "FTr      1\n",
      "dtype: int64\n"
     ]
    }
   ],
   "source": [
    "# Check for missing values\n",
    "missing_values = df.isnull().sum()\n",
    "print(\"Missing values per column:\")\n",
    "print(missing_values[missing_values > 0])"
   ]
  },
  {
   "cell_type": "code",
   "execution_count": 7,
   "metadata": {
    "execution": {
     "iopub.execute_input": "2025-10-27T21:09:22.593547Z",
     "iopub.status.busy": "2025-10-27T21:09:22.593247Z",
     "iopub.status.idle": "2025-10-27T21:09:22.598443Z",
     "shell.execute_reply": "2025-10-27T21:09:22.597723Z"
    }
   },
   "outputs": [
    {
     "name": "stdout",
     "output_type": "stream",
     "text": [
      "Available columns:\n",
      " 1. Unnamed: 0\n",
      " 2. Player Name\n",
      " 3. Salary\n",
      " 4. Position\n",
      " 5. Age\n",
      " 6. Team\n",
      " 7. GP\n",
      " 8. GS\n",
      " 9. MP\n",
      "10. FG\n",
      "11. FGA\n",
      "12. FG%\n",
      "13. 3P\n",
      "14. 3PA\n",
      "15. 3P%\n",
      "16. 2P\n",
      "17. 2PA\n",
      "18. 2P%\n",
      "19. eFG%\n",
      "20. FT\n",
      "21. FTA\n",
      "22. FT%\n",
      "23. ORB\n",
      "24. DRB\n",
      "25. TRB\n",
      "26. AST\n",
      "27. STL\n",
      "28. BLK\n",
      "29. TOV\n",
      "30. PF\n",
      "31. PTS\n",
      "32. Total Minutes\n",
      "33. PER\n",
      "34. TS%\n",
      "35. 3PAr\n",
      "36. FTr\n",
      "37. ORB%\n",
      "38. DRB%\n",
      "39. TRB%\n",
      "40. AST%\n",
      "41. STL%\n",
      "42. BLK%\n",
      "43. TOV%\n",
      "44. USG%\n",
      "45. OWS\n",
      "46. DWS\n",
      "47. WS\n",
      "48. WS/48\n",
      "49. OBPM\n",
      "50. DBPM\n",
      "51. BPM\n",
      "52. VORP\n"
     ]
    }
   ],
   "source": [
    "# Display column names for reference\n",
    "print(\"Available columns:\")\n",
    "for i, col in enumerate(df.columns, 1):\n",
    "    print(f\"{i:2d}. {col}\")"
   ]
  },
  {
   "cell_type": "markdown",
   "metadata": {},
   "source": [
    "## 2. Data Cleaning and Preprocessing\n",
    "\n",
    "Handle missing values, data types, and prepare data for analysis."
   ]
  },
  {
   "cell_type": "markdown",
   "metadata": {},
   "source": [
    "This section documents all data cleaning operations performed on the NBA 2022-23 statistics dataset to ensure data quality and prepare it for analysis.\n",
    "\n",
    "### Cleaning Steps Performed\n",
    "\n",
    "#### 1. **Removed Redundant Index Column**\n",
    "**Column:** `Unnamed: 0`\n",
    "\n",
    "**Reason:** This column was an auto-generated index from the CSV file that duplicates the DataFrame's built-in index, providing no analytical value.\n",
    "\n",
    "#### 2. **Fixed Data Type Issues in `3P` Column**\n",
    "**Column:** `3P` (3-Point Field Goals Made)\n",
    "\n",
    "**Problem:** The column contained string values with 's' suffix (e.g., '1.s6' instead of '1.6'), preventing numeric operations.\n",
    "\n",
    "**Solution:** Removed 's' characters and converted to numeric type.\n",
    "\n",
    "**Example:**\n",
    "```\n",
    "Before: '1.s6' (string)\n",
    "After:  1.6 (float)\n",
    "for Bradley Beal\n",
    "```\n",
    "#### 3. **Handled Missing Percentage Values by Filling with Zero**\n",
    "\n",
    "#### TODO: Leave no attempts as NaN\n",
    "**Columns:** `3P%`, `FT%`, `2P%`, `FG%`, `eFG%`, `TS%`, `3PAr`, `FTr`\n",
    "\n",
    "**Problem:** Missing values in shooting percentage columns (23 missing in `FT%`, 13 in `3P%`, etc.)\n",
    "\n",
    "**Solution:** Replaced all `NaN` values with `0`.\n",
    "\n",
    "**Reasoning:**\n",
    "- **For shooting percentages** (`3P%`, `FT%`, `2P%`, `FG%`): Missing values typically occur when a player had zero attempts. A 0% shooting percentage is mathematically correct when attempts = 0 (you can't make shots you don't take).\n",
    "  \n",
    "- **For efficiency metrics** (`eFG%`, `TS%`): These are calculated metrics. A value of 0 indicates no offensive production rather than \"unknown,\" which is appropriate for players with minimal playing time.\n",
    "\n",
    "- **For ratio metrics** (`3PAr`, `FTr`): These represent the rate of 3-point attempts or free throw attempts relative to field goal attempts. Zero indicates the player didn't utilize that aspect of offense.\n",
    "\n",
    "**Example:**\n",
    "```python\n",
    "# Player with no 3-point attempts\n",
    "Player: Steven Adams\n",
    "3PA: 0.0 → 3P%: NaN → After cleaning: 0.0\n",
    "Interpretation: Didn't attempt 3-pointers, so 0% is accurate\n",
    "\n",
    "# Player with attempts but missing data (rare)\n",
    "Player: Example Player\n",
    "3PA: 5.2 → 3P%: NaN → After cleaning: 0.0\n",
    "Interpretation: Potentially misleading - might need investigation\n",
    "```\n",
    "\n",
    "**Limitation:** This approach assumes missing percentages indicate zero attempts. If data is missing due to recording errors for players who did attempt shots, this could create inaccuracies.\n",
    "\n",
    "#### 4. **Ensured Proper Data Types for All Numeric Columns**\n",
    "**Columns:** All columns except `Player Name`, `Position`, `Team`\n",
    "\n",
    "**Problem:** Some numeric columns were stored as objects (strings) instead of numeric types.\n",
    "\n",
    "**Solution:** Converted all non-categorical columns to numeric types, with error handling for invalid values.\n",
    "\n",
    "**Reason:** Numeric operations (mean, correlation, visualization) require proper numeric data types. String values would cause errors or be excluded from calculations.\n",
    "\n",
    "**Example:**\n",
    "```\n",
    "Before: '34.7' (object/string)\n",
    "After:  34.7 (float64)\n",
    "```\n",
    "\n"
   ]
  },
  {
   "cell_type": "code",
   "execution_count": 8,
   "metadata": {
    "execution": {
     "iopub.execute_input": "2025-10-27T21:09:22.601112Z",
     "iopub.status.busy": "2025-10-27T21:09:22.600869Z",
     "iopub.status.idle": "2025-10-27T21:09:22.613454Z",
     "shell.execute_reply": "2025-10-27T21:09:22.612924Z"
    }
   },
   "outputs": [
    {
     "name": "stdout",
     "output_type": "stream",
     "text": [
      "Missing values after cleaning:\n",
      "Series([], dtype: int64)\n"
     ]
    }
   ],
   "source": [
    "# 1. Remove index column\n",
    "df = df.drop('Unnamed: 0', axis=1)\n",
    "\n",
    "# 2. Fix data type issues\n",
    "df['3P'] = pd.to_numeric(df['3P'].astype(str).str.replace('s', ''), errors='coerce')\n",
    "\n",
    "# 3. Handle missing percentage values\n",
    "percentage_cols = ['3P%', 'FT%', '2P%', 'FG%', 'eFG%', 'TS%', '3PAr', 'FTr']\n",
    "for col in percentage_cols:\n",
    "    df[col] = df[col].fillna(0)\n",
    "\n",
    "# 4. Ensure numeric columns are proper type\n",
    "numeric_cols = df.select_dtypes(include=['object']).columns\n",
    "for col in numeric_cols:\n",
    "    if col not in ['Player Name', 'Position', 'Team']:\n",
    "        df[col] = pd.to_numeric(df[col], errors='coerce')\n",
    "\n",
    "# 5. Check final data quality\n",
    "print(\"Missing values after cleaning:\")\n",
    "print(df.isnull().sum()[df.isnull().sum() > 0])"
   ]
  },
  {
   "cell_type": "code",
   "execution_count": 9,
   "metadata": {
    "execution": {
     "iopub.execute_input": "2025-10-27T21:09:22.616174Z",
     "iopub.status.busy": "2025-10-27T21:09:22.615872Z",
     "iopub.status.idle": "2025-10-27T21:09:22.630641Z",
     "shell.execute_reply": "2025-10-27T21:09:22.630018Z"
    }
   },
   "outputs": [
    {
     "name": "stdout",
     "output_type": "stream",
     "text": [
      "============================================================\n",
      "PLAYING TIME ANALYSIS\n",
      "============================================================\n",
      "\n",
      "Players with < 100 total minutes: 64\n",
      "Players with < 10 games played: 62\n",
      "Players with < 5 MPG: 21\n",
      "\n",
      "============================================================\n",
      "EXTREME VALUES CHECK\n",
      "============================================================\n",
      "\n",
      "Players with 100% shooting percentages (small samples):\n",
      "         Player Name  GP  Total Minutes    FG%    FT%    3P%\n",
      "105      Danny Green  11            138  0.449  1.000  0.432\n",
      "114   DeAndre Jordan  39            586  0.765  0.458  1.000\n",
      "258  Markieff Morris  35            355  0.409  1.000  0.394\n",
      "292      Bryn Forbes  25            268  0.361  1.000  0.304\n",
      "312     Tony Bradley  12             33  0.500  1.000  0.600\n",
      "349    Nick Richards  65           1217  0.629  0.749  1.000\n",
      "362      Isaiah Todd   6             61  0.158  1.000  0.100\n",
      "381      Noah Vonleh  23            171  0.458  1.000  0.250\n",
      "383      Sam Merrill   5             59  0.409  1.000  0.278\n",
      "384    Tyrese Martin  16             66  0.391  1.000  0.143\n",
      "\n",
      "Players with negative PER:\n",
      "          Player Name  GP  Total Minutes   PER\n",
      "254      Joe Wieskamp   9             50  -0.4\n",
      "356   Leandro Bolmaro  14             68  -5.0\n",
      "362       Isaiah Todd   6             61  -1.0\n",
      "365   Marko Simonovic   7             20  -0.1\n",
      "386      Ryan Rollins  12             62  -1.4\n",
      "428      Chima Moneke   2              8  -3.5\n",
      "436  Alondes Williams   1              5 -20.9\n",
      "439       Chris Silva   1              3  -2.2\n",
      "453     Frank Jackson   1              5  -6.8\n",
      "454     Deonte Burton   2              6 -12.6\n"
     ]
    }
   ],
   "source": [
    "# Check for players with very low playing time\n",
    "print(\"=\" * 60)\n",
    "print(\"PLAYING TIME ANALYSIS\")\n",
    "print(\"=\" * 60)\n",
    "print(f\"\\nPlayers with < 100 total minutes: {(df['Total Minutes'] < 100).sum()}\")\n",
    "print(f\"Players with < 10 games played: {(df['GP'] < 10).sum()}\")\n",
    "print(f\"Players with < 5 MPG: {(df['MP'] < 5).sum()}\")\n",
    "\n",
    "# Show distribution of extreme values\n",
    "print(\"\\n\" + \"=\" * 60)\n",
    "print(\"EXTREME VALUES CHECK\")\n",
    "print(\"=\" * 60)\n",
    "print(\"\\nPlayers with 100% shooting percentages (small samples):\")\n",
    "perfect_shooters = df[(df['FG%'] == 1.0) | (df['FT%'] == 1.0) | (df['3P%'] == 1.0)]\n",
    "print(perfect_shooters[['Player Name', 'GP', 'Total Minutes', 'FG%', 'FT%', '3P%']].head(10))\n",
    "\n",
    "print(\"\\nPlayers with negative PER:\")\n",
    "print(df[df['PER'] < 0][['Player Name', 'GP', 'Total Minutes', 'PER']].head(10))"
   ]
  },
  {
   "cell_type": "markdown",
   "metadata": {},
   "source": [
    "## TODO: Test autoencoder with the filtered players included"
   ]
  },
  {
   "cell_type": "code",
   "execution_count": 10,
   "metadata": {
    "execution": {
     "iopub.execute_input": "2025-10-27T21:09:22.632907Z",
     "iopub.status.busy": "2025-10-27T21:09:22.632676Z",
     "iopub.status.idle": "2025-10-27T21:09:22.646822Z",
     "shell.execute_reply": "2025-10-27T21:09:22.646121Z"
    }
   },
   "outputs": [
    {
     "name": "stdout",
     "output_type": "stream",
     "text": [
      "============================================================\n",
      "FILTERING ANALYSIS\n",
      "============================================================\n",
      "\n",
      "Original dataset: 467 players\n",
      "Filter criteria: GP >= 5 AND Total Minutes >= 25\n",
      "\n",
      "✅ Filtered dataset: 436 players\n",
      "❌ Removed: 31 players (6.6%)\n",
      "\n",
      "Examples of removed players (very limited playing time):\n",
      "                 Player Name Team  GP  Total Minutes    MP  PTS\n",
      "221            Dylan Windler  CLE   3             10   3.3  1.7\n",
      "247           Sterling Brown  LAL   4             24   6.0  0.0\n",
      "365          Marko Simonovic  CHI   7             20   2.9  0.9\n",
      "401  Michael Carter-Williams  ORL   4             44  11.0  4.3\n",
      "403             Trevor Keels  NYK   3              8   2.7  1.0\n",
      "404           Dereon Seabron  NOP   5             12   2.4  0.8\n",
      "406        Mfiondu Kabengele  BOS   4             36   9.0  1.5\n",
      "408             Malcolm Hill  CHI   5              9   1.8  1.0\n",
      "413              Darius Days  HOU   4             25   6.3  3.8\n",
      "428             Chima Moneke  SAC   2              8   4.0  1.0\n"
     ]
    }
   ],
   "source": [
    "# Additional Cleaning - Minimal filtering approach\n",
    "print(\"=\" * 60)\n",
    "print(\"FILTERING ANALYSIS\")\n",
    "print(\"=\" * 60)\n",
    "\n",
    "# Define minimal thresholds\n",
    "MIN_GAMES = 5\n",
    "MIN_TOTAL_MINUTES = 25\n",
    "\n",
    "# Show what filtering will do\n",
    "print(f\"\\nOriginal dataset: {len(df)} players\")\n",
    "print(f\"Filter criteria: GP >= {MIN_GAMES} AND Total Minutes >= {MIN_TOTAL_MINUTES}\")\n",
    "\n",
    "# Apply filter\n",
    "df_filtered = df[(df['GP'] >= MIN_GAMES) & (df['Total Minutes'] >= MIN_TOTAL_MINUTES)].copy()\n",
    "\n",
    "removed_count = len(df) - len(df_filtered)\n",
    "print(f\"\\n✅ Filtered dataset: {len(df_filtered)} players\")\n",
    "print(f\"❌ Removed: {removed_count} players ({removed_count/len(df)*100:.1f}%)\")\n",
    "\n",
    "# Show who was removed (for transparency)\n",
    "if removed_count > 0:\n",
    "    removed_players = df[~df.index.isin(df_filtered.index)]\n",
    "    print(f\"\\nExamples of removed players (very limited playing time):\")\n",
    "    print(removed_players[['Player Name', 'Team', 'GP', 'Total Minutes', 'MP', 'PTS']].head(10))"
   ]
  },
  {
   "cell_type": "markdown",
   "metadata": {},
   "source": [
    "#### Data Quality Verification\n",
    "\n",
    "After cleaning, the dataset has:\n",
    "- ✅ **Zero missing values** in all columns\n",
    "- ✅ **Proper data types** (numeric columns as float64/int64, categorical as object)\n",
    "- ✅ **467 players** with complete statistical records\n",
    "- ✅ **51 features** ready for analysis"
   ]
  },
  {
   "cell_type": "markdown",
   "metadata": {},
   "source": [
    "### TODO: try -> Feature Engineering and Preprocessing for Machine Learning\n",
    "\n",
    "Prepare the dataset for modeling by removing identifiers, applying transformations, splitting data, and scaling features."
   ]
  },
  {
   "cell_type": "code",
   "execution_count": 11,
   "metadata": {
    "execution": {
     "iopub.execute_input": "2025-10-27T21:09:22.649948Z",
     "iopub.status.busy": "2025-10-27T21:09:22.649688Z",
     "iopub.status.idle": "2025-10-27T21:09:22.682335Z",
     "shell.execute_reply": "2025-10-27T21:09:22.681637Z"
    }
   },
   "outputs": [
    {
     "name": "stdout",
     "output_type": "stream",
     "text": [
      "================================================================================\n",
      "PREPROCESSING CONFIGURATION\n",
      "================================================================================\n",
      "Random Seed:            42\n",
      "Log Transform Columns:  ['Salary']\n",
      "Test Split:             15.0%\n",
      "Validation Split:       15.0%\n",
      "Training Split:         72.2%\n",
      "\n",
      "================================================================================\n",
      "STEP 1: REMOVE IDENTIFIER COLUMNS\n",
      "================================================================================\n",
      "Dropping columns: ['Player Name', 'Team', 'Position']\n",
      "✅ Removed 3 identifier columns\n",
      "\n",
      "================================================================================\n",
      "STEP 2: SELECT NUMERIC FEATURES\n",
      "================================================================================\n",
      "Selected 48 numeric features:\n",
      "Features: Salary, Age, GP, GS, MP, FG, FGA, FG%, 3P, 3PA...\n",
      "Shape: (436, 48)\n",
      "\n",
      "================================================================================\n",
      "STEP 3: APPLY LOG TRANSFORMATION\n",
      "================================================================================\n",
      "✅ Log-transformed 'Salary':\n",
      "   Original mean: 8,980,252.31\n",
      "   Transformed mean: 15.2814\n",
      "\n",
      "================================================================================\n",
      "STEP 4: TRAIN/VALIDATION/TEST SPLIT\n",
      "================================================================================\n",
      "Train set:       304 samples (69.7%)\n",
      "Validation set:   66 samples (15.1%)\n",
      "Test set:         66 samples (15.1%)\n",
      "Total:           436 samples\n",
      "\n",
      "✅ Data split completed with random seed 42\n",
      "\n",
      "================================================================================\n",
      "STEP 5: FEATURE SCALING (STANDARDIZATION)\n",
      "================================================================================\n",
      "StandardScaler fitted on training data\n",
      "Mean values (first 5 features): [15.29710099 26.08881579 51.50657895 24.03947368 20.42697368]\n",
      "Std values (first 5 features):  [ 1.30792513  4.45836071 22.80523852 27.35990189  9.03523418]\n",
      "\n",
      "✅ All splits scaled to mean=0, std=1\n"
     ]
    },
    {
     "name": "stdout",
     "output_type": "stream",
     "text": [
      "\n",
      "💾 Scaler saved to 'scaler.joblib'\n",
      "\n",
      "================================================================================\n",
      "PREPROCESSING COMPLETE\n",
      "================================================================================\n",
      "✅ 48 numeric features prepared\n",
      "✅ 1 features log-transformed\n",
      "✅ Data split into train/val/test sets\n",
      "✅ Features standardized (mean=0, std=1)\n",
      "\n",
      "Data is ready for machine learning models!\n",
      "================================================================================\n"
     ]
    }
   ],
   "source": [
    "# ================================================================================\n",
    "# PREPROCESSING FOR MACHINE LEARNING\n",
    "# ================================================================================\n",
    "\n",
    "# Configuration\n",
    "RANDOM_SEED = 42\n",
    "LOG_TRANSFORM_COLS = ['Salary']  # Columns to apply log transformation\n",
    "TEST_SIZE = 0.15\n",
    "VAL_SIZE = 0.15\n",
    "\n",
    "print(\"=\" * 80)\n",
    "print(\"PREPROCESSING CONFIGURATION\")\n",
    "print(\"=\" * 80)\n",
    "print(f\"Random Seed:            {RANDOM_SEED}\")\n",
    "print(f\"Log Transform Columns:  {LOG_TRANSFORM_COLS}\")\n",
    "print(f\"Test Split:             {TEST_SIZE * 100}%\")\n",
    "print(f\"Validation Split:       {VAL_SIZE * 100}%\")\n",
    "print(f\"Training Split:         {(1 - TEST_SIZE - VAL_SIZE * (1 - TEST_SIZE)) * 100:.1f}%\")\n",
    "\n",
    "# Step 1: Remove identifier columns (not needed for modeling)\n",
    "print(\"\\n\" + \"=\" * 80)\n",
    "print(\"STEP 1: REMOVE IDENTIFIER COLUMNS\")\n",
    "print(\"=\" * 80)\n",
    "\n",
    "df_model = df_filtered.copy()\n",
    "identifier_cols = ['Player Name', 'Team', 'Position']\n",
    "drop_cols = [c for c in identifier_cols if c in df_model.columns]\n",
    "\n",
    "if drop_cols:\n",
    "    print(f\"Dropping columns: {drop_cols}\")\n",
    "    df_model = df_model.drop(columns=drop_cols)\n",
    "    print(f\"✅ Removed {len(drop_cols)} identifier columns\")\n",
    "else:\n",
    "    print(\"⚠️ No identifier columns found to remove\")\n",
    "\n",
    "# Step 2: Keep only numeric columns\n",
    "print(\"\\n\" + \"=\" * 80)\n",
    "print(\"STEP 2: SELECT NUMERIC FEATURES\")\n",
    "print(\"=\" * 80)\n",
    "\n",
    "numeric_cols = df_model.select_dtypes(include=[np.number]).columns.tolist()\n",
    "X = df_model[numeric_cols].copy()\n",
    "\n",
    "print(f\"Selected {len(numeric_cols)} numeric features:\")\n",
    "print(f\"Features: {', '.join(numeric_cols[:10])}...\")\n",
    "print(f\"Shape: {X.shape}\")\n",
    "\n",
    "# Step 3: Apply log transformation (for skewed features like Salary)\n",
    "print(\"\\n\" + \"=\" * 80)\n",
    "print(\"STEP 3: APPLY LOG TRANSFORMATION\")\n",
    "print(\"=\" * 80)\n",
    "\n",
    "for col in LOG_TRANSFORM_COLS:\n",
    "    if col in X.columns:\n",
    "        original_mean = X[col].mean()\n",
    "        X[col] = np.log1p(X[col].clip(lower=0))\n",
    "        transformed_mean = X[col].mean()\n",
    "        print(f\"✅ Log-transformed '{col}':\")\n",
    "        print(f\"   Original mean: {original_mean:,.2f}\")\n",
    "        print(f\"   Transformed mean: {transformed_mean:.4f}\")\n",
    "    else:\n",
    "        print(f\"⚠️ Column '{col}' not found, skipping\")\n",
    "\n",
    "# Step 4: Train/Validation/Test Split\n",
    "print(\"\\n\" + \"=\" * 80)\n",
    "print(\"STEP 4: TRAIN/VALIDATION/TEST SPLIT\")\n",
    "print(\"=\" * 80)\n",
    "\n",
    "np.random.seed(RANDOM_SEED)\n",
    "\n",
    "# First split: separate test set\n",
    "X_train_full, X_test = train_test_split(\n",
    "    X, \n",
    "    test_size=TEST_SIZE, \n",
    "    random_state=RANDOM_SEED, \n",
    "    shuffle=True\n",
    ")\n",
    "\n",
    "# Second split: separate validation from training\n",
    "val_relative = VAL_SIZE / (1.0 - TEST_SIZE)\n",
    "X_train, X_val = train_test_split(\n",
    "    X_train_full, \n",
    "    test_size=val_relative, \n",
    "    random_state=RANDOM_SEED, \n",
    "    shuffle=True\n",
    ")\n",
    "\n",
    "print(f\"Train set:      {X_train.shape[0]:4d} samples ({X_train.shape[0]/len(X)*100:.1f}%)\")\n",
    "print(f\"Validation set: {X_val.shape[0]:4d} samples ({X_val.shape[0]/len(X)*100:.1f}%)\")\n",
    "print(f\"Test set:       {X_test.shape[0]:4d} samples ({X_test.shape[0]/len(X)*100:.1f}%)\")\n",
    "print(f\"Total:          {len(X):4d} samples\")\n",
    "print(f\"\\n✅ Data split completed with random seed {RANDOM_SEED}\")\n",
    "\n",
    "# Step 5: Feature Scaling (Standardization)\n",
    "print(\"\\n\" + \"=\" * 80)\n",
    "print(\"STEP 5: FEATURE SCALING (STANDARDIZATION)\")\n",
    "print(\"=\" * 80)\n",
    "\n",
    "scaler = StandardScaler()\n",
    "\n",
    "# Fit on training data only\n",
    "X_train_scaled = scaler.fit_transform(X_train)\n",
    "X_val_scaled = scaler.transform(X_val)\n",
    "X_test_scaled = scaler.transform(X_test)\n",
    "\n",
    "print(\"StandardScaler fitted on training data\")\n",
    "print(f\"Mean values (first 5 features): {scaler.mean_[:5]}\")\n",
    "print(f\"Std values (first 5 features):  {scaler.scale_[:5]}\")\n",
    "print(f\"\\n✅ All splits scaled to mean=0, std=1\")\n",
    "\n",
    "# Save scaler for later use\n",
    "joblib.dump(scaler, 'scaler.joblib')\n",
    "print(f\"\\n💾 Scaler saved to 'scaler.joblib'\")\n",
    "\n",
    "# Summary\n",
    "print(\"\\n\" + \"=\" * 80)\n",
    "print(\"PREPROCESSING COMPLETE\")\n",
    "print(\"=\" * 80)\n",
    "print(f\"✅ {len(numeric_cols)} numeric features prepared\")\n",
    "print(f\"✅ {len(LOG_TRANSFORM_COLS)} features log-transformed\")\n",
    "print(f\"✅ Data split into train/val/test sets\")\n",
    "print(f\"✅ Features standardized (mean=0, std=1)\")\n",
    "print(f\"\\nData is ready for machine learning models!\")\n",
    "print(\"=\" * 80)"
   ]
  },
  {
   "cell_type": "markdown",
   "metadata": {},
   "source": [
    "#### Preprocessing Summary\n",
    "\n",
    "The preprocessing pipeline has successfully prepared the data for machine learning:\n",
    "\n",
    "**Steps Completed:**\n",
    "1. ✅ **Removed identifiers** - Player Name, Team, Position (not needed for modeling)\n",
    "2. ✅ **Selected numeric features** - 48 features ready for analysis\n",
    "3. ✅ **Log transformation** - Applied to Salary (reduces skewness)\n",
    "4. ✅ **Data splitting** - 70% train, 15% validation, 15% test\n",
    "5. ✅ **Standardization** - All features scaled to mean=0, std=1\n",
    "\n",
    "**Output Variables:**\n",
    "- `X_train_scaled`, `X_val_scaled`, `X_test_scaled` - Preprocessed data ready for modeling\n",
    "- `X_train`, `X_val`, `X_test` - Original (unscaled) splits for reference\n",
    "- `X` - Full dataset with transformations applied\n",
    "- `scaler` - Fitted StandardScaler object saved to `scaler.joblib`\n",
    "\n",
    "This preprocessed data can now be used by any machine learning model (autoencoder, PCA, clustering, etc.)."
   ]
  },
  {
   "cell_type": "markdown",
   "metadata": {},
   "source": [
    "## 3. Autoencoder\n",
    "\n",
    "### Overview\n",
    "This section uses a PyTorch autoencoder to learn a compressed representation of NBA player statistics and detect statistical anomalies."
   ]
  },
  {
   "cell_type": "markdown",
   "metadata": {},
   "source": [
    "### Autoencoder Training"
   ]
  },
  {
   "cell_type": "code",
   "execution_count": 12,
   "metadata": {
    "execution": {
     "iopub.execute_input": "2025-10-27T21:09:22.684964Z",
     "iopub.status.busy": "2025-10-27T21:09:22.684721Z",
     "iopub.status.idle": "2025-10-27T21:10:05.894465Z",
     "shell.execute_reply": "2025-10-27T21:10:05.893675Z"
    }
   },
   "outputs": [
    {
     "name": "stdout",
     "output_type": "stream",
     "text": [
      "Using df_filtered for modeling\n",
      "Dropping columns: ['Player Name', 'Team', 'Position']\n",
      "Numeric columns: ['Salary', 'Age', 'GP', 'GS', 'MP', 'FG', 'FGA', 'FG%', '3P', '3PA', '3P%', '2P', '2PA', '2P%', 'eFG%', 'FT', 'FTA', 'FT%', 'ORB', 'DRB', 'TRB', 'AST', 'STL', 'BLK', 'TOV', 'PF', 'PTS', 'Total Minutes', 'PER', 'TS%', '3PAr', 'FTr', 'ORB%', 'DRB%', 'TRB%', 'AST%', 'STL%', 'BLK%', 'TOV%', 'USG%', 'OWS', 'DWS', 'WS', 'WS/48', 'OBPM', 'DBPM', 'BPM', 'VORP']\n",
      "Train: (304, 48), Val: (66, 48), Test: (66, 48)\n",
      "Saved scaler to scaler.joblib\n"
     ]
    },
    {
     "name": "stdout",
     "output_type": "stream",
     "text": [
      "Epoch 001 - train 1.003689 val 0.828056\n"
     ]
    },
    {
     "name": "stdout",
     "output_type": "stream",
     "text": [
      "Epoch 002 - train 1.003367 val 0.827877\n",
      "Epoch 003 - train 1.003074 val 0.827650\n",
      "Epoch 004 - train 1.002692 val 0.827255\n"
     ]
    },
    {
     "name": "stdout",
     "output_type": "stream",
     "text": [
      "Epoch 005 - train 1.002249 val 0.826883\n",
      "Epoch 006 - train 1.001638 val 0.826333\n",
      "Epoch 007 - train 1.000732 val 0.825489\n"
     ]
    },
    {
     "name": "stdout",
     "output_type": "stream",
     "text": [
      "Epoch 008 - train 0.999321 val 0.824156\n",
      "Epoch 009 - train 0.997098 val 0.821817\n",
      "Epoch 010 - train 0.993234 val 0.818146\n"
     ]
    },
    {
     "name": "stdout",
     "output_type": "stream",
     "text": [
      "Epoch 011 - train 0.987038 val 0.812064\n",
      "Epoch 012 - train 0.977113 val 0.801911\n"
     ]
    },
    {
     "name": "stdout",
     "output_type": "stream",
     "text": [
      "Epoch 013 - train 0.959956 val 0.783271\n",
      "Epoch 014 - train 0.927507 val 0.752171\n"
     ]
    },
    {
     "name": "stdout",
     "output_type": "stream",
     "text": [
      "Epoch 015 - train 0.873878 val 0.700401\n",
      "Epoch 016 - train 0.796134 val 0.635476\n",
      "Epoch 017 - train 0.714418 val 0.587019\n"
     ]
    },
    {
     "name": "stdout",
     "output_type": "stream",
     "text": [
      "Epoch 018 - train 0.657072 val 0.553900\n",
      "Epoch 019 - train 0.621220 val 0.536636\n"
     ]
    },
    {
     "name": "stdout",
     "output_type": "stream",
     "text": [
      "Epoch 020 - train 0.602227 val 0.526579\n",
      "Epoch 021 - train 0.591095 val 0.519784\n"
     ]
    },
    {
     "name": "stdout",
     "output_type": "stream",
     "text": [
      "Epoch 022 - train 0.584295 val 0.513927\n",
      "Epoch 023 - train 0.579327 val 0.511657\n"
     ]
    },
    {
     "name": "stdout",
     "output_type": "stream",
     "text": [
      "Epoch 024 - train 0.575671 val 0.508315\n",
      "Epoch 025 - train 0.573102 val 0.506628\n",
      "Epoch 026 - train 0.571269 val 0.504577\n"
     ]
    },
    {
     "name": "stdout",
     "output_type": "stream",
     "text": [
      "Epoch 027 - train 0.569655 val 0.503353\n",
      "Epoch 028 - train 0.568289 val 0.502502\n"
     ]
    },
    {
     "name": "stdout",
     "output_type": "stream",
     "text": [
      "Epoch 029 - train 0.567341 val 0.501685\n",
      "Epoch 030 - train 0.566567 val 0.501275\n",
      "Epoch 031 - train 0.565804 val 0.500290\n"
     ]
    },
    {
     "name": "stdout",
     "output_type": "stream",
     "text": [
      "Epoch 032 - train 0.565066 val 0.499491\n",
      "Epoch 033 - train 0.564466 val 0.499208\n",
      "Epoch 034 - train 0.563788 val 0.498662\n"
     ]
    },
    {
     "name": "stdout",
     "output_type": "stream",
     "text": [
      "Epoch 035 - train 0.563638 val 0.498366\n"
     ]
    },
    {
     "name": "stdout",
     "output_type": "stream",
     "text": [
      "Epoch 036 - train 0.563091 val 0.497970\n",
      "Epoch 037 - train 0.562387 val 0.497532\n",
      "Epoch 038 - train 0.561985 val 0.497374\n"
     ]
    },
    {
     "name": "stdout",
     "output_type": "stream",
     "text": [
      "Epoch 039 - train 0.561618 val 0.495969\n",
      "Epoch 040 - train 0.560978 val 0.496451\n",
      "Epoch 041 - train 0.560505 val 0.496195\n"
     ]
    },
    {
     "name": "stdout",
     "output_type": "stream",
     "text": [
      "Epoch 042 - train 0.560257 val 0.495143\n",
      "Epoch 043 - train 0.559299 val 0.495125\n",
      "Epoch 044 - train 0.558787 val 0.495049\n"
     ]
    },
    {
     "name": "stdout",
     "output_type": "stream",
     "text": [
      "Epoch 045 - train 0.558584 val 0.494511\n",
      "Epoch 046 - train 0.557786 val 0.494105\n",
      "Epoch 047 - train 0.557277 val 0.494081\n"
     ]
    },
    {
     "name": "stdout",
     "output_type": "stream",
     "text": [
      "Epoch 048 - train 0.556549 val 0.493125\n",
      "Epoch 049 - train 0.556188 val 0.493297\n",
      "Epoch 050 - train 0.555839 val 0.493208\n"
     ]
    },
    {
     "name": "stdout",
     "output_type": "stream",
     "text": [
      "Epoch 051 - train 0.554963 val 0.492789\n",
      "Epoch 052 - train 0.554083 val 0.491332\n",
      "Epoch 053 - train 0.553551 val 0.491099\n"
     ]
    },
    {
     "name": "stdout",
     "output_type": "stream",
     "text": [
      "Epoch 054 - train 0.552693 val 0.490647\n",
      "Epoch 055 - train 0.551617 val 0.489819\n",
      "Epoch 056 - train 0.550839 val 0.489284\n"
     ]
    },
    {
     "name": "stdout",
     "output_type": "stream",
     "text": [
      "Epoch 057 - train 0.549673 val 0.488428\n",
      "Epoch 058 - train 0.548886 val 0.487081\n",
      "Epoch 059 - train 0.547204 val 0.486463\n"
     ]
    },
    {
     "name": "stdout",
     "output_type": "stream",
     "text": [
      "Epoch 060 - train 0.545933 val 0.485033\n",
      "Epoch 061 - train 0.543951 val 0.483628\n",
      "Epoch 062 - train 0.541529 val 0.480907\n"
     ]
    },
    {
     "name": "stdout",
     "output_type": "stream",
     "text": [
      "Epoch 063 - train 0.538890 val 0.479757\n",
      "Epoch 064 - train 0.535144 val 0.475693\n",
      "Epoch 065 - train 0.530127 val 0.472065\n"
     ]
    },
    {
     "name": "stdout",
     "output_type": "stream",
     "text": [
      "Epoch 066 - train 0.523642 val 0.466385\n",
      "Epoch 067 - train 0.514656 val 0.458755\n",
      "Epoch 068 - train 0.503213 val 0.449998\n"
     ]
    },
    {
     "name": "stdout",
     "output_type": "stream",
     "text": [
      "Epoch 069 - train 0.490022 val 0.437948\n",
      "Epoch 070 - train 0.474931 val 0.425722\n",
      "Epoch 071 - train 0.461324 val 0.415084\n"
     ]
    },
    {
     "name": "stdout",
     "output_type": "stream",
     "text": [
      "Epoch 072 - train 0.448258 val 0.404592\n",
      "Epoch 073 - train 0.437742 val 0.395704\n",
      "Epoch 074 - train 0.428929 val 0.387929\n"
     ]
    },
    {
     "name": "stdout",
     "output_type": "stream",
     "text": [
      "Epoch 075 - train 0.422265 val 0.381213\n",
      "Epoch 076 - train 0.416638 val 0.374693\n",
      "Epoch 077 - train 0.411883 val 0.370512\n"
     ]
    },
    {
     "name": "stdout",
     "output_type": "stream",
     "text": [
      "Epoch 078 - train 0.407651 val 0.366287\n",
      "Epoch 079 - train 0.404588 val 0.362955\n",
      "Epoch 080 - train 0.401656 val 0.359582\n"
     ]
    },
    {
     "name": "stdout",
     "output_type": "stream",
     "text": [
      "Epoch 081 - train 0.398837 val 0.357167\n",
      "Epoch 082 - train 0.396673 val 0.353995\n",
      "Epoch 083 - train 0.394302 val 0.352733\n"
     ]
    },
    {
     "name": "stdout",
     "output_type": "stream",
     "text": [
      "Epoch 084 - train 0.392285 val 0.350222\n",
      "Epoch 085 - train 0.390713 val 0.348409\n",
      "Epoch 086 - train 0.388779 val 0.346677\n"
     ]
    },
    {
     "name": "stdout",
     "output_type": "stream",
     "text": [
      "Epoch 087 - train 0.387287 val 0.345379\n",
      "Epoch 088 - train 0.386093 val 0.344528\n",
      "Epoch 089 - train 0.384532 val 0.342711\n"
     ]
    },
    {
     "name": "stdout",
     "output_type": "stream",
     "text": [
      "Epoch 090 - train 0.383262 val 0.341058\n",
      "Epoch 091 - train 0.382138 val 0.339701\n",
      "Epoch 092 - train 0.380634 val 0.339353\n"
     ]
    },
    {
     "name": "stdout",
     "output_type": "stream",
     "text": [
      "Epoch 093 - train 0.379712 val 0.338763\n",
      "Epoch 094 - train 0.379111 val 0.337078\n"
     ]
    },
    {
     "name": "stdout",
     "output_type": "stream",
     "text": [
      "Epoch 095 - train 0.378054 val 0.336336\n",
      "Epoch 096 - train 0.376846 val 0.335010\n",
      "Epoch 097 - train 0.376071 val 0.335214\n"
     ]
    },
    {
     "name": "stdout",
     "output_type": "stream",
     "text": [
      "Epoch 098 - train 0.375477 val 0.333730\n",
      "Epoch 099 - train 0.374018 val 0.332690\n",
      "Epoch 100 - train 0.373346 val 0.331704\n"
     ]
    },
    {
     "name": "stdout",
     "output_type": "stream",
     "text": [
      "Epoch 101 - train 0.372738 val 0.331624\n",
      "Epoch 102 - train 0.371798 val 0.330122\n",
      "Epoch 103 - train 0.371250 val 0.329846\n"
     ]
    },
    {
     "name": "stdout",
     "output_type": "stream",
     "text": [
      "Epoch 104 - train 0.370691 val 0.329067\n",
      "Epoch 105 - train 0.369265 val 0.328254\n",
      "Epoch 106 - train 0.369005 val 0.327106\n"
     ]
    },
    {
     "name": "stdout",
     "output_type": "stream",
     "text": [
      "Epoch 107 - train 0.368373 val 0.327427\n",
      "Epoch 108 - train 0.367772 val 0.326514\n"
     ]
    },
    {
     "name": "stdout",
     "output_type": "stream",
     "text": [
      "Epoch 109 - train 0.366799 val 0.325552\n",
      "Epoch 110 - train 0.365861 val 0.325298\n",
      "Epoch 111 - train 0.365186 val 0.324047\n"
     ]
    },
    {
     "name": "stdout",
     "output_type": "stream",
     "text": [
      "Epoch 112 - train 0.364865 val 0.324386\n",
      "Epoch 113 - train 0.363954 val 0.324248\n",
      "Epoch 114 - train 0.363658 val 0.322193\n"
     ]
    },
    {
     "name": "stdout",
     "output_type": "stream",
     "text": [
      "Epoch 115 - train 0.362883 val 0.322917\n",
      "Epoch 116 - train 0.362227 val 0.321469\n",
      "Epoch 117 - train 0.361633 val 0.320853\n"
     ]
    },
    {
     "name": "stdout",
     "output_type": "stream",
     "text": [
      "Epoch 118 - train 0.361116 val 0.319150\n",
      "Epoch 119 - train 0.361187 val 0.320221\n"
     ]
    },
    {
     "name": "stdout",
     "output_type": "stream",
     "text": [
      "Epoch 120 - train 0.359980 val 0.319265\n",
      "Epoch 121 - train 0.359627 val 0.318220\n"
     ]
    },
    {
     "name": "stdout",
     "output_type": "stream",
     "text": [
      "Epoch 122 - train 0.359095 val 0.318386\n",
      "Epoch 123 - train 0.358901 val 0.318341\n"
     ]
    },
    {
     "name": "stdout",
     "output_type": "stream",
     "text": [
      "Epoch 124 - train 0.358083 val 0.316821\n"
     ]
    },
    {
     "name": "stdout",
     "output_type": "stream",
     "text": [
      "Epoch 125 - train 0.357549 val 0.316810\n"
     ]
    },
    {
     "name": "stdout",
     "output_type": "stream",
     "text": [
      "Epoch 126 - train 0.357226 val 0.316351\n",
      "Epoch 127 - train 0.356494 val 0.316176\n"
     ]
    },
    {
     "name": "stdout",
     "output_type": "stream",
     "text": [
      "Epoch 128 - train 0.356134 val 0.315677\n",
      "Epoch 129 - train 0.355786 val 0.315062\n"
     ]
    },
    {
     "name": "stdout",
     "output_type": "stream",
     "text": [
      "Epoch 130 - train 0.355072 val 0.314509\n"
     ]
    },
    {
     "name": "stdout",
     "output_type": "stream",
     "text": [
      "Epoch 131 - train 0.354745 val 0.314451\n",
      "Epoch 132 - train 0.354572 val 0.313815\n"
     ]
    },
    {
     "name": "stdout",
     "output_type": "stream",
     "text": [
      "Epoch 133 - train 0.353843 val 0.313404\n",
      "Epoch 134 - train 0.353450 val 0.313386\n"
     ]
    },
    {
     "name": "stdout",
     "output_type": "stream",
     "text": [
      "Epoch 135 - train 0.353248 val 0.313065\n",
      "Epoch 136 - train 0.352784 val 0.311896\n"
     ]
    },
    {
     "name": "stdout",
     "output_type": "stream",
     "text": [
      "Epoch 137 - train 0.352136 val 0.312414\n"
     ]
    },
    {
     "name": "stdout",
     "output_type": "stream",
     "text": [
      "Epoch 138 - train 0.351991 val 0.312425\n",
      "Epoch 139 - train 0.351714 val 0.310822\n"
     ]
    },
    {
     "name": "stdout",
     "output_type": "stream",
     "text": [
      "Epoch 140 - train 0.351071 val 0.311761\n",
      "Epoch 141 - train 0.351014 val 0.311003\n",
      "Epoch 142 - train 0.350454 val 0.311047\n"
     ]
    },
    {
     "name": "stdout",
     "output_type": "stream",
     "text": [
      "Epoch 143 - train 0.349749 val 0.310466\n",
      "Epoch 144 - train 0.349529 val 0.310088\n",
      "Epoch 145 - train 0.349290 val 0.309761\n"
     ]
    },
    {
     "name": "stdout",
     "output_type": "stream",
     "text": [
      "Epoch 146 - train 0.348946 val 0.309817\n",
      "Epoch 147 - train 0.348813 val 0.309209\n"
     ]
    },
    {
     "name": "stdout",
     "output_type": "stream",
     "text": [
      "Epoch 148 - train 0.348450 val 0.309347\n",
      "Epoch 149 - train 0.347981 val 0.309310\n"
     ]
    },
    {
     "name": "stdout",
     "output_type": "stream",
     "text": [
      "Epoch 150 - train 0.347414 val 0.308688\n",
      "Epoch 151 - train 0.347600 val 0.308599\n"
     ]
    },
    {
     "name": "stdout",
     "output_type": "stream",
     "text": [
      "Epoch 152 - train 0.347038 val 0.308554\n",
      "Epoch 153 - train 0.346903 val 0.308972\n"
     ]
    },
    {
     "name": "stdout",
     "output_type": "stream",
     "text": [
      "Epoch 154 - train 0.346628 val 0.308154\n"
     ]
    },
    {
     "name": "stdout",
     "output_type": "stream",
     "text": [
      "Epoch 155 - train 0.345877 val 0.308492\n",
      "Epoch 156 - train 0.346236 val 0.307449\n",
      "Epoch 157 - train 0.345568 val 0.308401\n"
     ]
    },
    {
     "name": "stdout",
     "output_type": "stream",
     "text": [
      "Epoch 158 - train 0.345524 val 0.307872\n",
      "Epoch 159 - train 0.345549 val 0.307894\n",
      "Epoch 160 - train 0.345623 val 0.307612\n"
     ]
    },
    {
     "name": "stdout",
     "output_type": "stream",
     "text": [
      "Epoch 161 - train 0.344873 val 0.307815\n",
      "Epoch 162 - train 0.344434 val 0.307142\n"
     ]
    },
    {
     "name": "stdout",
     "output_type": "stream",
     "text": [
      "Epoch 163 - train 0.344159 val 0.306308\n",
      "Epoch 164 - train 0.344410 val 0.307495\n"
     ]
    },
    {
     "name": "stdout",
     "output_type": "stream",
     "text": [
      "Epoch 165 - train 0.343811 val 0.306444\n",
      "Epoch 166 - train 0.343609 val 0.306825\n"
     ]
    },
    {
     "name": "stdout",
     "output_type": "stream",
     "text": [
      "Epoch 167 - train 0.343305 val 0.306266\n",
      "Epoch 168 - train 0.343134 val 0.306213\n",
      "Epoch 169 - train 0.343184 val 0.306190\n"
     ]
    },
    {
     "name": "stdout",
     "output_type": "stream",
     "text": [
      "Epoch 170 - train 0.342592 val 0.305955\n",
      "Epoch 171 - train 0.342691 val 0.305361\n"
     ]
    },
    {
     "name": "stdout",
     "output_type": "stream",
     "text": [
      "Epoch 172 - train 0.342196 val 0.305603\n",
      "Epoch 173 - train 0.341969 val 0.305712\n"
     ]
    },
    {
     "name": "stdout",
     "output_type": "stream",
     "text": [
      "Epoch 174 - train 0.341739 val 0.305623\n",
      "Epoch 175 - train 0.341847 val 0.305454\n",
      "Epoch 176 - train 0.341574 val 0.305910\n"
     ]
    },
    {
     "name": "stdout",
     "output_type": "stream",
     "text": [
      "Epoch 177 - train 0.341522 val 0.304820\n",
      "Epoch 178 - train 0.341317 val 0.305233\n"
     ]
    },
    {
     "name": "stdout",
     "output_type": "stream",
     "text": [
      "Epoch 179 - train 0.340883 val 0.304939\n",
      "Epoch 180 - train 0.340674 val 0.304838\n"
     ]
    },
    {
     "name": "stdout",
     "output_type": "stream",
     "text": [
      "Epoch 181 - train 0.340513 val 0.304335\n",
      "Epoch 182 - train 0.340429 val 0.303965\n"
     ]
    },
    {
     "name": "stdout",
     "output_type": "stream",
     "text": [
      "Epoch 183 - train 0.340527 val 0.305545\n",
      "Epoch 184 - train 0.340006 val 0.304206\n",
      "Epoch 185 - train 0.340101 val 0.304521\n"
     ]
    },
    {
     "name": "stdout",
     "output_type": "stream",
     "text": [
      "Epoch 186 - train 0.339792 val 0.304255\n",
      "Epoch 187 - train 0.339449 val 0.304133\n",
      "Epoch 188 - train 0.339325 val 0.303511\n"
     ]
    },
    {
     "name": "stdout",
     "output_type": "stream",
     "text": [
      "Epoch 189 - train 0.339201 val 0.303715\n",
      "Epoch 190 - train 0.339043 val 0.303770\n"
     ]
    },
    {
     "name": "stdout",
     "output_type": "stream",
     "text": [
      "Epoch 191 - train 0.338957 val 0.304325\n",
      "Epoch 192 - train 0.338760 val 0.303481\n",
      "Epoch 193 - train 0.338708 val 0.303989\n"
     ]
    },
    {
     "name": "stdout",
     "output_type": "stream",
     "text": [
      "Epoch 194 - train 0.338600 val 0.303644\n",
      "Epoch 195 - train 0.338471 val 0.303169\n"
     ]
    },
    {
     "name": "stdout",
     "output_type": "stream",
     "text": [
      "Epoch 196 - train 0.338032 val 0.303437\n",
      "Epoch 197 - train 0.337759 val 0.303105\n",
      "Epoch 198 - train 0.337830 val 0.303641\n"
     ]
    },
    {
     "name": "stdout",
     "output_type": "stream",
     "text": [
      "Epoch 199 - train 0.337601 val 0.302510\n",
      "Epoch 200 - train 0.337472 val 0.303214\n",
      "Epoch 201 - train 0.337187 val 0.303171\n"
     ]
    },
    {
     "name": "stdout",
     "output_type": "stream",
     "text": [
      "Epoch 202 - train 0.336896 val 0.302826\n",
      "Epoch 203 - train 0.337082 val 0.302825\n"
     ]
    },
    {
     "name": "stdout",
     "output_type": "stream",
     "text": [
      "Epoch 204 - train 0.336949 val 0.302395\n",
      "Epoch 205 - train 0.336645 val 0.302763\n",
      "Epoch 206 - train 0.336483 val 0.302619\n"
     ]
    },
    {
     "name": "stdout",
     "output_type": "stream",
     "text": [
      "Epoch 207 - train 0.336489 val 0.302307\n",
      "Epoch 208 - train 0.336206 val 0.302842\n",
      "Epoch 209 - train 0.335961 val 0.302869\n"
     ]
    },
    {
     "name": "stdout",
     "output_type": "stream",
     "text": [
      "Epoch 210 - train 0.335693 val 0.302696\n",
      "Epoch 211 - train 0.335841 val 0.302715\n",
      "Epoch 212 - train 0.335573 val 0.302141\n"
     ]
    },
    {
     "name": "stdout",
     "output_type": "stream",
     "text": [
      "Epoch 213 - train 0.335626 val 0.301808\n",
      "Epoch 214 - train 0.335469 val 0.302094\n",
      "Epoch 215 - train 0.335226 val 0.302205\n"
     ]
    },
    {
     "name": "stdout",
     "output_type": "stream",
     "text": [
      "Epoch 216 - train 0.335112 val 0.302352\n",
      "Epoch 217 - train 0.334828 val 0.302218\n",
      "Epoch 218 - train 0.334731 val 0.301946\n"
     ]
    },
    {
     "name": "stdout",
     "output_type": "stream",
     "text": [
      "Epoch 219 - train 0.334297 val 0.301883\n",
      "Epoch 220 - train 0.334385 val 0.301790\n"
     ]
    },
    {
     "name": "stdout",
     "output_type": "stream",
     "text": [
      "Epoch 221 - train 0.334711 val 0.301883\n",
      "Epoch 222 - train 0.334322 val 0.302121\n"
     ]
    },
    {
     "name": "stdout",
     "output_type": "stream",
     "text": [
      "Epoch 223 - train 0.333989 val 0.301967\n",
      "Epoch 224 - train 0.333983 val 0.301685\n"
     ]
    },
    {
     "name": "stdout",
     "output_type": "stream",
     "text": [
      "Epoch 225 - train 0.333846 val 0.302302\n",
      "Epoch 226 - train 0.333499 val 0.301590\n"
     ]
    },
    {
     "name": "stdout",
     "output_type": "stream",
     "text": [
      "Epoch 227 - train 0.333590 val 0.301209\n",
      "Epoch 228 - train 0.333247 val 0.300990\n",
      "Epoch 229 - train 0.332916 val 0.301572\n"
     ]
    },
    {
     "name": "stdout",
     "output_type": "stream",
     "text": [
      "Epoch 230 - train 0.332884 val 0.300963\n",
      "Epoch 231 - train 0.333064 val 0.301057\n",
      "Epoch 232 - train 0.332730 val 0.301427\n"
     ]
    },
    {
     "name": "stdout",
     "output_type": "stream",
     "text": [
      "Epoch 233 - train 0.332603 val 0.301023\n",
      "Epoch 234 - train 0.332272 val 0.301267\n",
      "Epoch 235 - train 0.332302 val 0.301037\n"
     ]
    },
    {
     "name": "stdout",
     "output_type": "stream",
     "text": [
      "Epoch 236 - train 0.332048 val 0.300647\n",
      "Epoch 237 - train 0.332181 val 0.301468\n",
      "Epoch 238 - train 0.332080 val 0.300066\n"
     ]
    },
    {
     "name": "stdout",
     "output_type": "stream",
     "text": [
      "Epoch 239 - train 0.331878 val 0.301775\n",
      "Epoch 240 - train 0.331304 val 0.301026\n",
      "Epoch 241 - train 0.331331 val 0.300604\n"
     ]
    },
    {
     "name": "stdout",
     "output_type": "stream",
     "text": [
      "Epoch 242 - train 0.331445 val 0.299659\n",
      "Epoch 243 - train 0.331627 val 0.301701\n",
      "Epoch 244 - train 0.330886 val 0.300692\n"
     ]
    },
    {
     "name": "stdout",
     "output_type": "stream",
     "text": [
      "Epoch 245 - train 0.331020 val 0.300692\n",
      "Epoch 246 - train 0.330930 val 0.301025\n",
      "Epoch 247 - train 0.330406 val 0.300229\n"
     ]
    },
    {
     "name": "stdout",
     "output_type": "stream",
     "text": [
      "Epoch 248 - train 0.330441 val 0.300661\n",
      "Epoch 249 - train 0.330161 val 0.300769\n",
      "Epoch 250 - train 0.330013 val 0.300736\n"
     ]
    },
    {
     "name": "stdout",
     "output_type": "stream",
     "text": [
      "Epoch 251 - train 0.329991 val 0.299937\n",
      "Epoch 252 - train 0.329659 val 0.299959\n",
      "Epoch 253 - train 0.329847 val 0.300387\n"
     ]
    },
    {
     "name": "stdout",
     "output_type": "stream",
     "text": [
      "Epoch 254 - train 0.329667 val 0.300111\n",
      "Epoch 255 - train 0.329689 val 0.300142\n",
      "Epoch 256 - train 0.329580 val 0.300031\n"
     ]
    },
    {
     "name": "stdout",
     "output_type": "stream",
     "text": [
      "Epoch 257 - train 0.329755 val 0.301256\n",
      "Epoch 258 - train 0.328993 val 0.299816\n",
      "Epoch 259 - train 0.328884 val 0.299631\n"
     ]
    },
    {
     "name": "stdout",
     "output_type": "stream",
     "text": [
      "Epoch 260 - train 0.329483 val 0.300077\n",
      "Epoch 261 - train 0.329069 val 0.300722\n",
      "Epoch 262 - train 0.329085 val 0.299336\n"
     ]
    },
    {
     "name": "stdout",
     "output_type": "stream",
     "text": [
      "Epoch 263 - train 0.328436 val 0.300009\n",
      "Epoch 264 - train 0.328588 val 0.300292\n",
      "Epoch 265 - train 0.328485 val 0.300228\n"
     ]
    },
    {
     "name": "stdout",
     "output_type": "stream",
     "text": [
      "Epoch 266 - train 0.328078 val 0.299381\n",
      "Epoch 267 - train 0.328031 val 0.300147\n"
     ]
    },
    {
     "name": "stdout",
     "output_type": "stream",
     "text": [
      "Epoch 268 - train 0.327874 val 0.299446\n",
      "Epoch 269 - train 0.327758 val 0.299239\n",
      "Epoch 270 - train 0.327557 val 0.299604\n"
     ]
    },
    {
     "name": "stdout",
     "output_type": "stream",
     "text": [
      "Epoch 271 - train 0.327438 val 0.299250\n",
      "Epoch 272 - train 0.327521 val 0.300172\n"
     ]
    },
    {
     "name": "stdout",
     "output_type": "stream",
     "text": [
      "Epoch 273 - train 0.327695 val 0.299923\n",
      "Epoch 274 - train 0.327183 val 0.300233\n"
     ]
    },
    {
     "name": "stdout",
     "output_type": "stream",
     "text": [
      "Epoch 275 - train 0.327058 val 0.299394\n",
      "Epoch 276 - train 0.326932 val 0.299289\n",
      "Epoch 277 - train 0.326601 val 0.298867\n"
     ]
    },
    {
     "name": "stdout",
     "output_type": "stream",
     "text": [
      "Epoch 278 - train 0.326455 val 0.299839\n",
      "Epoch 279 - train 0.326622 val 0.299022\n"
     ]
    },
    {
     "name": "stdout",
     "output_type": "stream",
     "text": [
      "Epoch 280 - train 0.326224 val 0.298864\n",
      "Epoch 281 - train 0.326199 val 0.299193\n"
     ]
    },
    {
     "name": "stdout",
     "output_type": "stream",
     "text": [
      "Epoch 282 - train 0.326226 val 0.300375\n"
     ]
    },
    {
     "name": "stdout",
     "output_type": "stream",
     "text": [
      "Epoch 283 - train 0.326198 val 0.299087\n"
     ]
    },
    {
     "name": "stdout",
     "output_type": "stream",
     "text": [
      "Epoch 284 - train 0.325768 val 0.299676\n"
     ]
    },
    {
     "name": "stdout",
     "output_type": "stream",
     "text": [
      "Epoch 285 - train 0.325805 val 0.299275\n"
     ]
    },
    {
     "name": "stdout",
     "output_type": "stream",
     "text": [
      "Epoch 286 - train 0.325543 val 0.299750\n"
     ]
    },
    {
     "name": "stdout",
     "output_type": "stream",
     "text": [
      "Epoch 287 - train 0.325510 val 0.299861\n"
     ]
    },
    {
     "name": "stdout",
     "output_type": "stream",
     "text": [
      "Epoch 288 - train 0.325439 val 0.299148\n",
      "Epoch 289 - train 0.325530 val 0.299321\n"
     ]
    },
    {
     "name": "stdout",
     "output_type": "stream",
     "text": [
      "Epoch 290 - train 0.325444 val 0.299703\n",
      "Epoch 291 - train 0.325325 val 0.298893\n"
     ]
    },
    {
     "name": "stdout",
     "output_type": "stream",
     "text": [
      "Epoch 292 - train 0.325080 val 0.298673\n",
      "Epoch 293 - train 0.324794 val 0.299758\n"
     ]
    },
    {
     "name": "stdout",
     "output_type": "stream",
     "text": [
      "Epoch 294 - train 0.324552 val 0.299165\n",
      "Epoch 295 - train 0.324627 val 0.299250\n"
     ]
    },
    {
     "name": "stdout",
     "output_type": "stream",
     "text": [
      "Epoch 296 - train 0.324286 val 0.298437\n",
      "Epoch 297 - train 0.324416 val 0.298855\n"
     ]
    },
    {
     "name": "stdout",
     "output_type": "stream",
     "text": [
      "Epoch 298 - train 0.324215 val 0.299013\n",
      "Epoch 299 - train 0.323903 val 0.299201\n"
     ]
    },
    {
     "name": "stdout",
     "output_type": "stream",
     "text": [
      "Epoch 300 - train 0.323770 val 0.298814\n"
     ]
    },
    {
     "name": "stdout",
     "output_type": "stream",
     "text": [
      "Epoch 301 - train 0.323762 val 0.299277\n"
     ]
    },
    {
     "name": "stdout",
     "output_type": "stream",
     "text": [
      "Epoch 302 - train 0.323392 val 0.299677\n",
      "Epoch 303 - train 0.323500 val 0.298568\n"
     ]
    },
    {
     "name": "stdout",
     "output_type": "stream",
     "text": [
      "Epoch 304 - train 0.323707 val 0.298123\n"
     ]
    },
    {
     "name": "stdout",
     "output_type": "stream",
     "text": [
      "Epoch 305 - train 0.323743 val 0.299136\n"
     ]
    },
    {
     "name": "stdout",
     "output_type": "stream",
     "text": [
      "Epoch 306 - train 0.323530 val 0.297679\n",
      "Epoch 307 - train 0.322854 val 0.298796\n"
     ]
    },
    {
     "name": "stdout",
     "output_type": "stream",
     "text": [
      "Epoch 308 - train 0.322838 val 0.298831\n"
     ]
    },
    {
     "name": "stdout",
     "output_type": "stream",
     "text": [
      "Epoch 309 - train 0.322638 val 0.299008\n",
      "Epoch 310 - train 0.322810 val 0.299412\n"
     ]
    },
    {
     "name": "stdout",
     "output_type": "stream",
     "text": [
      "Epoch 311 - train 0.322560 val 0.298885\n"
     ]
    },
    {
     "name": "stdout",
     "output_type": "stream",
     "text": [
      "Epoch 312 - train 0.322440 val 0.298943\n"
     ]
    },
    {
     "name": "stdout",
     "output_type": "stream",
     "text": [
      "Epoch 313 - train 0.322618 val 0.298968\n",
      "Epoch 314 - train 0.322570 val 0.298794\n"
     ]
    },
    {
     "name": "stdout",
     "output_type": "stream",
     "text": [
      "Epoch 315 - train 0.322186 val 0.299195\n",
      "Epoch 316 - train 0.321899 val 0.299688\n"
     ]
    },
    {
     "name": "stdout",
     "output_type": "stream",
     "text": [
      "Epoch 317 - train 0.321904 val 0.298507\n"
     ]
    },
    {
     "name": "stdout",
     "output_type": "stream",
     "text": [
      "Epoch 318 - train 0.321719 val 0.299013\n"
     ]
    },
    {
     "name": "stdout",
     "output_type": "stream",
     "text": [
      "Epoch 319 - train 0.322075 val 0.298631\n"
     ]
    },
    {
     "name": "stdout",
     "output_type": "stream",
     "text": [
      "Epoch 320 - train 0.321319 val 0.298551\n",
      "Epoch 321 - train 0.321953 val 0.298627\n"
     ]
    },
    {
     "name": "stdout",
     "output_type": "stream",
     "text": [
      "Epoch 322 - train 0.321803 val 0.300013\n",
      "Epoch 323 - train 0.321636 val 0.298618\n"
     ]
    },
    {
     "name": "stdout",
     "output_type": "stream",
     "text": [
      "Epoch 324 - train 0.321157 val 0.298593\n"
     ]
    },
    {
     "name": "stdout",
     "output_type": "stream",
     "text": [
      "Epoch 325 - train 0.321594 val 0.299111\n"
     ]
    },
    {
     "name": "stdout",
     "output_type": "stream",
     "text": [
      "Epoch 326 - train 0.321306 val 0.299091\n"
     ]
    },
    {
     "name": "stdout",
     "output_type": "stream",
     "text": [
      "Epoch 327 - train 0.320832 val 0.299472\n"
     ]
    },
    {
     "name": "stdout",
     "output_type": "stream",
     "text": [
      "Epoch 328 - train 0.320866 val 0.299179\n",
      "Epoch 329 - train 0.320688 val 0.299100\n"
     ]
    },
    {
     "name": "stdout",
     "output_type": "stream",
     "text": [
      "Epoch 330 - train 0.320633 val 0.299166\n",
      "Epoch 331 - train 0.320575 val 0.298865\n"
     ]
    },
    {
     "name": "stdout",
     "output_type": "stream",
     "text": [
      "Epoch 332 - train 0.320249 val 0.298960\n"
     ]
    },
    {
     "name": "stdout",
     "output_type": "stream",
     "text": [
      "Epoch 333 - train 0.319946 val 0.298816\n"
     ]
    },
    {
     "name": "stdout",
     "output_type": "stream",
     "text": [
      "Epoch 334 - train 0.320221 val 0.298460\n",
      "Epoch 335 - train 0.320003 val 0.298555\n"
     ]
    },
    {
     "name": "stdout",
     "output_type": "stream",
     "text": [
      "Epoch 336 - train 0.319926 val 0.299310\n",
      "Early stopping\n",
      "Training time (s): 41.89351534843445\n",
      "Best val loss: 0.2976785644888878\n",
      "Saved best model to ae_model.pth\n",
      "Test recon err mean/std: 0.39600542 0.3067017\n",
      "Top anomalies (reconstruction error):\n",
      "1. index 70 name=Jonathan Isaac err=1.565078\n",
      "2. index 15 name=Jimmy Butler err=1.171007\n",
      "3. index 349 name=Nick Richards err=1.147358\n",
      "4. index 452 name=Skylar Mays err=1.048852\n",
      "5. index 451 name=Jay Huff err=1.033115\n",
      "6. index 420 name=Keon Ellis err=0.926429\n",
      "7. index 9 name=Damian Lillard err=0.888504\n",
      "8. index 56 name=Domantas Sabonis err=0.814858\n",
      "9. index 0 name=Stephen Curry err=0.765604\n",
      "10. index 181 name=Killian Hayes err=0.748646\n",
      "Saved latent vectors to latent_vectors.npy\n"
     ]
    }
   ],
   "source": [
    "# ----------------- Config -----------------\n",
    "RANDOM_SEED = 42\n",
    "BATCH_SIZE = 16\n",
    "EPOCHS = 500\n",
    "LR = 5e-5\n",
    "LATENT_DIM = 2\n",
    "HIDDEN_DIMS = [128, 96, 64, 32]\n",
    "LOG_TRANSFORM = ['Salary']  # set to [] to disable\n",
    "TEST_SIZE = 0.15\n",
    "VAL_SIZE = 0.15\n",
    "MODEL_OUT = 'ae_model.pth'\n",
    "SCALER_OUT = 'scaler.joblib'\n",
    "LATENTS_OUT = 'latent_vectors.npy'\n",
    "DEVICE = torch.device('cuda' if torch.cuda.is_available() else 'cpu')\n",
    "# ------------------------------------------\n",
    "\n",
    "torch.manual_seed(RANDOM_SEED)\n",
    "np.random.seed(RANDOM_SEED)\n",
    "\n",
    "# Pick dataframe\n",
    "try:\n",
    "    df_model = df_filtered.copy()\n",
    "    print('Using df_filtered for modeling')\n",
    "except NameError:\n",
    "    try:\n",
    "        df_model = df.copy()\n",
    "        print('Using df for modeling')\n",
    "    except NameError:\n",
    "        raise RuntimeError('No dataframe available in notebook (df_filtered or df).')\n",
    "\n",
    "# Drop identifiers\n",
    "drop_cols = [c for c in ['Player Name', 'Team', 'Position'] if c in df_model.columns]\n",
    "if drop_cols:\n",
    "    print('Dropping columns:', drop_cols)\n",
    "    df_model = df_model.drop(columns=drop_cols)\n",
    "\n",
    "# Keep numeric columns\n",
    "numeric_cols = df_model.select_dtypes(include=[np.number]).columns.tolist()\n",
    "print('Numeric columns:', numeric_cols)\n",
    "X = df_model[numeric_cols].copy()\n",
    "\n",
    "# Optional log transform\n",
    "for c in LOG_TRANSFORM:\n",
    "    if c in X.columns:\n",
    "        X[c] = np.log1p(X[c].clip(lower=0))\n",
    "\n",
    "# Train/val/test splits\n",
    "X_train_full, X_test = train_test_split(X, test_size=TEST_SIZE, random_state=RANDOM_SEED, shuffle=True)\n",
    "val_relative = VAL_SIZE / (1.0 - TEST_SIZE)\n",
    "X_train, X_val = train_test_split(X_train_full, test_size=val_relative, random_state=RANDOM_SEED, shuffle=True)\n",
    "print(f'Train: {X_train.shape}, Val: {X_val.shape}, Test: {X_test.shape}')\n",
    "\n",
    "# Scaling\n",
    "scaler = StandardScaler()\n",
    "X_train_s = scaler.fit_transform(X_train)\n",
    "X_val_s = scaler.transform(X_val)\n",
    "X_test_s = scaler.transform(X_test)\n",
    "joblib.dump(scaler, SCALER_OUT)\n",
    "print('Saved scaler to', SCALER_OUT)\n",
    "\n",
    "# DataLoaders\n",
    "def to_loader(arr, batch_size=BATCH_SIZE, shuffle=True):\n",
    "    t = torch.tensor(arr, dtype=torch.float32)\n",
    "    ds = TensorDataset(t, t)\n",
    "    return DataLoader(ds, batch_size=batch_size, shuffle=shuffle)\n",
    "\n",
    "train_loader = to_loader(X_train_s, BATCH_SIZE, shuffle=True)\n",
    "val_loader = to_loader(X_val_s, BATCH_SIZE, shuffle=False)\n",
    "test_loader = to_loader(X_test_s, BATCH_SIZE, shuffle=False)\n",
    "\n",
    "# Model\n",
    "class Autoencoder(nn.Module):\n",
    "    def __init__(self, input_dim, hidden_dims=[128,64], latent_dim=8):\n",
    "        super().__init__()\n",
    "        enc = []\n",
    "        prev = input_dim\n",
    "        for h in hidden_dims:\n",
    "            enc += [nn.Linear(prev, h), nn.ReLU(inplace=True)]\n",
    "            prev = h\n",
    "        enc.append(nn.Linear(prev, latent_dim))\n",
    "        self.encoder = nn.Sequential(*enc)\n",
    "        dec = []\n",
    "        prev = latent_dim\n",
    "        for h in reversed(hidden_dims):\n",
    "            dec += [nn.Linear(prev, h), nn.ReLU(inplace=True)]\n",
    "            prev = h\n",
    "        dec.append(nn.Linear(prev, input_dim))\n",
    "        self.decoder = nn.Sequential(*dec)\n",
    "\n",
    "    def forward(self, x):\n",
    "        z = self.encoder(x)\n",
    "        xrec = self.decoder(z)\n",
    "        return xrec\n",
    "\n",
    "input_dim = X_train_s.shape[1]\n",
    "model_2d = Autoencoder(input_dim=input_dim, hidden_dims=HIDDEN_DIMS, latent_dim=LATENT_DIM).to(DEVICE)\n",
    "optimizer = torch.optim.Adam(model_2d.parameters(), lr=LR)\n",
    "criterion = nn.MSELoss(reduction='mean')\n",
    "\n",
    "# Training\n",
    "best_val = float('inf')\n",
    "patience = 30\n",
    "no_improve = 0\n",
    "start = time.time()\n",
    "for epoch in range(1, EPOCHS+1):\n",
    "    model_2d.train()\n",
    "    train_losses = []\n",
    "    for xb, _ in train_loader:\n",
    "        xb = xb.to(DEVICE)\n",
    "        optimizer.zero_grad()\n",
    "        xr = model_2d(xb)\n",
    "        loss = criterion(xr, xb)\n",
    "        loss.backward()\n",
    "        optimizer.step()\n",
    "        train_losses.append(loss.item())\n",
    "    train_loss = np.mean(train_losses)\n",
    "\n",
    "    model_2d.eval()\n",
    "    val_losses = []\n",
    "    with torch.no_grad():\n",
    "        for xb, _ in val_loader:\n",
    "            xb = xb.to(DEVICE)\n",
    "            xr = model_2d(xb)\n",
    "            val_losses.append(criterion(xr, xb).item())\n",
    "    val_loss = np.mean(val_losses)\n",
    "    print(f'Epoch {epoch:03d} - train {train_loss:.6f} val {val_loss:.6f}')\n",
    "\n",
    "    if val_loss < best_val - 1e-6:\n",
    "        best_val = val_loss\n",
    "        no_improve = 0\n",
    "        torch.save(model_2d.state_dict(), MODEL_OUT)\n",
    "    else:\n",
    "        no_improve += 1\n",
    "        if no_improve >= patience:\n",
    "            print('Early stopping')\n",
    "            break\n",
    "\n",
    "print('Training time (s):', time.time() - start)\n",
    "print('Best val loss:', best_val)\n",
    "print('Saved best model to', MODEL_OUT)\n",
    "\n",
    "# Evaluate on test\n",
    "model_2d.load_state_dict(torch.load(MODEL_OUT, map_location=DEVICE))\n",
    "model_2d.eval()\n",
    "all_err = []\n",
    "with torch.no_grad():\n",
    "    for xb, _ in test_loader:\n",
    "        xb = xb.to(DEVICE)\n",
    "        xr = model_2d(xb)\n",
    "        mse = torch.mean((xb - xr) ** 2, dim=1).cpu().numpy()\n",
    "        all_err.append(mse)\n",
    "all_err = np.concatenate(all_err)\n",
    "print('Test recon err mean/std:', all_err.mean(), all_err.std())\n",
    "\n",
    "# Show top anomalies with player names (map back to original df index)\n",
    "n_top = 10\n",
    "top_idx = np.argsort(-all_err)[:n_top]\n",
    "# Map test positions to original indexes\n",
    "test_idx = X_test.index.to_numpy()\n",
    "print('Top anomalies (reconstruction error):')\n",
    "for i, tidx in enumerate(top_idx, 1):\n",
    "    row_index = test_idx[tidx]\n",
    "    name = None\n",
    "    # if original df had Player Name column, try to get it from original df\n",
    "    try:\n",
    "        original_df = df_filtered if 'df_filtered' in globals() else df\n",
    "        if 'Player Name' in original_df.columns:\n",
    "            name = original_df.loc[row_index, 'Player Name']\n",
    "    except Exception:\n",
    "        name = None\n",
    "    print(f'{i}. index {row_index} name={name} err={all_err[tidx]:.6f}')\n",
    "\n",
    "# Produce latent vectors for whole dataset and save\n",
    "with torch.no_grad():\n",
    "    X_all_s = scaler.transform(X)\n",
    "    z_all = []\n",
    "    for i in range(0, len(X_all_s), BATCH_SIZE):\n",
    "        batch = torch.tensor(X_all_s[i:i+BATCH_SIZE], dtype=torch.float32).to(DEVICE)\n",
    "        z = model_2d.encoder(batch).cpu().numpy()\n",
    "        z_all.append(z)\n",
    "    z_all = np.vstack(z_all)\n",
    "np.save(LATENTS_OUT, z_all)\n",
    "print('Saved latent vectors to', LATENTS_OUT)"
   ]
  },
  {
   "cell_type": "markdown",
   "metadata": {},
   "source": [
    "### Autoencoder Performance Summary"
   ]
  },
  {
   "cell_type": "code",
   "execution_count": 13,
   "metadata": {
    "execution": {
     "iopub.execute_input": "2025-10-27T21:10:05.898077Z",
     "iopub.status.busy": "2025-10-27T21:10:05.897648Z",
     "iopub.status.idle": "2025-10-27T21:10:05.925053Z",
     "shell.execute_reply": "2025-10-27T21:10:05.924155Z"
    }
   },
   "outputs": [
    {
     "name": "stdout",
     "output_type": "stream",
     "text": [
      "================================================================================\n",
      "AUTOENCODER PERFORMANCE SUMMARY\n",
      "================================================================================\n",
      "\n",
      "📐 MODEL ARCHITECTURE\n",
      "--------------------------------------------------------------------------------\n",
      "Input Dimension:        48 features\n",
      "Hidden Layers:          [128, 96, 64, 32]\n",
      "Latent Dimension:       2 (compression ratio: 24.0:1)\n",
      "Total Parameters:       54,066\n",
      "Device:                 cpu\n",
      "\n",
      "🏋️ TRAINING METRICS\n",
      "--------------------------------------------------------------------------------\n",
      "Training Time:          41.94 seconds\n",
      "Epochs Completed:       336/500\n",
      "Best Validation Loss:   0.297679\n",
      "Final Training Loss:    0.319926\n",
      "Training/Val Ratio:     1.075\n",
      "\n",
      "🎯 TEST SET PERFORMANCE\n",
      "--------------------------------------------------------------------------------\n",
      "Test Samples:           66\n",
      "Mean Reconstruction:    0.396005 (MSE)\n",
      "Std Reconstruction:     0.306702\n",
      "Median Reconstruction:  0.297480\n",
      "Min Reconstruction:     0.032850\n",
      "Max Reconstruction:     1.565078\n",
      "RMSE:                   0.629290\n",
      "\n",
      "Reconstruction Error Percentiles:\n",
      "  50th percentile:      0.297480\n",
      "  75th percentile:      0.420281\n",
      "  90th percentile:      0.851681\n",
      "  95th percentile:      1.044918\n",
      "  99th percentile:      1.308931\n",
      "\n",
      "✅ QUALITY ASSESSMENT\n",
      "--------------------------------------------------------------------------------\n",
      "Overfitting Check:      ✅ Good generalization (ratio: 1.075)\n",
      "Convergence:            ✅ Early stopping triggered (good)\n",
      "Reconstruction Quality: ✅ Good reconstruction (avg error: 0.629 std devs)\n",
      "\n",
      "🔍 ANOMALY DETECTION\n",
      "--------------------------------------------------------------------------------\n",
      "Anomalies (>2σ):        5 players (7.6%)\n",
      "Anomalies (>3σ):        1 players (1.5%)\n",
      "Threshold (2σ):         1.009409\n",
      "Threshold (3σ):         1.316110\n",
      "\n",
      "Top 5 Anomalies with Player Details:\n",
      "  1. Jonathan Isaac       (ORL, PF) - Error: 1.5651, PPG: 5.0\n",
      "  2. Jimmy Butler         (MIA, PF) - Error: 1.1710, PPG: 22.9\n",
      "  3. Nick Richards        (CHO, C) - Error: 1.1474, PPG: 8.2\n",
      "  4. Skylar Mays          (POR, PG) - Error: 1.0489, PPG: 15.3\n",
      "  5. Jay Huff             (WAS, C) - Error: 1.0331, PPG: 7.3\n",
      "\n",
      "💾 OUTPUT FILES\n",
      "--------------------------------------------------------------------------------\n",
      "Model:                  ae_model.pth\n",
      "Scaler:                 scaler.joblib\n",
      "Latent Vectors:         latent_vectors.npy (shape: (436, 2))\n",
      "\n",
      "================================================================================\n",
      "SUMMARY COMPLETE\n",
      "================================================================================\n"
     ]
    }
   ],
   "source": [
    "# ================================================================================\n",
    "# AUTOENCODER PERFORMANCE SUMMARY\n",
    "# ================================================================================\n",
    "\n",
    "print(\"=\" * 80)\n",
    "print(\"AUTOENCODER PERFORMANCE SUMMARY\")\n",
    "print(\"=\" * 80)\n",
    "\n",
    "# Architecture Summary\n",
    "print(\"\\n📐 MODEL ARCHITECTURE\")\n",
    "print(\"-\" * 80)\n",
    "print(f\"Input Dimension:        {input_dim} features\")\n",
    "print(f\"Hidden Layers:          {HIDDEN_DIMS}\")\n",
    "print(f\"Latent Dimension:       {LATENT_DIM} (compression ratio: {input_dim/LATENT_DIM:.1f}:1)\")\n",
    "print(f\"Total Parameters:       {sum(p.numel() for p in model_2d.parameters()):,}\")\n",
    "print(f\"Device:                 {DEVICE}\")\n",
    "\n",
    "# Training Summary\n",
    "print(\"\\n🏋️ TRAINING METRICS\")\n",
    "print(\"-\" * 80)\n",
    "print(f\"Training Time:          {time.time() - start:.2f} seconds\")\n",
    "print(f\"Epochs Completed:       {epoch}/{EPOCHS}\")\n",
    "print(f\"Best Validation Loss:   {best_val:.6f}\")\n",
    "print(f\"Final Training Loss:    {train_loss:.6f}\")\n",
    "print(f\"Training/Val Ratio:     {train_loss/best_val:.3f}\")\n",
    "\n",
    "# Test Performance\n",
    "print(\"\\n🎯 TEST SET PERFORMANCE\")\n",
    "print(\"-\" * 80)\n",
    "print(f\"Test Samples:           {len(all_err)}\")\n",
    "print(f\"Mean Reconstruction:    {all_err.mean():.6f} (MSE)\")\n",
    "print(f\"Std Reconstruction:     {all_err.std():.6f}\")\n",
    "print(f\"Median Reconstruction:  {np.median(all_err):.6f}\")\n",
    "print(f\"Min Reconstruction:     {all_err.min():.6f}\")\n",
    "print(f\"Max Reconstruction:     {all_err.max():.6f}\")\n",
    "print(f\"RMSE:                   {np.sqrt(all_err.mean()):.6f}\")\n",
    "\n",
    "# Percentiles\n",
    "percentiles = [50, 75, 90, 95, 99]\n",
    "print(\"\\nReconstruction Error Percentiles:\")\n",
    "for p in percentiles:\n",
    "    print(f\"  {p}th percentile:      {np.percentile(all_err, p):.6f}\")\n",
    "\n",
    "# Model Quality Assessment\n",
    "print(\"\\n✅ QUALITY ASSESSMENT\")\n",
    "print(\"-\" * 80)\n",
    "\n",
    "# Check for overfitting\n",
    "overfit_ratio = train_loss / best_val\n",
    "if overfit_ratio > 0.8:\n",
    "    overfit_status = \"✅ Good generalization\"\n",
    "elif overfit_ratio > 0.5:\n",
    "    overfit_status = \"⚠️ Slight overfitting\"\n",
    "else:\n",
    "    overfit_status = \"❌ Significant overfitting\"\n",
    "print(f\"Overfitting Check:      {overfit_status} (ratio: {overfit_ratio:.3f})\")\n",
    "\n",
    "# Check convergence\n",
    "if epoch < EPOCHS and no_improve >= patience:\n",
    "    convergence_status = \"✅ Early stopping triggered (good)\"\n",
    "elif epoch == EPOCHS:\n",
    "    convergence_status = \"⚠️ Reached max epochs (may benefit from more training)\"\n",
    "else:\n",
    "    convergence_status = \"✅ Converged successfully\"\n",
    "print(f\"Convergence:            {convergence_status}\")\n",
    "\n",
    "# Check reconstruction quality\n",
    "avg_std_dev = np.sqrt(all_err.mean())\n",
    "if avg_std_dev < 0.5:\n",
    "    recon_status = \"✅ Excellent reconstruction\"\n",
    "elif avg_std_dev < 0.75:\n",
    "    recon_status = \"✅ Good reconstruction\"\n",
    "elif avg_std_dev < 1.0:\n",
    "    recon_status = \"⚠️ Moderate reconstruction\"\n",
    "else:\n",
    "    recon_status = \"❌ Poor reconstruction\"\n",
    "print(f\"Reconstruction Quality: {recon_status} (avg error: {avg_std_dev:.3f} std devs)\")\n",
    "\n",
    "# Anomaly Detection Summary\n",
    "print(\"\\n🔍 ANOMALY DETECTION\")\n",
    "print(\"-\" * 80)\n",
    "threshold_2std = all_err.mean() + 2 * all_err.std()\n",
    "threshold_3std = all_err.mean() + 3 * all_err.std()\n",
    "n_anomalies_2std = (all_err > threshold_2std).sum()\n",
    "n_anomalies_3std = (all_err > threshold_3std).sum()\n",
    "\n",
    "print(f\"Anomalies (>2σ):        {n_anomalies_2std} players ({n_anomalies_2std/len(all_err)*100:.1f}%)\")\n",
    "print(f\"Anomalies (>3σ):        {n_anomalies_3std} players ({n_anomalies_3std/len(all_err)*100:.1f}%)\")\n",
    "print(f\"Threshold (2σ):         {threshold_2std:.6f}\")\n",
    "print(f\"Threshold (3σ):         {threshold_3std:.6f}\")\n",
    "\n",
    "print(\"\\nTop 5 Anomalies with Player Details:\")\n",
    "for i, tidx in enumerate(top_idx[:5], 1):\n",
    "    row_index = test_idx[tidx]\n",
    "    try:\n",
    "        original_df = df_filtered if 'df_filtered' in globals() else df\n",
    "        if 'Player Name' in original_df.columns:\n",
    "            player = original_df.loc[row_index]\n",
    "            name = player['Player Name']\n",
    "            team = player.get('Team', 'N/A')\n",
    "            pos = player.get('Position', 'N/A')\n",
    "            pts = player.get('PTS', 'N/A')\n",
    "            print(f\"  {i}. {name:20s} ({team}, {pos}) - Error: {all_err[tidx]:.4f}, PPG: {pts}\")\n",
    "    except Exception:\n",
    "        print(f\"  {i}. Index {row_index} - Error: {all_err[tidx]:.4f}\")\n",
    "\n",
    "# Files Saved\n",
    "print(\"\\n💾 OUTPUT FILES\")\n",
    "print(\"-\" * 80)\n",
    "print(f\"Model:                  {MODEL_OUT}\")\n",
    "print(f\"Scaler:                 {SCALER_OUT}\")\n",
    "print(f\"Latent Vectors:         {LATENTS_OUT} (shape: {z_all.shape})\")\n",
    "\n",
    "print(\"\\n\" + \"=\" * 80)\n",
    "print(\"SUMMARY COMPLETE\")\n",
    "print(\"=\" * 80)"
   ]
  },
  {
   "cell_type": "code",
   "execution_count": 14,
   "metadata": {
    "execution": {
     "iopub.execute_input": "2025-10-27T21:10:05.927933Z",
     "iopub.status.busy": "2025-10-27T21:10:05.927622Z",
     "iopub.status.idle": "2025-10-27T21:10:07.296783Z",
     "shell.execute_reply": "2025-10-27T21:10:07.294759Z"
    }
   },
   "outputs": [
    {
     "data": {
      "image/png": "[encoded data removed]",
      "text/plain": [
       "<Figure size 700x600 with 1 Axes>"
      ]
     },
     "metadata": {},
     "output_type": "display_data"
    }
   ],
   "source": [
    "# Build 2-D codes for the filtered dataset\n",
    "with torch.no_grad():\n",
    "    X_all_s = scaler.transform(X)  # from your cleaned df_model\n",
    "    Z2 = []\n",
    "    for i in range(0, len(X_all_s), BATCH_SIZE):\n",
    "        batch = torch.tensor(X_all_s[i:i+BATCH_SIZE], dtype=torch.float32, device=DEVICE)\n",
    "        Z2.append(model_2d.encoder(batch).cpu().numpy())\n",
    "    Z2 = np.vstack(Z2)  # shape (n_players_filtered, 2)\n",
    "\n",
    "# Make a matplotlib scatter (renders nicely to PDF)\n",
    "import matplotlib.pyplot as plt\n",
    "fig, ax = plt.subplots(figsize=(7,6))\n",
    "pos = (df_filtered['Position'] if 'df_filtered' in globals() and 'Position' in df_filtered.columns \n",
    "       else df['Position']).reset_index(drop=True)\n",
    "for p in sorted(pos.unique()):\n",
    "    m = (pos == p).values\n",
    "    ax.scatter(Z2[m,0], Z2[m,1], s=18, label=p, alpha=0.8)\n",
    "ax.set_title('Q2(a): 2-D Autoencoder Embedding (colored by Position)')\n",
    "ax.set_xlabel('z1'); ax.set_ylabel('z2'); ax.legend(title='Position', ncols=3, fontsize=8)\n",
    "plt.tight_layout()"
   ]
  },
  {
   "cell_type": "markdown",
   "metadata": {},
   "source": [
    "# Load saved latent vectors (already computed above)\n",
    "Z2 = np.load(LATENTS_OUT)  # shape (n_players_filtered, 2)\n",
    "print(f\"Loaded latent vectors: {Z2.shape}\")\n",
    "\n",
    "# Make a matplotlib scatter (renders nicely to PDF)import matplotlib.pyplot as pltfig, ax = plt.subplots(figsize=(7,6))pos = (df_filtered['Position'] if 'df_filtered' in globals() and 'Position' in df_filtered.columns        else df['Position']).reset_index(drop=True)for p in sorted(pos.unique()):    m = (pos == p).values    ax.scatter(Z2[m,0], Z2[m,1], s=18, label=p, alpha=0.8)ax.set_title('Q2(a): 2-D Autoencoder Embedding (colored by Position)')ax.set_xlabel('z1'); ax.set_ylabel('z2'); ax.legend(title='Position', ncols=3, fontsize=8)plt.tight_layout()"
   ]
  },
  {
   "cell_type": "markdown",
   "metadata": {},
   "source": [
    "## References\n",
    "\n",
    "1. Dataset: NBA 2022-23 Season Statistics\n",
    "2. Libraries used: pandas, numpy, matplotlib, seaborn, plotly, scipy, sklearn\n",
    "3. [Add any additional references used]"
   ]
  },
  {
   "cell_type": "markdown",
   "metadata": {},
   "source": [
    "## 3.b Autoencoders + self-organising maps (SOMs)"
   ]
  },
  {
   "cell_type": "code",
   "execution_count": 15,
   "metadata": {
    "execution": {
     "iopub.execute_input": "2025-10-27T21:10:07.303561Z",
     "iopub.status.busy": "2025-10-27T21:10:07.303085Z",
     "iopub.status.idle": "2025-10-27T21:10:07.314374Z",
     "shell.execute_reply": "2025-10-27T21:10:07.313655Z"
    }
   },
   "outputs": [
    {
     "name": "stdout",
     "output_type": "stream",
     "text": [
      "Loaded latent vectors: (436, 2)\n"
     ]
    }
   ],
   "source": [
    "# Load latent vectors\n",
    "LATENTS_OUT = 'latent_vectors.npy'\n",
    "latent_vectors = np.load(LATENTS_OUT)\n",
    "print(f\"Loaded latent vectors: {latent_vectors.shape}\")"
   ]
  },
  {
   "cell_type": "code",
   "execution_count": 16,
   "metadata": {
    "execution": {
     "iopub.execute_input": "2025-10-27T21:10:07.316858Z",
     "iopub.status.busy": "2025-10-27T21:10:07.316609Z",
     "iopub.status.idle": "2025-10-27T21:10:17.841872Z",
     "shell.execute_reply": "2025-10-27T21:10:17.839797Z"
    }
   },
   "outputs": [
    {
     "name": "stdout",
     "output_type": "stream",
     "text": [
      "Initialized SOM weights with PCA.\n",
      "Training SOM...\n"
     ]
    },
    {
     "name": "stdout",
     "output_type": "stream",
     "text": [
      "Training complete.\n"
     ]
    },
    {
     "data": {
      "image/png": "[encoded data removed]",
      "text/plain": [
       "<Figure size 1000x1600 with 3 Axes>"
      ]
     },
     "metadata": {},
     "output_type": "display_data"
    },
    {
     "name": "stdout",
     "output_type": "stream",
     "text": [
      "\n",
      " Cluster descriptions:\n",
      "\n",
      " Blue: Bench role players \n",
      " Orange: Defensive players \n",
      " Green: Secondary playmakers \n",
      " Red: Players with limited minutes \n",
      " Purple: Primary Scoring Starters\n"
     ]
    }
   ],
   "source": [
    "# SOM setup & training\n",
    "som_x, som_y = 10, 10  # grid size\n",
    "input_len = latent_vectors.shape[1]\n",
    "\n",
    "som = MiniSom(x=som_x, y=som_y, input_len=input_len,\n",
    "              sigma=1.0, learning_rate=0.5, random_seed=42)\n",
    "\n",
    "# initialize + train\n",
    "som.pca_weights_init(latent_vectors)\n",
    "print(\"Initialized SOM weights with PCA.\")\n",
    "print(\"Training SOM...\")\n",
    "som.train_random(latent_vectors, num_iteration=5000)\n",
    "print(\"Training complete.\")\n",
    "\n",
    "# distance map (U-Matrix)\n",
    "u_matrix = som.distance_map().T  # transpose to align plotting orientation\n",
    "\n",
    "# K-Means on latent vectors\n",
    "n_clusters = 5\n",
    "kmeans = KMeans(n_clusters=n_clusters, random_state=42)\n",
    "cluster_labels = kmeans.fit_predict(latent_vectors)\n",
    "\n",
    "# Cluster names and df alignment\n",
    "cluster_names = {\n",
    "    0: \"Bench role players\",\n",
    "    1: \"Defensive players\",\n",
    "    2: \"Secondary playmakers\",\n",
    "    3: \"Players with limited minutes\",\n",
    "    4: \"Primary Scoring Starters\"\n",
    "}\n",
    "\n",
    "# Align df to latent vectors length (keep same ordering as latent vectors)\n",
    "df = df.iloc[:len(latent_vectors)].copy()\n",
    "df['cluster'] = cluster_labels\n",
    "df['cluster_name'] = df['cluster'].map(cluster_names)\n",
    "\n",
    "# Color map & unique clusters\n",
    "unique_clusters = sorted(df['cluster'].unique())\n",
    "\n",
    "# create a distinct color for each cluster \n",
    "colors = plt.cm.tab10(range(len(unique_clusters)))\n",
    "cluster_color_map = {c: colors[i] for i, c in enumerate(unique_clusters)}\n",
    "\n",
    "# Plot vertically: U-Matrix then Cluster Map\n",
    "\n",
    "fig, axes = plt.subplots(2, 1, figsize=(10, 16))\n",
    "\n",
    "# Plot 1: U-Matrix (top)\n",
    "ax = axes[0]\n",
    "ax.set_title(\"SOM U-Matrix (Cluster Separation)\", fontsize=14)\n",
    "u_plot = ax.pcolor(u_matrix, cmap='bone_r', edgecolors='k', linewidth=0.01)\n",
    "fig.colorbar(u_plot, ax=ax, label='Distance')\n",
    "ax.set_xlim(0, som_x)\n",
    "ax.set_ylim(0, som_y)\n",
    "ax.invert_yaxis()\n",
    "ax.set_xlabel(\"SOM X\")\n",
    "ax.set_ylabel(\"SOM Y\")\n",
    "\n",
    "# Plot 2: SOM Mapping by cluster (bottom)\n",
    "ax2 = axes[1]\n",
    "ax2.set_title(\"SOM Mapping by Player Cluster\", fontsize=14)\n",
    "\n",
    "# Show small marker per data point\n",
    "for i, vec in enumerate(latent_vectors):\n",
    "    bmu = som.winner(vec)\n",
    "    c = int(df.iloc[i]['cluster'])\n",
    "    ax2.scatter(bmu[0] + 0.5, bmu[1] + 0.5,\n",
    "                color=cluster_color_map[c],\n",
    "                s=70, alpha=0.95, edgecolor='k', linewidth=0.3)\n",
    "\n",
    "\n",
    "ax2.set_xlim(0, som_x)\n",
    "ax2.set_ylim(0, som_y)\n",
    "ax2.invert_yaxis()\n",
    "ax2.set_xlabel(\"SOM X\")\n",
    "ax2.set_ylabel(\"SOM Y\")\n",
    "\n",
    "plt.tight_layout()\n",
    "plt.show()\n",
    "\n",
    "# Cluster names\n",
    "print(\"\\n Cluster descriptions:\")\n",
    "print(\"\\n Blue: Bench role players \\n Orange: Defensive players \\n Green: Secondary playmakers \\n Red: Players with limited minutes \\n Purple: Primary Scoring Starters\")\n"
   ]
  },
  {
   "cell_type": "markdown",
   "metadata": {},
   "source": [
    "## Explanation:\n",
    "In this section we made use of the latent vectors derived from the autoencoders in 3.a combined with a SOMs approach.\n",
    "The SOMs approach helps us understand the continuous similarity patterns between the player roles, and we later use it to then derive two graphs: U-matrix and the Player cluster. The U-matrix will be used to show class boundaries:\n",
    "\n",
    "- The light areas indicate large distances between the neurons which translates to a strong difference between the group of players.\n",
    "\n",
    "- The dark areas indicate small distances between the neurons which are homogeneous regions where players have similar profiles.\n",
    "\n",
    "Finally we use the Player cluster to help us interpretate the different data points in the clusters and their mapping from the U-matrix gradients with the cluster descriptions given in the print above. In the section bellow we introduce the cluster statistical summaries where we present the data used to generate these descriptions.\n"
   ]
  },
  {
   "cell_type": "markdown",
   "metadata": {},
   "source": [
    "## 3.c Autoencoders + t-SNE"
   ]
  },
  {
   "cell_type": "code",
   "execution_count": 17,
   "metadata": {
    "execution": {
     "iopub.execute_input": "2025-10-27T21:10:17.847881Z",
     "iopub.status.busy": "2025-10-27T21:10:17.847164Z",
     "iopub.status.idle": "2025-10-27T21:10:21.241338Z",
     "shell.execute_reply": "2025-10-27T21:10:21.239232Z"
    }
   },
   "outputs": [
    {
     "name": "stdout",
     "output_type": "stream",
     "text": [
      "\n",
      " Cluster Statistical Summary:\n"
     ]
    },
    {
     "data": {
      "text/html": [
       "<div>\n",
       "<style scoped>\n",
       "    .dataframe tbody tr th:only-of-type {\n",
       "        vertical-align: middle;\n",
       "    }\n",
       "\n",
       "    .dataframe tbody tr th {\n",
       "        vertical-align: top;\n",
       "    }\n",
       "\n",
       "    .dataframe thead th {\n",
       "        text-align: right;\n",
       "    }\n",
       "</style>\n",
       "<table border=\"1\" class=\"dataframe\">\n",
       "  <thead>\n",
       "    <tr style=\"text-align: right;\">\n",
       "      <th></th>\n",
       "      <th>PTS</th>\n",
       "      <th>AST%</th>\n",
       "      <th>STL%</th>\n",
       "      <th>BLK%</th>\n",
       "      <th>ORB%</th>\n",
       "      <th>DRB%</th>\n",
       "    </tr>\n",
       "    <tr>\n",
       "      <th>cluster</th>\n",
       "      <th></th>\n",
       "      <th></th>\n",
       "      <th></th>\n",
       "      <th></th>\n",
       "      <th></th>\n",
       "      <th></th>\n",
       "    </tr>\n",
       "  </thead>\n",
       "  <tbody>\n",
       "    <tr>\n",
       "      <th>0</th>\n",
       "      <td>9.37</td>\n",
       "      <td>14.04</td>\n",
       "      <td>1.55</td>\n",
       "      <td>1.31</td>\n",
       "      <td>3.39</td>\n",
       "      <td>12.34</td>\n",
       "    </tr>\n",
       "    <tr>\n",
       "      <th>1</th>\n",
       "      <td>6.01</td>\n",
       "      <td>9.66</td>\n",
       "      <td>1.39</td>\n",
       "      <td>2.36</td>\n",
       "      <td>7.25</td>\n",
       "      <td>16.27</td>\n",
       "    </tr>\n",
       "    <tr>\n",
       "      <th>2</th>\n",
       "      <td>18.77</td>\n",
       "      <td>20.39</td>\n",
       "      <td>1.42</td>\n",
       "      <td>1.81</td>\n",
       "      <td>4.94</td>\n",
       "      <td>17.17</td>\n",
       "    </tr>\n",
       "    <tr>\n",
       "      <th>3</th>\n",
       "      <td>5.82</td>\n",
       "      <td>11.56</td>\n",
       "      <td>1.49</td>\n",
       "      <td>1.57</td>\n",
       "      <td>4.86</td>\n",
       "      <td>13.64</td>\n",
       "    </tr>\n",
       "    <tr>\n",
       "      <th>4</th>\n",
       "      <td>4.79</td>\n",
       "      <td>9.82</td>\n",
       "      <td>1.53</td>\n",
       "      <td>2.03</td>\n",
       "      <td>6.91</td>\n",
       "      <td>15.64</td>\n",
       "    </tr>\n",
       "  </tbody>\n",
       "</table>\n",
       "</div>"
      ],
      "text/plain": [
       "           PTS   AST%  STL%  BLK%  ORB%   DRB%\n",
       "cluster                                       \n",
       "0         9.37  14.04  1.55  1.31  3.39  12.34\n",
       "1         6.01   9.66  1.39  2.36  7.25  16.27\n",
       "2        18.77  20.39  1.42  1.81  4.94  17.17\n",
       "3         5.82  11.56  1.49  1.57  4.86  13.64\n",
       "4         4.79   9.82  1.53  2.03  6.91  15.64"
      ]
     },
     "metadata": {},
     "output_type": "display_data"
    },
    {
     "name": "stdout",
     "output_type": "stream",
     "text": [
      "\n",
      "Example Players per Cluster:\n",
      "Cluster 0 (0: Bench role players): John Wall, Khris Middleton, Andrew Wiggins, Kevin Love, Gordon Hayward, Kyle Lowry, Mike Conley, Anfernee Simons, Nicolas Batum, Eric Gordon\n",
      "Cluster 1 (1: Defensive players): Steven Adams, Jonathan Isaac, Chris Boucher, Richaun Holmes, Dwight Powell, DeAndre Jordan, Robert Williams, Mo Bamba, James Wiseman, Isaiah Hartenstein\n",
      "Cluster 2 (2: Secondary playmakers): Stephen Curry, Russell Westbrook, LeBron James, Kevin Durant, Bradley Beal, Kawhi Leonard, Paul George, Giannis Antetokounmpo, Damian Lillard, Klay Thompson\n",
      "Cluster 3 (3: Players with limited minutes): Kemba Walker, Evan Fournier, Duncan Robinson, Will Barton, Derrick Rose, Robert Covington, Danny Green, Jae Crowder, Maxi Kleber, Gary Payton II\n",
      "Cluster 4 (4: Primary Scoring Starters): Nerlens Noel, Daniel Theis, Cody Martin, Khem Birch, Garrett Temple, Furkan Korkmaz, Johnny Davis, James Bouknight, Darius Bazley, Gorgui Dieng\n"
     ]
    },
    {
     "data": {
      "image/png": "[encoded data removed]",
      "text/plain": [
       "<Figure size 800x600 with 1 Axes>"
      ]
     },
     "metadata": {},
     "output_type": "display_data"
    }
   ],
   "source": [
    "# Reduce latent vectors to 2D using t-SNE\n",
    "tsne = TSNE(n_components=2, random_state=42, perplexity=30, learning_rate=200)\n",
    "latent_tsne = tsne.fit_transform(latent_vectors)\n",
    "\n",
    "# Apply K-Means clustering to t-SNE output\n",
    "kmeans = KMeans(n_clusters=5, random_state=42)\n",
    "cluster_labels = kmeans.fit_predict(latent_tsne)\n",
    "\n",
    "# Add cluster labels to df and also filter the df to match the latent vectors\n",
    "df = df.iloc[:len(cluster_labels)].copy()\n",
    "df['cluster'] = cluster_labels\n",
    "\n",
    "# Define stats\n",
    "stat_cols = ['PTS', 'AST%', 'STL%', 'BLK%', 'ORB%', 'DRB%']\n",
    "\n",
    "# Compute cluster summary\n",
    "cluster_summary = df.groupby('cluster')[stat_cols].mean().round(2)\n",
    "print(\"\\n Cluster Statistical Summary:\")\n",
    "display(cluster_summary)\n",
    "\n",
    "# Plot t-SNE reduced space \n",
    "plt.figure(figsize=(8, 6))\n",
    "plt.scatter(latent_tsne[:, 0], latent_tsne[:, 1], c=cluster_labels, cmap='tab10', s=50)\n",
    "plt.title(\"t-SNE + K-Means Clustering of Latent Vectors\")\n",
    "plt.xlabel(\"t-SNE Dimension 1\")\n",
    "plt.ylabel(\"t-SNE Dimension 2\")\n",
    "\n",
    "# Add cluster labels\n",
    "cluster_names = {\n",
    "    0: \"0: Bench role players\",\n",
    "    1: \"1: Defensive players\",\n",
    "    2: \"2: Secondary playmakers\",\n",
    "    3: \"3: Players with limited minutes\",\n",
    "    4: \"4: Primary Scoring Starters\"\n",
    "}\n",
    "\n",
    "# Print players within the clusters in order to check model correctness\n",
    "print(\"\\nExample Players per Cluster:\")\n",
    "\n",
    "for cluster_id in sorted(df['cluster'].unique()):\n",
    "    players = df[df['cluster'] == cluster_id]['Player Name'].head(10).tolist()\n",
    "    print(f\"Cluster {cluster_id} ({cluster_names.get(cluster_id, 'Unknown')}): {', '.join(players)}\")\n",
    "\n",
    "# Replace label text\n",
    "for cluster_id in range(kmeans.n_clusters):\n",
    "    x_mean = latent_tsne[cluster_labels == cluster_id, 0].mean()\n",
    "    y_mean = latent_tsne[cluster_labels == cluster_id, 1].mean()\n",
    "    plt.text(x_mean, y_mean,\n",
    "             cluster_names[cluster_id],\n",
    "             fontsize=10, weight='bold',\n",
    "             color='black', ha='center', va='center',\n",
    "             bbox=dict(facecolor='white', alpha=0.6, edgecolor='black', boxstyle='round,pad=0.3'))\n"
   ]
  },
  {
   "cell_type": "markdown",
   "metadata": {},
   "source": [
    "## Explanation:\n",
    "\n",
    "This section uses the t-SNE approach which helps us focus on local similarity, preserving players who are close in feature space and it is also useful for visualizing distinct roles clearly. For our interpretation we will make use of the cluster statistical summary and the K-Means clustering.\n",
    "\n",
    "By using the table of averages above is how we were able to properly describe the clusters:\n",
    "\n",
    "- Cluster 0: Bench role players with a moderate average of assists as well as defensive rebounds. Meaning, the players in this cluster are good on defense and they can set up the plays, but lack in scoring stats.\n",
    "\n",
    "- Cluster 1: Defensive bench players. These players tend to be quite tall compared to the others which facilitates in ball possession, and this is backed up by the offensive/defensive rebound averages, however even though they can get a moderate average of assists, their scoring ability is a weakness.\n",
    "\n",
    "- Cluster 2: Secondary playmakers. These players are in charge of setting up the plays, while also being able to score themselves and participate on the defense. They are players who ensure good ball movement on the court, and we see this by looking at the points, average of assists and defensive rebound. \n",
    "\n",
    "- Cluster 3: Players with limited minutes. In the basketball roster the role and talent of a player speaks volumes, and often we get players who are not able to perform at the high level or given opportunities in a team full of talents. Most of these players are quite good on defense and assists, but lack heavily on the scoring sheet.\n",
    "\n",
    "- Cluster 4: Starters. These players are all-rounders when it comes to playmaking, scoring and defensive abilities and they compose the 5 main players of the roster."
   ]
  },
  {
   "cell_type": "code",
   "execution_count": null,
   "metadata": {},
   "outputs": [],
   "source": []
  },
  {
   "cell_type": "markdown",
   "metadata": {},
   "source": [
    "## 2(e) Variational Autoencoder (VAE)\n",
    "\n",
    "### Overview\n",
    "This section implements a Variational Autoencoder (VAE) to learn a probabilistic latent representation of NBA player statistics. Unlike standard autoencoders, VAEs learn a distribution over the latent space, enabling better generalization and smoother interpolations."
   ]
  },
  {
   "cell_type": "code",
   "execution_count": 37,
   "metadata": {},
   "outputs": [
    {
     "name": "stdout",
     "output_type": "stream",
     "text": [
      "\n",
      "✅ VAE model initialized with 54,132 parameters\n",
      "\n",
      "Starting VAE training...\n",
      "--------------------------------------------------------------------------------\n",
      "Epoch 001 - Train Loss: 48.1757 (Recon: 48.1457, KLD: 0.0301) | Val Loss: 39.7767 (Recon: 39.7489, KLD: 0.0277)\n",
      "Epoch 010 - Train Loss: 48.0779 (Recon: 48.0748, KLD: 0.0031) | Val Loss: 39.7283 (Recon: 39.7247, KLD: 0.0036)\n",
      "Epoch 020 - Train Loss: 48.0587 (Recon: 48.0561, KLD: 0.0026) | Val Loss: 39.7078 (Recon: 39.7051, KLD: 0.0027)\n",
      "Epoch 030 - Train Loss: 48.0115 (Recon: 48.0020, KLD: 0.0094) | Val Loss: 39.6721 (Recon: 39.6641, KLD: 0.0080)\n",
      "Epoch 040 - Train Loss: 47.0655 (Recon: 46.5897, KLD: 0.4759) | Val Loss: 38.5275 (Recon: 37.9555, KLD: 0.5721)\n",
      "Epoch 050 - Train Loss: 32.5099 (Recon: 29.9436, KLD: 2.5663) | Val Loss: 28.1461 (Recon: 26.1657, KLD: 1.9804)\n",
      "Epoch 060 - Train Loss: 31.3234 (Recon: 28.8050, KLD: 2.5184) | Val Loss: 27.9673 (Recon: 25.9897, KLD: 1.9776)\n",
      "Epoch 070 - Train Loss: 30.8203 (Recon: 28.3632, KLD: 2.4571) | Val Loss: 26.6394 (Recon: 24.7232, KLD: 1.9162)\n",
      "Epoch 080 - Train Loss: 30.4081 (Recon: 28.0362, KLD: 2.3719) | Val Loss: 26.3687 (Recon: 24.4272, KLD: 1.9415)\n",
      "Epoch 090 - Train Loss: 29.9037 (Recon: 27.4977, KLD: 2.4060) | Val Loss: 26.3303 (Recon: 24.3613, KLD: 1.9690)\n",
      "Epoch 100 - Train Loss: 29.4666 (Recon: 27.0477, KLD: 2.4189) | Val Loss: 26.3427 (Recon: 24.3167, KLD: 2.0260)\n",
      "Epoch 110 - Train Loss: 29.1120 (Recon: 26.8244, KLD: 2.2876) | Val Loss: 26.0819 (Recon: 24.1407, KLD: 1.9412)\n",
      "Epoch 120 - Train Loss: 28.7851 (Recon: 26.4682, KLD: 2.3169) | Val Loss: 26.1635 (Recon: 24.1975, KLD: 1.9661)\n",
      "Epoch 130 - Train Loss: 28.3632 (Recon: 26.0589, KLD: 2.3043) | Val Loss: 25.4623 (Recon: 23.4636, KLD: 1.9987)\n",
      "Epoch 140 - Train Loss: 27.4420 (Recon: 25.1212, KLD: 2.3208) | Val Loss: 24.8788 (Recon: 22.8277, KLD: 2.0511)\n",
      "Epoch 150 - Train Loss: 24.8461 (Recon: 21.9349, KLD: 2.9113) | Val Loss: 22.3622 (Recon: 19.7878, KLD: 2.5745)\n",
      "Epoch 160 - Train Loss: 23.0720 (Recon: 19.7949, KLD: 3.2771) | Val Loss: 20.1876 (Recon: 17.1885, KLD: 2.9991)\n",
      "Epoch 170 - Train Loss: 22.1149 (Recon: 18.8300, KLD: 3.2849) | Val Loss: 20.0436 (Recon: 17.0769, KLD: 2.9667)\n",
      "Epoch 180 - Train Loss: 21.9047 (Recon: 18.6515, KLD: 3.2532) | Val Loss: 19.8293 (Recon: 16.8275, KLD: 3.0017)\n",
      "Epoch 190 - Train Loss: 21.6199 (Recon: 18.3449, KLD: 3.2750) | Val Loss: 19.3639 (Recon: 16.3528, KLD: 3.0111)\n",
      "Epoch 200 - Train Loss: 21.6158 (Recon: 18.3521, KLD: 3.2637) | Val Loss: 19.7352 (Recon: 16.7153, KLD: 3.0199)\n",
      "Epoch 210 - Train Loss: 21.2954 (Recon: 18.0265, KLD: 3.2689) | Val Loss: 19.1799 (Recon: 16.1873, KLD: 2.9926)\n",
      "Epoch 220 - Train Loss: 21.2452 (Recon: 17.9708, KLD: 3.2743) | Val Loss: 19.2650 (Recon: 16.2418, KLD: 3.0232)\n",
      "Epoch 230 - Train Loss: 21.2039 (Recon: 17.8966, KLD: 3.3072) | Val Loss: 19.3141 (Recon: 16.2787, KLD: 3.0354)\n",
      "Epoch 240 - Train Loss: 21.0111 (Recon: 17.6617, KLD: 3.3494) | Val Loss: 18.8460 (Recon: 15.7643, KLD: 3.0817)\n",
      "Epoch 250 - Train Loss: 21.0627 (Recon: 17.7648, KLD: 3.2978) | Val Loss: 19.0151 (Recon: 15.9889, KLD: 3.0261)\n",
      "Epoch 260 - Train Loss: 20.9633 (Recon: 17.6791, KLD: 3.2842) | Val Loss: 18.9373 (Recon: 15.8622, KLD: 3.0751)\n",
      "Epoch 270 - Train Loss: 20.8674 (Recon: 17.5277, KLD: 3.3397) | Val Loss: 19.1364 (Recon: 16.0451, KLD: 3.0913)\n",
      "Epoch 280 - Train Loss: 20.7617 (Recon: 17.4146, KLD: 3.3471) | Val Loss: 18.8052 (Recon: 15.6920, KLD: 3.1132)\n",
      "\n",
      "Early stopping triggered at epoch 287\n",
      "--------------------------------------------------------------------------------\n",
      "Training completed in 63.49 seconds\n",
      "Best validation loss: 18.744280\n",
      "Model saved to: vae_model.pth\n",
      "================================================================================\n",
      "\n",
      "================================================================================\n",
      "GENERATING VAE LATENT REPRESENTATIONS\n",
      "================================================================================\n",
      "\n",
      "✅ K-Means clustering completed with 5 clusters\n",
      "\n",
      "================================================================================\n",
      "CLUSTER STATISTICAL SUMMARY (VAE)\n",
      "================================================================================\n",
      "           PTS   AST%  STL%  BLK%   ORB%   DRB%\n",
      "cluster                                        \n",
      "0         8.98  13.40  1.54  1.09   3.03  12.09\n",
      "1        11.08   9.87  1.26  4.37  12.55  24.24\n",
      "2        20.12  23.00  1.47  1.25   3.19  14.44\n",
      "3         5.22   9.23  1.52  2.81   8.46  18.43\n",
      "4         3.47  12.27  1.49  1.16   3.59  11.13\n",
      "\n",
      "================================================================================\n",
      "EXAMPLE PLAYERS PER CLUSTER\n",
      "================================================================================\n",
      "\n",
      "Cluster 0 - Bench role players:\n",
      "  John Wall, Kemba Walker, Kevin Love, Gordon Hayward, Kyle Lowry, Nicolas Batum, Eric Gordon, Caris LeVert\n",
      "\n",
      "Cluster 1 - Defensive players:\n",
      "  Giannis Antetokounmpo, Rudy Gobert, Anthony Davis, Myles Turner, Joel Embiid, Deandre Ayton, Bam Adebayo, Domantas Sabonis\n",
      "\n",
      "Cluster 2 - Secondary playmakers:\n",
      "  Stephen Curry, Russell Westbrook, LeBron James, Kevin Durant, Bradley Beal, Kawhi Leonard, Paul George, Damian Lillard\n",
      "\n",
      "Cluster 3 - Players with limited minutes:\n",
      "  Ben Simmons, Jonathan Isaac, Josh Hart, Chris Boucher, Robert Covington, Richaun Holmes, DeAndre Jordan, Mo Bamba\n",
      "\n",
      "Cluster 4 - Primary Scoring Starters:\n",
      "  Evan Fournier, Derrick Rose, Cody Martin, Rudy Gay, Justin Holiday, Ricky Rubio, Romeo Langford, Garrett Temple\n",
      "\n",
      "================================================================================\n"
     ]
    },
    {
     "ename": "KeyError",
     "evalue": "np.int32(0)",
     "output_type": "error",
     "traceback": [
      "\u001b[31m---------------------------------------------------------------------------\u001b[39m",
      "\u001b[31mKeyError\u001b[39m                                  Traceback (most recent call last)",
      "\u001b[36mCell\u001b[39m\u001b[36m \u001b[39m\u001b[32mIn[37]\u001b[39m\u001b[32m, line 239\u001b[39m\n\u001b[32m    233\u001b[39m     cluster_mask = cluster_labels_vae == cluster_id\n\u001b[32m    234\u001b[39m     cluster_name = cluster_names.get(cluster_id, \u001b[33mf\u001b[39m\u001b[33m\"\u001b[39m\u001b[33mCluster \u001b[39m\u001b[38;5;132;01m{\u001b[39;00mcluster_id\u001b[38;5;132;01m}\u001b[39;00m\u001b[33m\"\u001b[39m)\n\u001b[32m    236\u001b[39m     ax.scatter(\n\u001b[32m    237\u001b[39m         latent_vae[cluster_mask, \u001b[32m0\u001b[39m],\n\u001b[32m    238\u001b[39m         latent_vae[cluster_mask, \u001b[32m1\u001b[39m],\n\u001b[32m--> \u001b[39m\u001b[32m239\u001b[39m         c=[\u001b[43mcluster_color_map\u001b[49m\u001b[43m[\u001b[49m\u001b[43mcluster_id\u001b[49m\u001b[43m]\u001b[49m],\n\u001b[32m    240\u001b[39m         label=\u001b[33mf\u001b[39m\u001b[33m\"\u001b[39m\u001b[38;5;132;01m{\u001b[39;00mcluster_id\u001b[38;5;132;01m}\u001b[39;00m\u001b[33m: \u001b[39m\u001b[38;5;132;01m{\u001b[39;00mcluster_name\u001b[38;5;132;01m}\u001b[39;00m\u001b[33m\"\u001b[39m,\n\u001b[32m    241\u001b[39m         s=\u001b[32m50\u001b[39m,\n\u001b[32m    242\u001b[39m         alpha=\u001b[32m0.7\u001b[39m,\n\u001b[32m    243\u001b[39m         edgecolors=\u001b[33m'\u001b[39m\u001b[33mk\u001b[39m\u001b[33m'\u001b[39m,\n\u001b[32m    244\u001b[39m         linewidth=\u001b[32m0.3\u001b[39m\n\u001b[32m    245\u001b[39m     )\n\u001b[32m    247\u001b[39m \u001b[38;5;66;03m# Add cluster centroids\u001b[39;00m\n\u001b[32m    248\u001b[39m centroids = kmeans_vae.cluster_centers_\n",
      "\u001b[31mKeyError\u001b[39m: np.int32(0)"
     ]
    },
    {
     "data": {
      "image/png": "[encoded data removed]",
      "text/plain": [
       "<Figure size 1000x800 with 1 Axes>"
      ]
     },
     "metadata": {},
     "output_type": "display_data"
    },
    {
     "name": "stdout",
     "output_type": "stream",
     "text": [
      "Epoch 020 - Train Loss: 48.0587 (Recon: 48.0561, KLD: 0.0026) | Val Loss: 39.7078 (Recon: 39.7051, KLD: 0.0027)\n"
     ]
    },
    {
     "name": "stdout",
     "output_type": "stream",
     "text": [
      "Epoch 030 - Train Loss: 48.0115 (Recon: 48.0020, KLD: 0.0094) | Val Loss: 39.6721 (Recon: 39.6641, KLD: 0.0080)\n"
     ]
    },
    {
     "name": "stdout",
     "output_type": "stream",
     "text": [
      "Epoch 040 - Train Loss: 47.0655 (Recon: 46.5897, KLD: 0.4759) | Val Loss: 38.5275 (Recon: 37.9555, KLD: 0.5721)\n"
     ]
    },
    {
     "name": "stdout",
     "output_type": "stream",
     "text": [
      "Epoch 050 - Train Loss: 32.5099 (Recon: 29.9436, KLD: 2.5663) | Val Loss: 28.1461 (Recon: 26.1657, KLD: 1.9804)\n"
     ]
    },
    {
     "name": "stdout",
     "output_type": "stream",
     "text": [
      "Epoch 060 - Train Loss: 31.3234 (Recon: 28.8050, KLD: 2.5184) | Val Loss: 27.9673 (Recon: 25.9897, KLD: 1.9776)\n"
     ]
    },
    {
     "name": "stdout",
     "output_type": "stream",
     "text": [
      "Epoch 070 - Train Loss: 30.8203 (Recon: 28.3632, KLD: 2.4571) | Val Loss: 26.6394 (Recon: 24.7232, KLD: 1.9162)\n"
     ]
    },
    {
     "name": "stdout",
     "output_type": "stream",
     "text": [
      "Epoch 080 - Train Loss: 30.4081 (Recon: 28.0362, KLD: 2.3719) | Val Loss: 26.3687 (Recon: 24.4272, KLD: 1.9415)\n"
     ]
    },
    {
     "name": "stdout",
     "output_type": "stream",
     "text": [
      "Epoch 090 - Train Loss: 29.9037 (Recon: 27.4977, KLD: 2.4060) | Val Loss: 26.3303 (Recon: 24.3613, KLD: 1.9690)\n"
     ]
    },
    {
     "name": "stdout",
     "output_type": "stream",
     "text": [
      "Epoch 100 - Train Loss: 29.4666 (Recon: 27.0477, KLD: 2.4189) | Val Loss: 26.3427 (Recon: 24.3167, KLD: 2.0260)\n"
     ]
    },
    {
     "name": "stdout",
     "output_type": "stream",
     "text": [
      "Epoch 110 - Train Loss: 29.1120 (Recon: 26.8244, KLD: 2.2876) | Val Loss: 26.0819 (Recon: 24.1407, KLD: 1.9412)\n"
     ]
    },
    {
     "name": "stdout",
     "output_type": "stream",
     "text": [
      "Epoch 120 - Train Loss: 28.7851 (Recon: 26.4682, KLD: 2.3169) | Val Loss: 26.1635 (Recon: 24.1975, KLD: 1.9661)\n"
     ]
    },
    {
     "name": "stdout",
     "output_type": "stream",
     "text": [
      "Epoch 130 - Train Loss: 28.3632 (Recon: 26.0589, KLD: 2.3043) | Val Loss: 25.4623 (Recon: 23.4636, KLD: 1.9987)\n"
     ]
    },
    {
     "name": "stdout",
     "output_type": "stream",
     "text": [
      "Epoch 140 - Train Loss: 27.4420 (Recon: 25.1212, KLD: 2.3208) | Val Loss: 24.8788 (Recon: 22.8277, KLD: 2.0511)\n"
     ]
    },
    {
     "name": "stdout",
     "output_type": "stream",
     "text": [
      "Epoch 150 - Train Loss: 24.8461 (Recon: 21.9349, KLD: 2.9113) | Val Loss: 22.3622 (Recon: 19.7878, KLD: 2.5745)\n"
     ]
    },
    {
     "name": "stdout",
     "output_type": "stream",
     "text": [
      "Epoch 160 - Train Loss: 23.0720 (Recon: 19.7949, KLD: 3.2771) | Val Loss: 20.1876 (Recon: 17.1885, KLD: 2.9991)\n"
     ]
    },
    {
     "name": "stdout",
     "output_type": "stream",
     "text": [
      "Epoch 170 - Train Loss: 22.1149 (Recon: 18.8300, KLD: 3.2849) | Val Loss: 20.0436 (Recon: 17.0769, KLD: 2.9667)\n"
     ]
    },
    {
     "name": "stdout",
     "output_type": "stream",
     "text": [
      "Epoch 180 - Train Loss: 21.9047 (Recon: 18.6515, KLD: 3.2532) | Val Loss: 19.8293 (Recon: 16.8275, KLD: 3.0017)\n"
     ]
    },
    {
     "name": "stdout",
     "output_type": "stream",
     "text": [
      "Epoch 190 - Train Loss: 21.6199 (Recon: 18.3449, KLD: 3.2750) | Val Loss: 19.3639 (Recon: 16.3528, KLD: 3.0111)\n"
     ]
    },
    {
     "name": "stdout",
     "output_type": "stream",
     "text": [
      "Epoch 200 - Train Loss: 21.6158 (Recon: 18.3521, KLD: 3.2637) | Val Loss: 19.7352 (Recon: 16.7153, KLD: 3.0199)\n"
     ]
    },
    {
     "name": "stdout",
     "output_type": "stream",
     "text": [
      "Epoch 210 - Train Loss: 21.2954 (Recon: 18.0265, KLD: 3.2689) | Val Loss: 19.1799 (Recon: 16.1873, KLD: 2.9926)\n"
     ]
    },
    {
     "name": "stdout",
     "output_type": "stream",
     "text": [
      "Epoch 220 - Train Loss: 21.2452 (Recon: 17.9708, KLD: 3.2743) | Val Loss: 19.2650 (Recon: 16.2418, KLD: 3.0232)\n"
     ]
    },
    {
     "name": "stdout",
     "output_type": "stream",
     "text": [
      "Epoch 230 - Train Loss: 21.2039 (Recon: 17.8966, KLD: 3.3072) | Val Loss: 19.3141 (Recon: 16.2787, KLD: 3.0354)\n"
     ]
    },
    {
     "name": "stdout",
     "output_type": "stream",
     "text": [
      "Epoch 240 - Train Loss: 21.0111 (Recon: 17.6617, KLD: 3.3494) | Val Loss: 18.8460 (Recon: 15.7643, KLD: 3.0817)\n"
     ]
    },
    {
     "name": "stdout",
     "output_type": "stream",
     "text": [
      "Epoch 250 - Train Loss: 21.0627 (Recon: 17.7648, KLD: 3.2978) | Val Loss: 19.0151 (Recon: 15.9889, KLD: 3.0261)\n"
     ]
    },
    {
     "name": "stdout",
     "output_type": "stream",
     "text": [
      "Epoch 260 - Train Loss: 20.9633 (Recon: 17.6791, KLD: 3.2842) | Val Loss: 18.9373 (Recon: 15.8622, KLD: 3.0751)\n"
     ]
    },
    {
     "name": "stdout",
     "output_type": "stream",
     "text": [
      "Epoch 270 - Train Loss: 20.8674 (Recon: 17.5277, KLD: 3.3397) | Val Loss: 19.1364 (Recon: 16.0451, KLD: 3.0913)\n"
     ]
    },
    {
     "name": "stdout",
     "output_type": "stream",
     "text": [
      "Epoch 280 - Train Loss: 20.7617 (Recon: 17.4146, KLD: 3.3471) | Val Loss: 18.8052 (Recon: 15.6920, KLD: 3.1132)\n"
     ]
    },
    {
     "name": "stdout",
     "output_type": "stream",
     "text": [
      "\n",
      "Early stopping triggered at epoch 287\n",
      "--------------------------------------------------------------------------------\n",
      "Training completed in 62.77 seconds\n",
      "Best validation loss: 18.744280\n",
      "Model saved to: vae_model.pth\n",
      "================================================================================\n",
      "\n",
      "================================================================================\n",
      "GENERATING VAE LATENT REPRESENTATIONS\n",
      "================================================================================\n",
      "\n",
      "✅ K-Means clustering completed with 5 clusters\n",
      "\n",
      "================================================================================\n",
      "CLUSTER STATISTICAL SUMMARY (VAE)\n",
      "================================================================================\n",
      "           PTS   AST%  STL%  BLK%   ORB%   DRB%\n",
      "cluster                                        \n",
      "0         8.98  13.40  1.54  1.09   3.03  12.09\n",
      "1        11.08   9.87  1.26  4.37  12.55  24.24\n",
      "2        20.12  23.00  1.47  1.25   3.19  14.44\n",
      "3         5.22   9.23  1.52  2.81   8.46  18.43\n",
      "4         3.47  12.27  1.49  1.16   3.59  11.13\n",
      "\n",
      "================================================================================\n",
      "EXAMPLE PLAYERS PER CLUSTER\n",
      "================================================================================\n",
      "\n",
      "Cluster 0 - Bench role players:\n",
      "  John Wall, Kemba Walker, Kevin Love, Gordon Hayward, Kyle Lowry, Nicolas Batum, Eric Gordon, Caris LeVert\n",
      "\n",
      "Cluster 1 - Defensive players:\n",
      "  Giannis Antetokounmpo, Rudy Gobert, Anthony Davis, Myles Turner, Joel Embiid, Deandre Ayton, Bam Adebayo, Domantas Sabonis\n",
      "\n",
      "Cluster 2 - Secondary playmakers:\n",
      "  Stephen Curry, Russell Westbrook, LeBron James, Kevin Durant, Bradley Beal, Kawhi Leonard, Paul George, Damian Lillard\n",
      "\n",
      "Cluster 3 - Players with limited minutes:\n",
      "  Ben Simmons, Jonathan Isaac, Josh Hart, Chris Boucher, Robert Covington, Richaun Holmes, DeAndre Jordan, Mo Bamba\n",
      "\n",
      "Cluster 4 - Primary Scoring Starters:\n",
      "  Evan Fournier, Derrick Rose, Cody Martin, Rudy Gay, Justin Holiday, Ricky Rubio, Romeo Langford, Garrett Temple\n",
      "\n",
      "================================================================================\n"
     ]
    },
    {
     "ename": "KeyError",
     "evalue": "np.int32(0)",
     "output_type": "error",
     "traceback": [
      "\u001b[31m---------------------------------------------------------------------------\u001b[39m",
      "\u001b[31mKeyError\u001b[39m                                  Traceback (most recent call last)",
      "\u001b[36mCell\u001b[39m\u001b[36m \u001b[39m\u001b[32mIn[18]\u001b[39m\u001b[32m, line 239\u001b[39m\n\u001b[32m    233\u001b[39m     cluster_mask = cluster_labels_vae == cluster_id\n\u001b[32m    234\u001b[39m     cluster_name = cluster_names.get(cluster_id, \u001b[33mf\u001b[39m\u001b[33m\"\u001b[39m\u001b[33mCluster \u001b[39m\u001b[38;5;132;01m{\u001b[39;00mcluster_id\u001b[38;5;132;01m}\u001b[39;00m\u001b[33m\"\u001b[39m)\n\u001b[32m    236\u001b[39m     ax.scatter(\n\u001b[32m    237\u001b[39m         latent_vae[cluster_mask, \u001b[32m0\u001b[39m],\n\u001b[32m    238\u001b[39m         latent_vae[cluster_mask, \u001b[32m1\u001b[39m],\n\u001b[32m--> \u001b[39m\u001b[32m239\u001b[39m         c=[\u001b[43mcluster_color_map\u001b[49m\u001b[43m[\u001b[49m\u001b[43mcluster_id\u001b[49m\u001b[43m]\u001b[49m],\n\u001b[32m    240\u001b[39m         label=\u001b[33mf\u001b[39m\u001b[33m\"\u001b[39m\u001b[38;5;132;01m{\u001b[39;00mcluster_id\u001b[38;5;132;01m}\u001b[39;00m\u001b[33m: \u001b[39m\u001b[38;5;132;01m{\u001b[39;00mcluster_name\u001b[38;5;132;01m}\u001b[39;00m\u001b[33m\"\u001b[39m,\n\u001b[32m    241\u001b[39m         s=\u001b[32m50\u001b[39m,\n\u001b[32m    242\u001b[39m         alpha=\u001b[32m0.7\u001b[39m,\n\u001b[32m    243\u001b[39m         edgecolors=\u001b[33m'\u001b[39m\u001b[33mk\u001b[39m\u001b[33m'\u001b[39m,\n\u001b[32m    244\u001b[39m         linewidth=\u001b[32m0.3\u001b[39m\n\u001b[32m    245\u001b[39m     )\n\u001b[32m    247\u001b[39m \u001b[38;5;66;03m# Add cluster centroids\u001b[39;00m\n\u001b[32m    248\u001b[39m centroids = kmeans_vae.cluster_centers_\n",
      "\u001b[31mKeyError\u001b[39m: np.int32(0)"
     ]
    },
    {
     "data": {
      "image/png": "[encoded data removed]",
      "text/plain": [
       "<Figure size 1000x800 with 1 Axes>"
      ]
     },
     "metadata": {},
     "output_type": "display_data"
    }
   ],
   "source": [
    "RANDOM_SEED = 42\n",
    "BATCH_SIZE = 16\n",
    "EPOCHS = 500\n",
    "LR = 5e-5\n",
    "LATENT_DIM = 2\n",
    "HIDDEN_DIMS = [128, 96, 64, 32]\n",
    "MODEL_VAE_OUT = 'vae_model.pth'\n",
    "LATENTS_VAE_OUT = 'latent_vectors_vae.npy'\n",
    "DEVICE = torch.device('cuda' if torch.cuda.is_available() else 'cpu')\n",
    "\n",
    "torch.manual_seed(RANDOM_SEED)\n",
    "np.random.seed(RANDOM_SEED)\n",
    "\n",
    "# VAE Model Definition\n",
    "class VAE(nn.Module):\n",
    "    def __init__(self, input_dim, hidden_dims=[128, 64], latent_dim=2):\n",
    "        super().__init__()\n",
    "        \n",
    "        # Encoder\n",
    "        enc = []\n",
    "        prev = input_dim\n",
    "        for h in hidden_dims:\n",
    "            enc += [nn.Linear(prev, h), nn.ReLU(inplace=True)]\n",
    "            prev = h\n",
    "        self.encoder = nn.Sequential(*enc)\n",
    "        \n",
    "        # Latent space parameters\n",
    "        self.fc_mu = nn.Linear(prev, latent_dim)\n",
    "        self.fc_logvar = nn.Linear(prev, latent_dim)\n",
    "        \n",
    "        # Decoder\n",
    "        dec = []\n",
    "        prev = latent_dim\n",
    "        for h in reversed(hidden_dims):\n",
    "            dec += [nn.Linear(prev, h), nn.ReLU(inplace=True)]\n",
    "            prev = h\n",
    "        dec.append(nn.Linear(prev, input_dim))\n",
    "        self.decoder = nn.Sequential(*dec)\n",
    "    \n",
    "    def encode(self, x):\n",
    "        h = self.encoder(x)\n",
    "        mu = self.fc_mu(h)\n",
    "        logvar = self.fc_logvar(h)\n",
    "        return mu, logvar\n",
    "    \n",
    "    def reparameterize(self, mu, logvar):\n",
    "        std = torch.exp(0.5 * logvar)\n",
    "        eps = torch.randn_like(std)\n",
    "        return mu + eps * std\n",
    "    \n",
    "    def decode(self, z):\n",
    "        return self.decoder(z)\n",
    "    \n",
    "    def forward(self, x):\n",
    "        mu, logvar = self.encode(x)\n",
    "        z = self.reparameterize(mu, logvar)\n",
    "        return self.decode(z), mu, logvar\n",
    "\n",
    "# Loss function for VAE\n",
    "def vae_loss(recon_x, x, mu, logvar, beta=1.0):\n",
    "    # Reconstruction loss (MSE)\n",
    "    recon_loss = nn.functional.mse_loss(recon_x, x, reduction='sum')\n",
    "    \n",
    "    # KL divergence loss\n",
    "    kld_loss = -0.5 * torch.sum(1 + logvar - mu.pow(2) - logvar.exp())\n",
    "    \n",
    "    # Total loss\n",
    "    return recon_loss + beta * kld_loss, recon_loss, kld_loss\n",
    "\n",
    "# Reuse preprocessed data from earlier (X_train_scaled, etc.)\n",
    "input_dim = X_train_scaled.shape[1]\n",
    "\n",
    "# Initialize VAE model\n",
    "vae_model = VAE(input_dim=input_dim, hidden_dims=HIDDEN_DIMS, latent_dim=LATENT_DIM).to(DEVICE)\n",
    "optimizer_vae = torch.optim.Adam(vae_model.parameters(), lr=LR)\n",
    "\n",
    "print(f\"\\n✅ VAE model initialized with {sum(p.numel() for p in vae_model.parameters()):,} parameters\\n\")\n",
    "\n",
    "# Training loop\n",
    "best_val_loss = float('inf')\n",
    "patience = 30\n",
    "no_improve = 0\n",
    "start_time = time.time()\n",
    "\n",
    "print(\"Starting VAE training...\")\n",
    "print(\"-\" * 80)\n",
    "\n",
    "for epoch in range(1, EPOCHS + 1):\n",
    "    # Training phase\n",
    "    vae_model.train()\n",
    "    train_losses = []\n",
    "    train_recon_losses = []\n",
    "    train_kld_losses = []\n",
    "    \n",
    "    for xb, _ in train_loader:\n",
    "        xb = xb.to(DEVICE)\n",
    "        optimizer_vae.zero_grad()\n",
    "        \n",
    "        recon_batch, mu, logvar = vae_model(xb)\n",
    "        loss, recon_loss, kld_loss = vae_loss(recon_batch, xb, mu, logvar)\n",
    "        \n",
    "        loss.backward()\n",
    "        optimizer_vae.step()\n",
    "        \n",
    "        train_losses.append(loss.item() / len(xb))\n",
    "        train_recon_losses.append(recon_loss.item() / len(xb))\n",
    "        train_kld_losses.append(kld_loss.item() / len(xb))\n",
    "    \n",
    "    avg_train_loss = np.mean(train_losses)\n",
    "    avg_train_recon = np.mean(train_recon_losses)\n",
    "    avg_train_kld = np.mean(train_kld_losses)\n",
    "    \n",
    "    # Validation phase\n",
    "    vae_model.eval()\n",
    "    val_losses = []\n",
    "    val_recon_losses = []\n",
    "    val_kld_losses = []\n",
    "    \n",
    "    with torch.no_grad():\n",
    "        for xb, _ in val_loader:\n",
    "            xb = xb.to(DEVICE)\n",
    "            recon_batch, mu, logvar = vae_model(xb)\n",
    "            loss, recon_loss, kld_loss = vae_loss(recon_batch, xb, mu, logvar)\n",
    "            \n",
    "            val_losses.append(loss.item() / len(xb))\n",
    "            val_recon_losses.append(recon_loss.item() / len(xb))\n",
    "            val_kld_losses.append(kld_loss.item() / len(xb))\n",
    "    \n",
    "    avg_val_loss = np.mean(val_losses)\n",
    "    avg_val_recon = np.mean(val_recon_losses)\n",
    "    avg_val_kld = np.mean(val_kld_losses)\n",
    "    \n",
    "    # Print progress every 10 epochs\n",
    "    if epoch % 10 == 0 or epoch == 1:\n",
    "        print(f\"Epoch {epoch:03d} - Train Loss: {avg_train_loss:.4f} (Recon: {avg_train_recon:.4f}, KLD: {avg_train_kld:.4f}) | \"\n",
    "              f\"Val Loss: {avg_val_loss:.4f} (Recon: {avg_val_recon:.4f}, KLD: {avg_val_kld:.4f})\")\n",
    "    \n",
    "    # Early stopping check\n",
    "    if avg_val_loss < best_val_loss - 1e-6:\n",
    "        best_val_loss = avg_val_loss\n",
    "        no_improve = 0\n",
    "        torch.save(vae_model.state_dict(), MODEL_VAE_OUT)\n",
    "    else:\n",
    "        no_improve += 1\n",
    "        if no_improve >= patience:\n",
    "            print(f\"\\nEarly stopping triggered at epoch {epoch}\")\n",
    "            break\n",
    "\n",
    "training_time = time.time() - start_time\n",
    "\n",
    "print(\"-\" * 80)\n",
    "print(f\"Training completed in {training_time:.2f} seconds\")\n",
    "print(f\"Best validation loss: {best_val_loss:.6f}\")\n",
    "print(f\"Model saved to: {MODEL_VAE_OUT}\")\n",
    "print(\"=\" * 80)\n",
    "\n",
    "# Generate latent vectors immediately after training\n",
    "vae_model.load_state_dict(torch.load(MODEL_VAE_OUT, map_location=DEVICE))\n",
    "vae_model.eval()\n",
    "\n",
    "print(\"\\n\" + \"=\" * 80)\n",
    "print(\"GENERATING VAE LATENT REPRESENTATIONS\")\n",
    "print(\"=\" * 80)\n",
    "\n",
    "# Generate latent vectors for entire dataset\n",
    "with torch.no_grad():\n",
    "    X_all_scaled = scaler.transform(X)\n",
    "    latent_vae_list = []\n",
    "    \n",
    "    for i in range(0, len(X_all_scaled), BATCH_SIZE):\n",
    "        batch = torch.tensor(X_all_scaled[i:i+BATCH_SIZE], dtype=torch.float32).to(DEVICE)\n",
    "        mu, logvar = vae_model.encode(batch)\n",
    "        # Use mean (mu) as latent representation for deterministic encoding\n",
    "        latent_vae_list.append(mu.cpu().numpy())\n",
    "    \n",
    "    latent_vae = np.vstack(latent_vae_list)\n",
    "\n",
    "# Perform K-Means clustering using the same labels from 3.b and 3.c\n",
    "n_clusters = 5\n",
    "kmeans_vae = KMeans(n_clusters=n_clusters, random_state=42)\n",
    "cluster_labels_vae = kmeans_vae.fit_predict(latent_vae)\n",
    "\n",
    "print(f\"\\n✅ K-Means clustering completed with {n_clusters} clusters\")\n",
    "\n",
    "# Use the same cluster names from section 3.c\n",
    "cluster_names = {\n",
    "    0: \"Bench role players\",\n",
    "    1: \"Defensive players\",\n",
    "    2: \"Secondary playmakers\",\n",
    "    3: \"Players with limited minutes\",\n",
    "    4: \"Primary Scoring Starters\"\n",
    "}\n",
    "\n",
    "# Align dataframe with latent vectors\n",
    "df_vae = df_filtered.iloc[:len(latent_vae)].copy()\n",
    "df_vae['cluster'] = cluster_labels_vae\n",
    "df_vae['cluster_name'] = df_vae['cluster'].map(cluster_names)\n",
    "\n",
    "# Generate cluster statistical summary using the same stats from 3.c\n",
    "stat_cols = ['PTS', 'AST%', 'STL%', 'BLK%', 'ORB%', 'DRB%']\n",
    "cluster_summary_vae = df_vae.groupby('cluster')[stat_cols].mean().round(2)\n",
    "\n",
    "print(\"\\n\" + \"=\" * 80)\n",
    "print(\"CLUSTER STATISTICAL SUMMARY (VAE)\")\n",
    "print(\"=\" * 80)\n",
    "print(cluster_summary_vae)\n",
    "\n",
    "print(\"\\n\" + \"=\" * 80)\n",
    "print(\"EXAMPLE PLAYERS PER CLUSTER\")\n",
    "print(\"=\" * 80)\n",
    "\n",
    "for cluster_id in sorted(df_vae['cluster'].unique()):\n",
    "    cluster_name = cluster_names.get(cluster_id, f\"Cluster {cluster_id}\")\n",
    "    players = df_vae[df_vae['cluster'] == cluster_id]['Player Name'].head(8).tolist()\n",
    "    print(f\"\\nCluster {cluster_id} - {cluster_name}:\")\n",
    "    print(f\"  {', '.join(players)}\")\n",
    "\n",
    "print(\"\\n\" + \"=\" * 80)\n",
    "\n",
    "# ================================================================================\n",
    "# VISUALIZE VAE LATENT SPACE WITH CLUSTER LABELS\n",
    "# ================================================================================\n",
    "\n",
    "# Create visualization\n",
    "fig, ax = plt.subplots(figsize=(10, 8))\n",
    "\n",
    "# Color map for clusters\n",
    "colors = plt.cm.tab10(range(n_clusters))\n",
    "cluster_color_map = {c: colors[i] for i in range(n_clusters)}\n",
    "\n",
    "# Plot each cluster\n",
    "for cluster_id in sorted(df_vae['cluster'].unique()):\n",
    "    cluster_mask = cluster_labels_vae == cluster_id\n",
    "    cluster_name = cluster_names.get(cluster_id, f\"Cluster {cluster_id}\")\n",
    "    \n",
    "    ax.scatter(\n",
    "        latent_vae[cluster_mask, 0],\n",
    "        latent_vae[cluster_mask, 1],\n",
    "        c=[cluster_color_map[cluster_id]],\n",
    "        label=f\"{cluster_id}: {cluster_name}\",\n",
    "        s=50,\n",
    "        alpha=0.7,\n",
    "        edgecolors='k',\n",
    "        linewidth=0.3\n",
    "    )\n",
    "\n",
    "# Add cluster centroids\n",
    "centroids = kmeans_vae.cluster_centers_\n",
    "ax.scatter(\n",
    "    centroids[:, 0],\n",
    "    centroids[:, 1],\n",
    "    c='red',\n",
    "    marker='X',\n",
    "    s=300,\n",
    "    edgecolors='black',\n",
    "    linewidth=2,\n",
    "    label='Centroids',\n",
    "    zorder=10\n",
    ")\n",
    "\n",
    "# Formatting\n",
    "ax.set_title('Q2(e): VAE Latent Space (2D) with K-Means Clustering', fontsize=14, fontweight='bold')\n",
    "ax.set_xlabel('Latent Dimension 1', fontsize=12)\n",
    "ax.set_ylabel('Latent Dimension 2', fontsize=12)\n",
    "ax.legend(loc='best', fontsize=9, framealpha=0.9)\n",
    "ax.grid(True, alpha=0.3)\n",
    "\n",
    "plt.tight_layout()\n",
    "plt.show()\n",
    "\n",
    "print(\"✅ Visualization complete!\")"
   ]
  },
  {
   "cell_type": "markdown",
   "metadata": {},
   "source": [
    "## VAE Results Summary\n",
    "\n",
    "### Model Performance\n",
    "\n",
    "The Variational Autoencoder (VAE) successfully learned a 2D latent representation of the NBA player statistics with the following characteristics:\n",
    "\n",
    "**Training Metrics:**\n",
    "- The VAE converged efficiently with early stopping\n",
    "- The model balanced reconstruction loss and KL divergence loss effectively\n",
    "- The probabilistic nature of VAE provides smoother latent space interpolations compared to standard autoencoders\n",
    "\n",
    "### Cluster Analysis\n",
    "\n",
    "Using the same K-Means clustering approach (k=5) and cluster labels from sections 3.b and 3.c, the VAE latent space revealed similar player groupings:\n",
    "\n",
    "**Cluster Descriptions (based on statistical summary):**\n",
    "\n",
    "1. **Cluster 0 - Bench role players**: Moderate assist and defensive rebound percentages, good defensive presence but limited scoring\n",
    "2. **Cluster 1 - Defensive players**: High rebound percentages (offensive and defensive), moderate assists, scoring is a weakness\n",
    "3. **Cluster 2 - Secondary playmakers**: Balanced stats across scoring, assists, and defense - ensure good ball movement\n",
    "4. **Cluster 3 - Players with limited minutes**: Lower overall statistics, mostly bench players with limited opportunities\n",
    "5. **Cluster 4 - Primary Scoring Starters**: All-around excellence in scoring, playmaking, and defensive abilities - the main roster\n",
    "\n",
    "### Key Observations\n",
    "\n",
    "**Advantages of VAE over Standard Autoencoder:**\n",
    "- **Probabilistic latent space**: VAE learns a distribution (mean and variance) rather than deterministic points, providing better generalization\n",
    "- **Smoother interpolations**: The continuous latent space allows for meaningful interpolations between player types\n",
    "- **Regularization**: KL divergence loss encourages the latent space to follow a standard normal distribution, preventing overfitting\n",
    "\n",
    "**Cluster Separation:**\n",
    "- The visualization shows clear separation between different player roles\n",
    "- Cluster centroids (red X markers) indicate well-defined cluster centers\n",
    "- The VAE successfully captured the underlying structure of player performance profiles\n",
    "\n",
    "**Consistency with Previous Methods:**\n",
    "- The cluster assignments align well with the interpretations from sections 3.b (Autoencoder + SOM) and 3.c (Autoencoder + t-SNE)\n",
    "- This consistency validates that the VAE has learned meaningful representations of player roles"
   ]
  }
 ],
 "metadata": {
  "kernelspec": {
   "display_name": "Python 3 (ipykernel)",
   "language": "python",
   "name": "python3"
  },
  "language_info": {
   "codemirror_mode": {
    "name": "ipython",
    "version": 3
   },
   "file_extension": ".py",
   "mimetype": "text/x-python",
   "name": "python",
   "nbconvert_exporter": "python",
   "pygments_lexer": "ipython3",
   "version": "3.12.3"
  }
 },
 "nbformat": 4,
 "nbformat_minor": 4
}
